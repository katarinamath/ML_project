{
 "cells": [
  {
   "cell_type": "code",
   "execution_count": 1,
   "id": "cd464575",
   "metadata": {},
   "outputs": [],
   "source": [
    "%store -r X_final"
   ]
  },
  {
   "cell_type": "code",
   "execution_count": 2,
   "id": "b2a019e4",
   "metadata": {},
   "outputs": [],
   "source": [
    "%store -r y_classification"
   ]
  },
  {
   "cell_type": "code",
   "execution_count": 3,
   "id": "88fdfc84",
   "metadata": {},
   "outputs": [],
   "source": [
    "import numpy as np\n",
    "from matplotlib import pyplot as plt\n",
    "from sklearn import model_selection, linear_model, metrics, preprocessing, pipeline, svm, neighbors"
   ]
  },
  {
   "cell_type": "code",
   "execution_count": 4,
   "id": "0df4b258",
   "metadata": {},
   "outputs": [],
   "source": [
    "# preimenujmo X_final u X, a y_classification koji je tip Series prebacimo u niz, zato sto je i X visedimenzioni niz, \n",
    "# pa da budu istog tipa\n",
    "# to nam je sad skup podataka za modele klasifikacije\n",
    "X = X_final\n",
    "y = y_classification.to_numpy()"
   ]
  },
  {
   "cell_type": "code",
   "execution_count": 5,
   "id": "92706526",
   "metadata": {},
   "outputs": [],
   "source": [
    "np.random.seed(7)"
   ]
  },
  {
   "cell_type": "markdown",
   "id": "7dfb98c4",
   "metadata": {},
   "source": [
    "# Podela skupa podataka "
   ]
  },
  {
   "cell_type": "code",
   "execution_count": 6,
   "id": "9fa884b3",
   "metadata": {},
   "outputs": [],
   "source": [
    "# stratifikujemo po y da bismo imali u oba skupa jednak odnos instanci obe klase\n",
    "X_train_and_validation, X_test, y_train_and_validation, y_test = \\\n",
    "    model_selection.train_test_split(X, y, test_size=0.2, stratify=y, random_state=7)"
   ]
  },
  {
   "cell_type": "code",
   "execution_count": 7,
   "id": "e44e81c9",
   "metadata": {},
   "outputs": [
    {
     "name": "stdout",
     "output_type": "stream",
     "text": [
      "U skupu za treniranje i validaciju imamo  4422 instanci.\n",
      "U skupu za testiranje imamo  1106 instanci.\n"
     ]
    }
   ],
   "source": [
    "print('U skupu za treniranje i validaciju imamo ', X_train_and_validation.shape[0], 'instanci.')\n",
    "print('U skupu za testiranje imamo ', X_test.shape[0], 'instanci.')"
   ]
  },
  {
   "cell_type": "markdown",
   "id": "be2e6441",
   "metadata": {},
   "source": [
    "# Logisticka regresija"
   ]
  },
  {
   "cell_type": "code",
   "execution_count": 8,
   "id": "fa8a76de",
   "metadata": {},
   "outputs": [],
   "source": [
    "# ovde nemamo hiperparametre, pa model treniramo na skupu za trening i validaciju, a evaluiramo na skupu za testiranje"
   ]
  },
  {
   "cell_type": "code",
   "execution_count": 9,
   "id": "c39d0dec",
   "metadata": {},
   "outputs": [],
   "source": [
    "# prvo treba da skaliramo numericke atribute, koji se nalaze u prve 4 kolone u X"
   ]
  },
  {
   "cell_type": "code",
   "execution_count": 10,
   "id": "a1566144",
   "metadata": {},
   "outputs": [],
   "source": [
    "scaler = preprocessing.StandardScaler()\n",
    "scaler.fit(X_train_and_validation[:, 0:4])\n",
    "X_train_and_validation[:, 0:4] = scaler.transform(X_train_and_validation[:, 0:4])\n",
    "X_test[:, 0:4] = scaler.transform(X_test[:, 0:4])"
   ]
  },
  {
   "cell_type": "code",
   "execution_count": 11,
   "id": "4bef0d4d",
   "metadata": {},
   "outputs": [],
   "source": [
    "# model\n",
    "logistic_regression = linear_model.LogisticRegression(max_iter=1000)"
   ]
  },
  {
   "cell_type": "code",
   "execution_count": 12,
   "id": "5758a97e",
   "metadata": {},
   "outputs": [
    {
     "data": {
      "text/plain": [
       "LogisticRegression(max_iter=1000)"
      ]
     },
     "execution_count": 12,
     "metadata": {},
     "output_type": "execute_result"
    }
   ],
   "source": [
    "# treniranje modela \n",
    "# nije iskonvergiralo ni bez max_iter, ni sa 500, pa je stavljeno 1000\n",
    "logistic_regression.fit(X_train_and_validation, y_train_and_validation)"
   ]
  },
  {
   "cell_type": "code",
   "execution_count": 13,
   "id": "48121793",
   "metadata": {},
   "outputs": [],
   "source": [
    "# ciljna funkcija logisticke regresije je zadata sigmoidnom funkcijom\n",
    "# ako je vrednost ciljne funkcije veca od praga (podrazumevan prag je 0.5), predvidja se pozitivna klasa, a ako je manja od\n",
    "# praga, predvidja se negativna klasa"
   ]
  },
  {
   "cell_type": "code",
   "execution_count": 14,
   "id": "5beaf6a2",
   "metadata": {},
   "outputs": [],
   "source": [
    "# prag moze biti izmedju 0 i 1\n",
    "# variranjem praga mozemo da kontrolisemo relativne performanse u tacnosti, senzitivnosti i specificnosti\n",
    "# zato cemo varirati prag"
   ]
  },
  {
   "cell_type": "code",
   "execution_count": 15,
   "id": "0ba5c063",
   "metadata": {},
   "outputs": [],
   "source": [
    "# za metriku cemo racunati tacnost, senzitivnost (udeo pravih pozitivnih instanci) i specificnost (udeo pravih negativnih \n",
    "# instanci)\n",
    "# accuracy = (TP+TN)/(TP+TN+FP+FN)\n",
    "# sensitivity = TP/(TP+FN)\n",
    "# specificity = TN/(TN+FP) "
   ]
  },
  {
   "cell_type": "code",
   "execution_count": 16,
   "id": "36909ac4",
   "metadata": {},
   "outputs": [],
   "source": [
    "# razlicite vrednosti praga\n",
    "# ako je vrednost ciljne funkcije manja od praga, predvidja se negativna klasa\n",
    "# ako je veca, predvidja se pozitivna klasa\n",
    "pragovi = np.array([0, 0.1, 0.2, 0.3, 0.4, 0.5, 0.6, 0.7, 0.8, 0.9, 1.0])"
   ]
  },
  {
   "cell_type": "code",
   "execution_count": 17,
   "id": "3de75f51",
   "metadata": {},
   "outputs": [
    {
     "data": {
      "text/plain": [
       "array([[0.43379349, 0.56620651],\n",
       "       [0.87358722, 0.12641278],\n",
       "       [0.11250804, 0.88749196],\n",
       "       ...,\n",
       "       [0.83831127, 0.16168873],\n",
       "       [0.50217096, 0.49782904],\n",
       "       [0.63498973, 0.36501027]])"
      ]
     },
     "execution_count": 17,
     "metadata": {},
     "output_type": "execute_result"
    }
   ],
   "source": [
    "#  funkcije predict_proba daje ocene verovatnoća pripadnosti pozitivnoj tj. negativnoj klasi, za svaku instancu posebno\n",
    "logistic_regression.predict_proba(X_test)"
   ]
  },
  {
   "cell_type": "code",
   "execution_count": 18,
   "id": "74e89537",
   "metadata": {},
   "outputs": [
    {
     "data": {
      "text/plain": [
       "array([0, 1])"
      ]
     },
     "execution_count": 18,
     "metadata": {},
     "output_type": "execute_result"
    }
   ],
   "source": [
    "logistic_regression.classes_"
   ]
  },
  {
   "cell_type": "code",
   "execution_count": 19,
   "id": "de8e812a",
   "metadata": {},
   "outputs": [],
   "source": [
    "# vidimo da je levo negativna klasa, a desno pozitivna\n",
    "# zato nam je izlaz funkcije predict_proba matrica cija je prva kolona verovatnoca da instance pripadaju negativnoj klasi,\n",
    "# a druga kolona verovatnoca da pripadaju pozitivnoj klasi"
   ]
  },
  {
   "cell_type": "code",
   "execution_count": 20,
   "id": "34921290",
   "metadata": {},
   "outputs": [],
   "source": [
    "# sada cemo za razlicite vrednosti praga racunati gore pomenute metrike\n",
    "accuracy_scores = []\n",
    "sensitivity_scores = []\n",
    "specificity_scores = []\n",
    "\n",
    "for prag in pragovi:\n",
    "    # gledamo da li je verovatnoca pripadanja pozitivnoj klasi veca od praga\n",
    "    # ako jeste, funkcija astype(int) vraca vrednost 1, a ako nije, vraca vrednost 0\n",
    "    y_predicted = (logistic_regression.predict_proba(X_test)[:,1] > prag).astype(int)\n",
    "    \n",
    "    # sada nam trebaju vrednosti TN, FP, FN, TP\n",
    "    # njih nalazimo u matrici konfuzije (samo cemo je poravnati u vektor)\n",
    "    TN, FP, FN, TP = metrics.confusion_matrix(y_test, y_predicted).ravel()\n",
    "\n",
    "    accuracy = (TP+TN)/(TP+TN+FP+FN)\n",
    "    accuracy_scores.append(accuracy)\n",
    "    sensitivity = TP/(TP+FN)\n",
    "    sensitivity_scores.append(sensitivity)\n",
    "    specificity = TN/(TN+FP)\n",
    "    specificity_scores.append(specificity)"
   ]
  },
  {
   "cell_type": "code",
   "execution_count": 21,
   "id": "1b3ee1d9",
   "metadata": {},
   "outputs": [],
   "source": [
    "sensitivity_scores = np.array(sensitivity_scores)\n",
    "specificity_scores = np.array(specificity_scores)"
   ]
  },
  {
   "cell_type": "code",
   "execution_count": 22,
   "id": "0f6e1ac8",
   "metadata": {},
   "outputs": [
    {
     "data": {
      "text/plain": [
       "array([[508, 117],\n",
       "       [124, 357]], dtype=int64)"
      ]
     },
     "execution_count": 22,
     "metadata": {},
     "output_type": "execute_result"
    }
   ],
   "source": [
    "# matrica konfuzije na skupu za test\n",
    "metrics.confusion_matrix(y_test, logistic_regression.predict(X_test))"
   ]
  },
  {
   "cell_type": "code",
   "execution_count": 23,
   "id": "54cef0e2",
   "metadata": {},
   "outputs": [
    {
     "name": "stdout",
     "output_type": "stream",
     "text": [
      "f1 score za obican model logisticke regresije: 0.748\n"
     ]
    }
   ],
   "source": [
    "logistic_regression_f1 = metrics.f1_score(y_test, logistic_regression.predict(X_test))\n",
    "print('f1 score za obican model logisticke regresije: %.3f' %logistic_regression_f1) "
   ]
  },
  {
   "cell_type": "code",
   "execution_count": 24,
   "id": "28032854",
   "metadata": {},
   "outputs": [],
   "source": [
    "logistic_regression_auc = metrics.auc(1 - specificity_scores, sensitivity_scores)"
   ]
  },
  {
   "cell_type": "code",
   "execution_count": 25,
   "id": "c49f378e",
   "metadata": {},
   "outputs": [
    {
     "name": "stdout",
     "output_type": "stream",
     "text": [
      "AUC za obican model logisticke regresije: 0.857\n"
     ]
    }
   ],
   "source": [
    "print('AUC za obican model logisticke regresije: %.3f' %logistic_regression_auc) "
   ]
  },
  {
   "cell_type": "code",
   "execution_count": 26,
   "id": "cc8b10e4",
   "metadata": {},
   "outputs": [],
   "source": [
    "# tacnost, senzitivnost i specificnost racunamo za prag 0.5 koji je po defaultu"
   ]
  },
  {
   "cell_type": "code",
   "execution_count": 27,
   "id": "6e322188",
   "metadata": {},
   "outputs": [
    {
     "name": "stdout",
     "output_type": "stream",
     "text": [
      "Tacnost za obican model logisticke regresije: 0.782\n"
     ]
    }
   ],
   "source": [
    "logistic_regression_accuracy = accuracy_scores[5]\n",
    "print('Tacnost za obican model logisticke regresije: %.3f' %logistic_regression_accuracy)  "
   ]
  },
  {
   "cell_type": "code",
   "execution_count": 28,
   "id": "35769446",
   "metadata": {},
   "outputs": [
    {
     "name": "stdout",
     "output_type": "stream",
     "text": [
      "Senzitivnost za obican model logisticke regresije: 0.742\n"
     ]
    }
   ],
   "source": [
    "logistic_regression_sensitivity = sensitivity_scores[5]\n",
    "print('Senzitivnost za obican model logisticke regresije: %.3f' %logistic_regression_sensitivity) "
   ]
  },
  {
   "cell_type": "code",
   "execution_count": 29,
   "id": "2fb68579",
   "metadata": {},
   "outputs": [
    {
     "name": "stdout",
     "output_type": "stream",
     "text": [
      "Specificnost za obican model logisticke regresije: 0.813\n"
     ]
    }
   ],
   "source": [
    "logistic_regression_specificity = specificity_scores[5]\n",
    "print('Specificnost za obican model logisticke regresije: %.3f' %logistic_regression_specificity) "
   ]
  },
  {
   "cell_type": "markdown",
   "id": "d54a307a",
   "metadata": {},
   "source": [
    "# Funkcija za unakrsnu validaciju "
   ]
  },
  {
   "cell_type": "code",
   "execution_count": 30,
   "id": "366a9d0b",
   "metadata": {},
   "outputs": [],
   "source": [
    "# kao i u slucaju regresije, i ovde cemo napraviti nasu funkciju za unakrsnu validaciju\n",
    "# funkcija radi unakrsnu validaciju sa 10 slojeva i racuna tacnost kao gresku "
   ]
  },
  {
   "cell_type": "code",
   "execution_count": 31,
   "id": "760a26a8",
   "metadata": {},
   "outputs": [],
   "source": [
    "def cross_validation (model, X_trainval, y_trainval):\n",
    "    \n",
    "    accuracy_scores = []\n",
    "    kf = model_selection.KFold(n_splits=10)\n",
    "    \n",
    "    for train_indexes, validation_indexes in kf.split(X_trainval, y_trainval):\n",
    "        # pravimo skup za trening i za validaciju\n",
    "        X_train = X_trainval[train_indexes]\n",
    "        y_train = y_trainval[train_indexes]\n",
    "        X_validation = X_trainval[validation_indexes]\n",
    "        y_validation = y_trainval[validation_indexes]\n",
    "        \n",
    "        # skaliramo \n",
    "        scaler = preprocessing.StandardScaler()\n",
    "        scaler.fit(X_train[:, 0:4])\n",
    "        X_train[:, 0:4] = scaler.transform(X_train[:, 0:4])\n",
    "        X_validation[:, 0:4] = scaler.transform(X_validation[:, 0:4])\n",
    "        \n",
    "        # obucavanje modela\n",
    "        model.fit(X_train, y_train)\n",
    "        \n",
    "        # evaluacija na skupu za validaciju\n",
    "        y_val_predicted = model.predict(X_validation)\n",
    "        accuracy = metrics.accuracy_score(y_validation, y_val_predicted)\n",
    "        \n",
    "        accuracy_scores.append(accuracy)\n",
    "        return accuracy_scores"
   ]
  },
  {
   "cell_type": "code",
   "execution_count": null,
   "id": "247baf98",
   "metadata": {},
   "outputs": [],
   "source": []
  },
  {
   "cell_type": "markdown",
   "id": "c139e0db",
   "metadata": {},
   "source": [
    "# Logisticka regresija sa l2 regularizacijom (ridge)"
   ]
  },
  {
   "cell_type": "code",
   "execution_count": 32,
   "id": "d92518cb",
   "metadata": {},
   "outputs": [],
   "source": [
    "X_train_and_validation, X_test, y_train_and_validation, y_test = \\\n",
    "    model_selection.train_test_split(X, y, test_size=0.2, stratify=y, random_state=7)"
   ]
  },
  {
   "cell_type": "code",
   "execution_count": 33,
   "id": "cd23359f",
   "metadata": {},
   "outputs": [],
   "source": [
    "# imamo regularizacioni parametar alpha\n",
    "alphas = np.array([0.001, 0.01, 0.1, 1.0, 10.0, 100.0, 1000.0])"
   ]
  },
  {
   "cell_type": "code",
   "execution_count": 34,
   "id": "52a6e2ae",
   "metadata": {},
   "outputs": [],
   "source": [
    "# kada radimo l2 regulazizaciju, postavljamo argumente penalty='l2' i C=1/alpha"
   ]
  },
  {
   "cell_type": "code",
   "execution_count": 35,
   "id": "54017141",
   "metadata": {},
   "outputs": [],
   "source": [
    "Cs = 1/alphas"
   ]
  },
  {
   "cell_type": "code",
   "execution_count": 36,
   "id": "1e0ec0ea",
   "metadata": {},
   "outputs": [],
   "source": [
    "# sada unakrsnom validacijom biramo optimalni parametar \n",
    "optimal_score = 0\n",
    "optimal_C = 0\n",
    "validation_scores = []\n",
    "\n",
    "for C in Cs:\n",
    "    model = linear_model.LogisticRegression(penalty='l2', C=C, max_iter=2000)\n",
    "    scores = cross_validation(model, X_train_and_validation, y_train_and_validation)\n",
    "    score = sum(scores)/len(scores)\n",
    "    validation_scores.append(score)\n",
    "    \n",
    "    if score > optimal_score:\n",
    "        optimal_score = score\n",
    "        optimal_C = C"
   ]
  },
  {
   "cell_type": "code",
   "execution_count": 37,
   "id": "fce09672",
   "metadata": {},
   "outputs": [
    {
     "data": {
      "image/png": "[encoded data removed]",
      "text/plain": [
       "<Figure size 432x288 with 1 Axes>"
      ]
     },
     "metadata": {
      "needs_background": "light"
     },
     "output_type": "display_data"
    }
   ],
   "source": [
    "# crtamo grafika tacnosti na validacionom skupu za razlicite vrednosti parametra C=1/alpha\n",
    "plt.plot(Cs, validation_scores)\n",
    "plt.title('Tacnost za razlicite izbore parametra dobijene unakrsnom validacijom')\n",
    "plt.xscale('log')\n",
    "plt.xlabel('C=1/alpha')\n",
    "plt.ylabel('tacnost')\n",
    "plt.show()"
   ]
  },
  {
   "cell_type": "code",
   "execution_count": 38,
   "id": "c41e1e28",
   "metadata": {},
   "outputs": [
    {
     "name": "stdout",
     "output_type": "stream",
     "text": [
      "Optimalna tacnost na skupu za validaciju je: 0.743\n"
     ]
    }
   ],
   "source": [
    "print('Optimalna tacnost na skupu za validaciju je: %.3f' %optimal_score)"
   ]
  },
  {
   "cell_type": "code",
   "execution_count": 39,
   "id": "d26caed1",
   "metadata": {},
   "outputs": [
    {
     "name": "stdout",
     "output_type": "stream",
     "text": [
      "Optimalo C je: 0.1\n"
     ]
    }
   ],
   "source": [
    "print('Optimalo C je: %.1f' %optimal_C)"
   ]
  },
  {
   "cell_type": "code",
   "execution_count": 40,
   "id": "d960e2d2",
   "metadata": {},
   "outputs": [],
   "source": [
    "# sada sa optimalnim parametrom pravimo konacan model"
   ]
  },
  {
   "cell_type": "code",
   "execution_count": 41,
   "id": "fb72b0fd",
   "metadata": {},
   "outputs": [],
   "source": [
    "scaler_l2 = preprocessing.StandardScaler()\n",
    "scaler_l2.fit(X_train_and_validation[:, 0:4])\n",
    "X_train_and_validation[:, 0:4] = scaler_l2.transform(X_train_and_validation[:, 0:4])\n",
    "X_test[:, 0:4] = scaler_l2.transform(X_test[:, 0:4])"
   ]
  },
  {
   "cell_type": "code",
   "execution_count": 42,
   "id": "70805647",
   "metadata": {},
   "outputs": [],
   "source": [
    "# model\n",
    "logistic_regression_l2 = linear_model.LogisticRegression(penalty='l2', C=optimal_C, max_iter=2000)"
   ]
  },
  {
   "cell_type": "code",
   "execution_count": 43,
   "id": "8b11dcb0",
   "metadata": {},
   "outputs": [
    {
     "data": {
      "text/plain": [
       "LogisticRegression(C=0.1, max_iter=2000)"
      ]
     },
     "execution_count": 43,
     "metadata": {},
     "output_type": "execute_result"
    }
   ],
   "source": [
    "logistic_regression_l2.fit(X_train_and_validation, y_train_and_validation)"
   ]
  },
  {
   "cell_type": "code",
   "execution_count": 44,
   "id": "2ee409fd",
   "metadata": {},
   "outputs": [
    {
     "data": {
      "text/plain": [
       "array([0. , 0.1, 0.2, 0.3, 0.4, 0.5, 0.6, 0.7, 0.8, 0.9, 1. ])"
      ]
     },
     "execution_count": 44,
     "metadata": {},
     "output_type": "execute_result"
    }
   ],
   "source": [
    "# opet ponavljamo postupak kao kod obicne logisticke regresije - za razlicite pragove racunamo metrike\n",
    "pragovi"
   ]
  },
  {
   "cell_type": "code",
   "execution_count": 45,
   "id": "3f561f89",
   "metadata": {},
   "outputs": [],
   "source": [
    "accuracy_scores_l2 = []\n",
    "sensitivity_scores_l2 = []\n",
    "specificity_scores_l2 = []\n",
    "\n",
    "for prag in pragovi:\n",
    "    # gledamo da li je verovatnoca pripadanja pozitivnoj klasi veca od praga\n",
    "    # ako jeste, funkcija astype(int) vraca vrednost 1, a ako nije, vraca vrednost 0\n",
    "    y_predicted = (logistic_regression_l2.predict_proba(X_test)[:,1] > prag).astype(int)\n",
    "    \n",
    "    # sada nam trebaju vrednosti TN, FP, FN, TP\n",
    "    # njih nalazimo u matrici konfuzije (samo cemo je poravnati u vektor)\n",
    "    TN, FP, FN, TP = metrics.confusion_matrix(y_test, y_predicted).ravel()\n",
    "    \n",
    "    accuracy = (TP+TN)/(TP+TN+FP+FN)\n",
    "    accuracy_scores_l2.append(accuracy)\n",
    "    sensitivity = TP/(TP+FN)\n",
    "    sensitivity_scores_l2.append(sensitivity)\n",
    "    specificity = TN/(TN+FP)\n",
    "    specificity_scores_l2.append(specificity)"
   ]
  },
  {
   "cell_type": "code",
   "execution_count": 46,
   "id": "13e498fd",
   "metadata": {},
   "outputs": [],
   "source": [
    "sensitivity_scores_l2 = np.array(sensitivity_scores_l2)\n",
    "specificity_scores_l2 = np.array(specificity_scores_l2)"
   ]
  },
  {
   "cell_type": "code",
   "execution_count": 47,
   "id": "48ad8bed",
   "metadata": {},
   "outputs": [
    {
     "data": {
      "text/plain": [
       "array([[514, 111],\n",
       "       [123, 358]], dtype=int64)"
      ]
     },
     "execution_count": 47,
     "metadata": {},
     "output_type": "execute_result"
    }
   ],
   "source": [
    "# matrica konfuzije na skupu za test\n",
    "metrics.confusion_matrix(y_test, logistic_regression_l2.predict(X_test))"
   ]
  },
  {
   "cell_type": "code",
   "execution_count": 48,
   "id": "bd8b7900",
   "metadata": {},
   "outputs": [
    {
     "name": "stdout",
     "output_type": "stream",
     "text": [
      "f1 score za model logisticke regresije sa l2 regularizacijom: 0.754\n"
     ]
    }
   ],
   "source": [
    "l2_f1 = metrics.f1_score(y_test, logistic_regression_l2.predict(X_test))\n",
    "print('f1 score za model logisticke regresije sa l2 regularizacijom: %.3f' %l2_f1) "
   ]
  },
  {
   "cell_type": "code",
   "execution_count": 49,
   "id": "e3749558",
   "metadata": {},
   "outputs": [],
   "source": [
    "l2_auc = metrics.auc(1 - specificity_scores_l2, sensitivity_scores_l2)"
   ]
  },
  {
   "cell_type": "code",
   "execution_count": 50,
   "id": "055dbd01",
   "metadata": {},
   "outputs": [
    {
     "name": "stdout",
     "output_type": "stream",
     "text": [
      "AUC za model logisticke regresije sa l2 regularizacijom: 0.860\n"
     ]
    }
   ],
   "source": [
    "print('AUC za model logisticke regresije sa l2 regularizacijom: %.3f' %l2_auc) "
   ]
  },
  {
   "cell_type": "code",
   "execution_count": 51,
   "id": "b3e3f020",
   "metadata": {},
   "outputs": [
    {
     "name": "stdout",
     "output_type": "stream",
     "text": [
      "Tacnost za model logisticke regresije sa l2 regularizacijom: 0.788\n"
     ]
    }
   ],
   "source": [
    "l2_accuracy = accuracy_scores_l2[5]\n",
    "print('Tacnost za model logisticke regresije sa l2 regularizacijom: %.3f' %l2_accuracy)"
   ]
  },
  {
   "cell_type": "code",
   "execution_count": 52,
   "id": "b8b1de0a",
   "metadata": {},
   "outputs": [
    {
     "name": "stdout",
     "output_type": "stream",
     "text": [
      "Senzitivnost za model logisticke regresije sa l2 regularizacijom: 0.744\n"
     ]
    }
   ],
   "source": [
    "l2_sensitivity = sensitivity_scores_l2[5]\n",
    "print('Senzitivnost za model logisticke regresije sa l2 regularizacijom: %.3f' %l2_sensitivity)"
   ]
  },
  {
   "cell_type": "code",
   "execution_count": 53,
   "id": "6f0b52d5",
   "metadata": {},
   "outputs": [
    {
     "name": "stdout",
     "output_type": "stream",
     "text": [
      "Specificnost za model logisticke regresije sa l2 regularizacijom: 0.822\n"
     ]
    }
   ],
   "source": [
    "l2_specificity = specificity_scores_l2[5]\n",
    "print('Specificnost za model logisticke regresije sa l2 regularizacijom: %.3f' %l2_specificity)"
   ]
  },
  {
   "cell_type": "code",
   "execution_count": null,
   "id": "caf556ad",
   "metadata": {},
   "outputs": [],
   "source": []
  },
  {
   "cell_type": "markdown",
   "id": "b682aac8",
   "metadata": {},
   "source": [
    "# Logisticka regresija sa l1 regularizacijom (lasso)"
   ]
  },
  {
   "cell_type": "code",
   "execution_count": 54,
   "id": "6a50512a",
   "metadata": {},
   "outputs": [],
   "source": [
    "X_train_and_validation, X_test, y_train_and_validation, y_test = \\\n",
    "    model_selection.train_test_split(X, y, test_size=0.2, stratify=y, random_state=7)"
   ]
  },
  {
   "cell_type": "code",
   "execution_count": 55,
   "id": "5344cb46",
   "metadata": {},
   "outputs": [
    {
     "data": {
      "text/plain": [
       "array([1.e-03, 1.e-02, 1.e-01, 1.e+00, 1.e+01, 1.e+02, 1.e+03])"
      ]
     },
     "execution_count": 55,
     "metadata": {},
     "output_type": "execute_result"
    }
   ],
   "source": [
    "# imamo hiperparametar alpha\n",
    "alphas"
   ]
  },
  {
   "cell_type": "code",
   "execution_count": 56,
   "id": "564a245e",
   "metadata": {},
   "outputs": [
    {
     "data": {
      "text/plain": [
       "array([1.e+03, 1.e+02, 1.e+01, 1.e+00, 1.e-01, 1.e-02, 1.e-03])"
      ]
     },
     "execution_count": 56,
     "metadata": {},
     "output_type": "execute_result"
    }
   ],
   "source": [
    "# funkciji prosledjujemo parametar C=1/alpha\n",
    "Cs = 1/alphas\n",
    "Cs"
   ]
  },
  {
   "cell_type": "code",
   "execution_count": 57,
   "id": "abbbfb06",
   "metadata": {},
   "outputs": [],
   "source": [
    "# sada unakrsnom validacijom biramo optimalni parametar \n",
    "optimal_score = 0\n",
    "optimal_C = 0\n",
    "validation_scores = []\n",
    "\n",
    "for C in Cs:\n",
    "    model = linear_model.LogisticRegression(penalty='l1', solver='liblinear', C=C, max_iter=2000)\n",
    "    scores = cross_validation(model, X_train_and_validation, y_train_and_validation)\n",
    "    score = sum(scores)/len(scores)\n",
    "    validation_scores.append(score)\n",
    "    \n",
    "    if score > optimal_score:\n",
    "        optimal_score = score\n",
    "        optimal_C = C"
   ]
  },
  {
   "cell_type": "code",
   "execution_count": 58,
   "id": "6290ee63",
   "metadata": {},
   "outputs": [
    {
     "data": {
      "image/png": "[encoded data removed]",
      "text/plain": [
       "<Figure size 432x288 with 1 Axes>"
      ]
     },
     "metadata": {
      "needs_background": "light"
     },
     "output_type": "display_data"
    }
   ],
   "source": [
    "# crtamo grafika tacnosti na validacionom skupu za razlicite vrednosti parametra C=1/alpha\n",
    "plt.plot(Cs, validation_scores)\n",
    "plt.title('Tacnost za razlicite izbore parametra dobijene unakrsnom validacijom')\n",
    "plt.xscale('log')\n",
    "plt.xlabel('C=1/alpha')\n",
    "plt.ylabel('tacnost')\n",
    "plt.show()"
   ]
  },
  {
   "cell_type": "code",
   "execution_count": 59,
   "id": "2319f3d5",
   "metadata": {},
   "outputs": [
    {
     "name": "stdout",
     "output_type": "stream",
     "text": [
      "Optimalna tacnost na skupu za validaciju je: 0.738\n"
     ]
    }
   ],
   "source": [
    "print('Optimalna tacnost na skupu za validaciju je: %.3f' %optimal_score)"
   ]
  },
  {
   "cell_type": "code",
   "execution_count": 60,
   "id": "06853ccf",
   "metadata": {},
   "outputs": [
    {
     "name": "stdout",
     "output_type": "stream",
     "text": [
      "Optimalo C je: 0.1\n"
     ]
    }
   ],
   "source": [
    "print('Optimalo C je: %.1f' %optimal_C)"
   ]
  },
  {
   "cell_type": "code",
   "execution_count": 61,
   "id": "7b683598",
   "metadata": {},
   "outputs": [],
   "source": [
    "# sada za optimal_C pravimo konacni model\n",
    "# prvo skaliramo podatke\n",
    "scaler_l1 = preprocessing.StandardScaler()\n",
    "scaler_l1.fit(X_train_and_validation[:, 0:4])\n",
    "X_train_and_validation[:, 0:4] = scaler_l1.transform(X_train_and_validation[:, 0:4])\n",
    "X_test[:, 0:4] = scaler_l1.transform(X_test[:, 0:4])"
   ]
  },
  {
   "cell_type": "code",
   "execution_count": 62,
   "id": "7c800b90",
   "metadata": {},
   "outputs": [],
   "source": [
    "logistic_regression_l1 = linear_model.LogisticRegression(penalty='l1', solver='saga', C=optimal_C, max_iter=2000)"
   ]
  },
  {
   "cell_type": "code",
   "execution_count": 63,
   "id": "24145c2a",
   "metadata": {},
   "outputs": [
    {
     "data": {
      "text/plain": [
       "LogisticRegression(C=0.1, max_iter=2000, penalty='l1', solver='saga')"
      ]
     },
     "execution_count": 63,
     "metadata": {},
     "output_type": "execute_result"
    }
   ],
   "source": [
    "logistic_regression_l1.fit(X_train_and_validation, y_train_and_validation)"
   ]
  },
  {
   "cell_type": "code",
   "execution_count": 64,
   "id": "39257a10",
   "metadata": {},
   "outputs": [
    {
     "data": {
      "text/plain": [
       "array([0. , 0.1, 0.2, 0.3, 0.4, 0.5, 0.6, 0.7, 0.8, 0.9, 1. ])"
      ]
     },
     "execution_count": 64,
     "metadata": {},
     "output_type": "execute_result"
    }
   ],
   "source": [
    "pragovi"
   ]
  },
  {
   "cell_type": "code",
   "execution_count": 65,
   "id": "1c8368a6",
   "metadata": {},
   "outputs": [],
   "source": [
    "accuracy_scores_l1 = []\n",
    "sensitivity_scores_l1 = []\n",
    "specificity_scores_l1 = []\n",
    "\n",
    "for prag in pragovi:\n",
    "    # gledamo da li je verovatnoca pripadanja pozitivnoj klasi veca od praga\n",
    "    # ako jeste, funkcija astype(int) vraca vrednost 1, a ako nije, vraca vrednost 0\n",
    "    y_predicted = (logistic_regression_l1.predict_proba(X_test)[:,1] > prag).astype(int)\n",
    "    \n",
    "    # sada nam trebaju vrednosti TN, FP, FN, TP\n",
    "    # njih nalazimo u matrici konfuzije (samo cemo je poravnati u vektor)\n",
    "    TN, FP, FN, TP = metrics.confusion_matrix(y_test, y_predicted).ravel()\n",
    "    \n",
    "    accuracy = (TP+TN)/(TP+TN+FP+FN)\n",
    "    accuracy_scores_l1.append(accuracy)\n",
    "    sensitivity = TP/(TP+FN)\n",
    "    sensitivity_scores_l1.append(sensitivity)\n",
    "    specificity = TN/(TN+FP)\n",
    "    specificity_scores_l1.append(specificity)"
   ]
  },
  {
   "cell_type": "code",
   "execution_count": 66,
   "id": "9f55df70",
   "metadata": {},
   "outputs": [],
   "source": [
    "sensitivity_scores_l1 = np.array(sensitivity_scores_l1)\n",
    "specificity_scores_l1 = np.array(specificity_scores_l1)"
   ]
  },
  {
   "cell_type": "code",
   "execution_count": 67,
   "id": "6bbec668",
   "metadata": {},
   "outputs": [
    {
     "data": {
      "text/plain": [
       "array([[512, 113],\n",
       "       [122, 359]], dtype=int64)"
      ]
     },
     "execution_count": 67,
     "metadata": {},
     "output_type": "execute_result"
    }
   ],
   "source": [
    "metrics.confusion_matrix(y_test, logistic_regression_l1.predict(X_test))"
   ]
  },
  {
   "cell_type": "code",
   "execution_count": 68,
   "id": "985b957a",
   "metadata": {},
   "outputs": [
    {
     "name": "stdout",
     "output_type": "stream",
     "text": [
      "f1 score za model logisticke regresije sa l1 regularizacijom: 0.753\n"
     ]
    }
   ],
   "source": [
    "l1_f1 = metrics.f1_score(y_test, logistic_regression_l1.predict(X_test))\n",
    "print('f1 score za model logisticke regresije sa l1 regularizacijom: %.3f' %l1_f1) "
   ]
  },
  {
   "cell_type": "code",
   "execution_count": 69,
   "id": "148597ab",
   "metadata": {},
   "outputs": [],
   "source": [
    "l1_auc = metrics.auc(1 - specificity_scores_l1, sensitivity_scores_l1)"
   ]
  },
  {
   "cell_type": "code",
   "execution_count": 70,
   "id": "9e4c28bb",
   "metadata": {},
   "outputs": [
    {
     "name": "stdout",
     "output_type": "stream",
     "text": [
      "AUC za model logisticke regresije sa l1 regularizacijom: 0.857\n"
     ]
    }
   ],
   "source": [
    "print('AUC za model logisticke regresije sa l1 regularizacijom: %.3f' %l1_auc) "
   ]
  },
  {
   "cell_type": "code",
   "execution_count": 71,
   "id": "22831fc7",
   "metadata": {},
   "outputs": [
    {
     "name": "stdout",
     "output_type": "stream",
     "text": [
      "Tacnost za model logisticke regresije sa l1 regularizacijom: 0.788\n"
     ]
    }
   ],
   "source": [
    "l1_accuracy = accuracy_scores_l1[5]\n",
    "print('Tacnost za model logisticke regresije sa l1 regularizacijom: %.3f' %l1_accuracy)"
   ]
  },
  {
   "cell_type": "code",
   "execution_count": 72,
   "id": "3a4941fd",
   "metadata": {},
   "outputs": [
    {
     "name": "stdout",
     "output_type": "stream",
     "text": [
      "Senzitivnost za model logisticke regresije sa l1 regularizacijom: 0.746\n"
     ]
    }
   ],
   "source": [
    "l1_sensitivity = sensitivity_scores_l1[5]\n",
    "print('Senzitivnost za model logisticke regresije sa l1 regularizacijom: %.3f' %l1_sensitivity)"
   ]
  },
  {
   "cell_type": "code",
   "execution_count": 73,
   "id": "1c1a9b02",
   "metadata": {},
   "outputs": [
    {
     "name": "stdout",
     "output_type": "stream",
     "text": [
      "Specificnost za model logisticke regresije sa l1 regularizacijom: 0.819\n"
     ]
    }
   ],
   "source": [
    "l1_specificity = specificity_scores_l1[5]\n",
    "print('Specificnost za model logisticke regresije sa l1 regularizacijom: %.3f' %l1_specificity)"
   ]
  },
  {
   "cell_type": "markdown",
   "id": "fc56a4d9",
   "metadata": {},
   "source": [
    "# Poredjenje rezultata logisticke regresije sa i bez regularizacije"
   ]
  },
  {
   "cell_type": "code",
   "execution_count": 74,
   "id": "6972325c",
   "metadata": {},
   "outputs": [
    {
     "name": "stdout",
     "output_type": "stream",
     "text": [
      "Tacnost:\n",
      "Logisticka regresija: 0.782\n",
      "Logisticka regresija sa l2 regularizacijom: 0.788\n",
      "Logisticka regresija sa l1 regularizacijom: 0.788\n"
     ]
    }
   ],
   "source": [
    "print('Tacnost:')\n",
    "print('Logisticka regresija: %.3f' %logistic_regression_accuracy)\n",
    "print('Logisticka regresija sa l2 regularizacijom: %.3f' %l2_accuracy)\n",
    "print('Logisticka regresija sa l1 regularizacijom: %.3f' %l1_accuracy)"
   ]
  },
  {
   "cell_type": "code",
   "execution_count": 75,
   "id": "d7c12583",
   "metadata": {},
   "outputs": [
    {
     "name": "stdout",
     "output_type": "stream",
     "text": [
      "Senzitivnost:\n",
      "Logisticka regresija: 0.742\n",
      "Logisticka regresija sa l2 regularizacijom: 0.744\n",
      "Logisticka regresija sa l1 regularizacijom: 0.746\n"
     ]
    }
   ],
   "source": [
    "print('Senzitivnost:')\n",
    "print('Logisticka regresija: %.3f' %logistic_regression_sensitivity)\n",
    "print('Logisticka regresija sa l2 regularizacijom: %.3f' %l2_sensitivity)\n",
    "print('Logisticka regresija sa l1 regularizacijom: %.3f' %l1_sensitivity)"
   ]
  },
  {
   "cell_type": "code",
   "execution_count": 76,
   "id": "9754401b",
   "metadata": {},
   "outputs": [
    {
     "name": "stdout",
     "output_type": "stream",
     "text": [
      "Specificnost:\n",
      "Logisticka regresija: 0.813\n",
      "Logisticka regresija sa l2 regularizacijom: 0.822\n",
      "Logisticka regresija sa l1 regularizacijom: 0.819\n"
     ]
    }
   ],
   "source": [
    "print('Specificnost:')\n",
    "print('Logisticka regresija: %.3f' %logistic_regression_specificity)\n",
    "print('Logisticka regresija sa l2 regularizacijom: %.3f' %l2_specificity)\n",
    "print('Logisticka regresija sa l1 regularizacijom: %.3f' %l1_specificity)"
   ]
  },
  {
   "cell_type": "code",
   "execution_count": 77,
   "id": "23ed055b",
   "metadata": {},
   "outputs": [
    {
     "name": "stdout",
     "output_type": "stream",
     "text": [
      "AUC:\n",
      "Logisticka regresija: 0.857\n",
      "Logisticka regresija sa l2 regularizacijom: 0.860\n",
      "Logisticka regresija sa l1 regularizacijom: 0.857\n"
     ]
    }
   ],
   "source": [
    "print('AUC:')\n",
    "print('Logisticka regresija: %.3f' %logistic_regression_auc)\n",
    "print('Logisticka regresija sa l2 regularizacijom: %.3f' %l2_auc)\n",
    "print('Logisticka regresija sa l1 regularizacijom: %.3f' %l1_auc)"
   ]
  },
  {
   "cell_type": "code",
   "execution_count": 78,
   "id": "08ce6a01",
   "metadata": {},
   "outputs": [
    {
     "name": "stdout",
     "output_type": "stream",
     "text": [
      "f1:\n",
      "Logisticka regresija: 0.748\n",
      "Logisticka regresija sa l2 regularizacijom: 0.754\n",
      "Logisticka regresija sa l1 regularizacijom: 0.753\n"
     ]
    }
   ],
   "source": [
    "print('f1:')\n",
    "print('Logisticka regresija: %.3f' %logistic_regression_f1)\n",
    "print('Logisticka regresija sa l2 regularizacijom: %.3f' %l2_f1)\n",
    "print('Logisticka regresija sa l1 regularizacijom: %.3f' %l1_f1)"
   ]
  },
  {
   "cell_type": "markdown",
   "id": "d09b8c8b",
   "metadata": {},
   "source": [
    "Najbolje je se pokazao model sa l2 regularizacijom."
   ]
  },
  {
   "cell_type": "code",
   "execution_count": 79,
   "id": "4ff45ce4",
   "metadata": {},
   "outputs": [
    {
     "data": {
      "image/png": "[encoded data removed]",
      "text/plain": [
       "<Figure size 576x432 with 1 Axes>"
      ]
     },
     "metadata": {
      "needs_background": "light"
     },
     "output_type": "display_data"
    }
   ],
   "source": [
    "plt.figure(figsize=[8,6])\n",
    "plt.plot(1 - specificity_scores, sensitivity_scores, color='blue', label='bez regularizacije')\n",
    "plt.plot(1 - specificity_scores_l2, sensitivity_scores_l2, color='green', label='l2 regularizacija')\n",
    "plt.plot(1 - specificity_scores_l1, sensitivity_scores_l1, color='red', label='l1 regularizacija')\n",
    "plt.title('ROC')\n",
    "plt.xlabel('FPR (1 - specificnost)')\n",
    "plt.ylabel('TPR (senzitivnost)')\n",
    "plt.legend(loc='best')\n",
    "plt.show()"
   ]
  },
  {
   "cell_type": "markdown",
   "id": "0d5c172b",
   "metadata": {},
   "source": [
    "# Metoda k najblizih suseda "
   ]
  },
  {
   "cell_type": "code",
   "execution_count": 80,
   "id": "4324dbaa",
   "metadata": {},
   "outputs": [],
   "source": [
    "X_train_and_validation, X_test, y_train_and_validation, y_test = \\\n",
    "    model_selection.train_test_split(X, y, test_size=0.2, stratify=y, random_state=7)"
   ]
  },
  {
   "cell_type": "code",
   "execution_count": 81,
   "id": "d89bd2f4",
   "metadata": {},
   "outputs": [],
   "source": [
    "# imamo parametar k "
   ]
  },
  {
   "cell_type": "code",
   "execution_count": 82,
   "id": "e782f712",
   "metadata": {},
   "outputs": [],
   "source": [
    "ks = np.array([1, 2, 3, 4, 5, 6, 7, 8, 9, 10])"
   ]
  },
  {
   "cell_type": "code",
   "execution_count": 83,
   "id": "fd38e16d",
   "metadata": {},
   "outputs": [],
   "source": [
    "# unakrsnom validacijom trazimo najbolje k\n",
    "optimal_score = 0\n",
    "optimal_k = 0\n",
    "validation_scores = []\n",
    "\n",
    "for k in ks:\n",
    "    model = neighbors.KNeighborsClassifier(n_neighbors=k)\n",
    "    scores = cross_validation(model, X_train_and_validation, y_train_and_validation)\n",
    "    score = sum(scores)/len(scores)\n",
    "    validation_scores.append(score)\n",
    "    \n",
    "    if score > optimal_score:\n",
    "        optimal_score = score\n",
    "        optimal_k = k"
   ]
  },
  {
   "cell_type": "code",
   "execution_count": 84,
   "id": "1bedf89e",
   "metadata": {},
   "outputs": [
    {
     "data": {
      "image/png": "[encoded data removed]",
      "text/plain": [
       "<Figure size 432x288 with 1 Axes>"
      ]
     },
     "metadata": {
      "needs_background": "light"
     },
     "output_type": "display_data"
    }
   ],
   "source": [
    "# crtamo grafika tacnosti na validacionom skupu za razlicite vrednosti parametra k\n",
    "plt.plot(ks, validation_scores)\n",
    "plt.title('Tacnost za razlicite izbore parametra dobijene unakrsnom validacijom')\n",
    "plt.xlabel('k')\n",
    "plt.ylabel('tacnost')\n",
    "plt.show()"
   ]
  },
  {
   "cell_type": "code",
   "execution_count": 85,
   "id": "630d8e71",
   "metadata": {},
   "outputs": [
    {
     "name": "stdout",
     "output_type": "stream",
     "text": [
      "Optimalna tacnost na skupu za validaciju je: 0.713\n"
     ]
    }
   ],
   "source": [
    "print('Optimalna tacnost na skupu za validaciju je: %.3f' %optimal_score)"
   ]
  },
  {
   "cell_type": "code",
   "execution_count": 86,
   "id": "d0391821",
   "metadata": {},
   "outputs": [
    {
     "name": "stdout",
     "output_type": "stream",
     "text": [
      "Optimalno k je: 8\n"
     ]
    }
   ],
   "source": [
    "print('Optimalno k je:',optimal_k)"
   ]
  },
  {
   "cell_type": "code",
   "execution_count": 87,
   "id": "eb7b36a2",
   "metadata": {},
   "outputs": [],
   "source": [
    "# sada za optimal_k pravimo konacni model\n",
    "# prvo skaliramo podatke\n",
    "scaler_knn = preprocessing.StandardScaler()\n",
    "scaler_knn.fit(X_train_and_validation[:, 0:4])\n",
    "X_train_and_validation[:, 0:4] = scaler_knn.transform(X_train_and_validation[:, 0:4])\n",
    "X_test[:, 0:4] = scaler_knn.transform(X_test[:, 0:4])"
   ]
  },
  {
   "cell_type": "code",
   "execution_count": 88,
   "id": "6c62952a",
   "metadata": {},
   "outputs": [],
   "source": [
    "# model\n",
    "knn = neighbors.KNeighborsClassifier(n_neighbors=optimal_k)"
   ]
  },
  {
   "cell_type": "code",
   "execution_count": 89,
   "id": "945986b3",
   "metadata": {},
   "outputs": [
    {
     "data": {
      "text/plain": [
       "KNeighborsClassifier(n_neighbors=8)"
      ]
     },
     "execution_count": 89,
     "metadata": {},
     "output_type": "execute_result"
    }
   ],
   "source": [
    "knn.fit(X_train_and_validation, y_train_and_validation)"
   ]
  },
  {
   "cell_type": "code",
   "execution_count": 90,
   "id": "5d615b99",
   "metadata": {},
   "outputs": [
    {
     "data": {
      "text/plain": [
       "array([0. , 0.1, 0.2, 0.3, 0.4, 0.5, 0.6, 0.7, 0.8, 0.9, 1. ])"
      ]
     },
     "execution_count": 90,
     "metadata": {},
     "output_type": "execute_result"
    }
   ],
   "source": [
    "pragovi"
   ]
  },
  {
   "cell_type": "code",
   "execution_count": 91,
   "id": "8b9c0158",
   "metadata": {},
   "outputs": [],
   "source": [
    "accuracy_scores_knn = []\n",
    "sensitivity_scores_knn = []\n",
    "specificity_scores_knn = []\n",
    "\n",
    "for prag in pragovi:\n",
    "    # gledamo da li je verovatnoca pripadanja pozitivnoj klasi veca od praga\n",
    "    # ako jeste, funkcija astype(int) vraca vrednost 1, a ako nije, vraca vrednost 0\n",
    "    y_predicted = (knn.predict_proba(X_test)[:,1] > prag).astype(int)\n",
    "    \n",
    "    # sada nam trebaju vrednosti TN, FP, FN, TP\n",
    "    # njih nalazimo u matrici konfuzije (samo cemo je poravnati u vektor)\n",
    "    TN, FP, FN, TP = metrics.confusion_matrix(y_test, y_predicted).ravel()\n",
    "    \n",
    "    accuracy = (TP+TN)/(TP+TN+FP+FN)\n",
    "    accuracy_scores_knn.append(accuracy)\n",
    "    sensitivity = TP/(TP+FN)\n",
    "    sensitivity_scores_knn.append(sensitivity)\n",
    "    specificity = TN/(TN+FP)\n",
    "    specificity_scores_knn.append(specificity)"
   ]
  },
  {
   "cell_type": "code",
   "execution_count": 92,
   "id": "e4e2e7be",
   "metadata": {},
   "outputs": [],
   "source": [
    "sensitivity_scores_knn = np.array(sensitivity_scores_knn)\n",
    "specificity_scores_knn = np.array(specificity_scores_knn)"
   ]
  },
  {
   "cell_type": "code",
   "execution_count": 93,
   "id": "8f78b314",
   "metadata": {},
   "outputs": [
    {
     "data": {
      "text/plain": [
       "array([[487, 138],\n",
       "       [155, 326]], dtype=int64)"
      ]
     },
     "execution_count": 93,
     "metadata": {},
     "output_type": "execute_result"
    }
   ],
   "source": [
    "metrics.confusion_matrix(y_test, knn.predict(X_test))"
   ]
  },
  {
   "cell_type": "code",
   "execution_count": 94,
   "id": "7a1afb42",
   "metadata": {},
   "outputs": [
    {
     "name": "stdout",
     "output_type": "stream",
     "text": [
      "f1 score za model k najblizih suseda: 0.690\n"
     ]
    }
   ],
   "source": [
    "knn_f1 = metrics.f1_score(y_test, knn.predict(X_test))\n",
    "print('f1 score za model k najblizih suseda: %.3f' %knn_f1) "
   ]
  },
  {
   "cell_type": "code",
   "execution_count": 95,
   "id": "7a082956",
   "metadata": {},
   "outputs": [
    {
     "name": "stdout",
     "output_type": "stream",
     "text": [
      "AUC za model k najblizih suseda: 0.571\n"
     ]
    }
   ],
   "source": [
    "knn_auc = metrics.auc(1 - specificity_scores_knn, sensitivity_scores)\n",
    "print('AUC za model k najblizih suseda: %.3f' %knn_auc)"
   ]
  },
  {
   "cell_type": "code",
   "execution_count": 96,
   "id": "86830eae",
   "metadata": {},
   "outputs": [
    {
     "name": "stdout",
     "output_type": "stream",
     "text": [
      "Tacnost za model k najblizih suseda: 0.735\n"
     ]
    }
   ],
   "source": [
    "knn_accuracy = accuracy_scores_knn[5]\n",
    "print('Tacnost za model k najblizih suseda: %.3f' %knn_accuracy)"
   ]
  },
  {
   "cell_type": "code",
   "execution_count": 97,
   "id": "96c4b3d5",
   "metadata": {},
   "outputs": [
    {
     "name": "stdout",
     "output_type": "stream",
     "text": [
      "Senzitivnost za model k najblizih suseda: 0.678\n"
     ]
    }
   ],
   "source": [
    "knn_sensitivity = sensitivity_scores_knn[5]\n",
    "print('Senzitivnost za model k najblizih suseda: %.3f' %knn_sensitivity)"
   ]
  },
  {
   "cell_type": "code",
   "execution_count": 98,
   "id": "4c665c7b",
   "metadata": {},
   "outputs": [
    {
     "name": "stdout",
     "output_type": "stream",
     "text": [
      "Specificnost za model k najblizih suseda: 0.779\n"
     ]
    }
   ],
   "source": [
    "knn_specificity = specificity_scores_knn[5]\n",
    "print('Specificnost za model k najblizih suseda: %.3f' %knn_specificity)"
   ]
  },
  {
   "cell_type": "code",
   "execution_count": 99,
   "id": "099be12a",
   "metadata": {},
   "outputs": [],
   "source": [
    "# ovaj model nam se nije bas najbolje pokazao"
   ]
  },
  {
   "cell_type": "code",
   "execution_count": null,
   "id": "d82e451e",
   "metadata": {},
   "outputs": [],
   "source": []
  },
  {
   "cell_type": "markdown",
   "id": "3a3d66f9",
   "metadata": {},
   "source": [
    "# Poredjenje rezultata "
   ]
  },
  {
   "cell_type": "code",
   "execution_count": 100,
   "id": "cca0c3d9",
   "metadata": {},
   "outputs": [
    {
     "data": {
      "image/png": "[encoded data removed]",
      "text/plain": [
       "<Figure size 576x432 with 1 Axes>"
      ]
     },
     "metadata": {
      "needs_background": "light"
     },
     "output_type": "display_data"
    }
   ],
   "source": [
    "plt.figure(figsize=[8,6])\n",
    "plt.plot(1 - specificity_scores, sensitivity_scores, color='blue', label='bez regularizacije')\n",
    "plt.plot(1 - specificity_scores_l2, sensitivity_scores_l2, color='green', label='l2 regularizacija')\n",
    "plt.plot(1 - specificity_scores_l1, sensitivity_scores_l1, color='red', label='l1 regularizacija')\n",
    "plt.plot(1 - specificity_scores_knn, sensitivity_scores_knn, color='orange', label='KNN')\n",
    "plt.title('ROC')\n",
    "plt.xlabel('FPR (1 - specificnost)')\n",
    "plt.ylabel('TPR (senzitivnost)')\n",
    "plt.legend(loc='best')\n",
    "plt.show()"
   ]
  },
  {
   "cell_type": "code",
   "execution_count": 101,
   "id": "3ecd49f7",
   "metadata": {},
   "outputs": [
    {
     "data": {
      "image/png": "[encoded data removed]",
      "text/plain": [
       "<Figure size 432x288 with 1 Axes>"
      ]
     },
     "metadata": {
      "needs_background": "light"
     },
     "output_type": "display_data"
    }
   ],
   "source": [
    "plt.barh([0, 1, 2, 3], [logistic_regression_auc, l2_auc, l1_auc, knn_auc])\n",
    "plt.yticks([0, 1, 2, 3], ['logisticka regresija', 'logisticka regresija sa l2 regularizacijom', 'logisticka regresija sa l1 regularizacijom', 'KNN'])\n",
    "plt.xlim([0.5, 0.88])\n",
    "plt.xlabel('AUC')\n",
    "plt.title('Poredjenje AUC skora')\n",
    "plt.show()"
   ]
  },
  {
   "cell_type": "code",
   "execution_count": 102,
   "id": "7da0a667",
   "metadata": {},
   "outputs": [
    {
     "data": {
      "image/png": "[encoded data removed]",
      "text/plain": [
       "<Figure size 432x288 with 1 Axes>"
      ]
     },
     "metadata": {
      "needs_background": "light"
     },
     "output_type": "display_data"
    }
   ],
   "source": [
    "plt.barh([0, 1, 2, 3], [logistic_regression_accuracy, l2_accuracy, l1_accuracy, knn_accuracy], color='orange')\n",
    "plt.yticks([0, 1, 2, 3], ['logisticka regresija', 'logisticka regresija sa l2 regularizacijom', 'logisticka regresija sa l1 regularizacijom', 'KNN'])\n",
    "plt.xlim([0.7, 0.8])\n",
    "plt.xlabel('tacnost')\n",
    "plt.title('Poredjenje tacnosti')\n",
    "plt.show()"
   ]
  },
  {
   "cell_type": "code",
   "execution_count": 103,
   "id": "4bc7a9c0",
   "metadata": {},
   "outputs": [
    {
     "data": {
      "image/png": "[encoded data removed]",
      "text/plain": [
       "<Figure size 432x288 with 1 Axes>"
      ]
     },
     "metadata": {
      "needs_background": "light"
     },
     "output_type": "display_data"
    }
   ],
   "source": [
    "plt.barh([0, 1, 2, 3], [logistic_regression_sensitivity, l2_sensitivity, l1_sensitivity, knn_sensitivity], color='green')\n",
    "plt.yticks([0, 1, 2, 3], ['logisticka regresija', 'logisticka regresija sa l2 regularizacijom', 'logisticka regresija sa l1 regularizacijom', 'KNN'])\n",
    "plt.xlim([0.65, 0.76])\n",
    "plt.xlabel('senzitivnost')\n",
    "plt.title('Poredjenje senzitivnosti')\n",
    "plt.show()"
   ]
  },
  {
   "cell_type": "code",
   "execution_count": 104,
   "id": "1792715f",
   "metadata": {},
   "outputs": [
    {
     "data": {
      "image/png": "[encoded data removed]",
      "text/plain": [
       "<Figure size 432x288 with 1 Axes>"
      ]
     },
     "metadata": {
      "needs_background": "light"
     },
     "output_type": "display_data"
    }
   ],
   "source": [
    "plt.barh([0, 1, 2, 3], [logistic_regression_specificity, l2_specificity, l1_specificity, knn_specificity], color='red')\n",
    "plt.yticks([0, 1, 2, 3], ['logisticka regresija', 'logisticka regresija sa l2 regularizacijom', 'logisticka regresija sa l1 regularizacijom', 'KNN'])\n",
    "plt.xlim([0.65, 0.85])\n",
    "plt.xlabel('specificnost')\n",
    "plt.title('Poredjenje specificnosti')\n",
    "plt.show()"
   ]
  },
  {
   "cell_type": "code",
   "execution_count": 105,
   "id": "a5d23553",
   "metadata": {},
   "outputs": [
    {
     "data": {
      "image/png": "[encoded data removed]",
      "text/plain": [
       "<Figure size 432x288 with 1 Axes>"
      ]
     },
     "metadata": {
      "needs_background": "light"
     },
     "output_type": "display_data"
    }
   ],
   "source": [
    "plt.barh([0, 1, 2, 3], [logistic_regression_f1, l2_f1, l1_f1, knn_f1], color='pink')\n",
    "plt.yticks([0, 1, 2, 3], ['logisticka regresija', 'logisticka regresija sa l2 regularizacijom', 'logisticka regresija sa l1 regularizacijom', 'KNN'])\n",
    "plt.xlim([0.65, 0.77])\n",
    "plt.xlabel('f1 score')\n",
    "plt.title('Poredjenje f1 scora')\n",
    "plt.show()"
   ]
  },
  {
   "cell_type": "markdown",
   "id": "7ee876e2",
   "metadata": {},
   "source": [
    "Najbolje je se pokazao model logisticke regresije sa l2 regularizacijom sa parametrom alpha = 10. "
   ]
  },
  {
   "cell_type": "markdown",
   "id": "fb1834eb",
   "metadata": {},
   "source": [
    "Ovaj model ima tacnost 0.788, AUC 0.86, f1 score 0.754, senzitivnost 0.744 i specificnost 0.822."
   ]
  },
  {
   "cell_type": "code",
   "execution_count": null,
   "id": "25b86bf4",
   "metadata": {},
   "outputs": [],
   "source": []
  },
  {
   "cell_type": "markdown",
   "id": "290c3a6b",
   "metadata": {},
   "source": [
    "# Neuronska mreza "
   ]
  },
  {
   "cell_type": "code",
   "execution_count": 106,
   "id": "ad9f7589",
   "metadata": {},
   "outputs": [],
   "source": [
    "from tensorflow import keras"
   ]
  },
  {
   "cell_type": "code",
   "execution_count": 107,
   "id": "445a05f4",
   "metadata": {},
   "outputs": [],
   "source": [
    "from keras.models import Sequential\n",
    "from keras.layers import InputLayer, Dense, Dropout\n",
    "from keras.losses import BinaryCrossentropy\n",
    "from keras.optimizers import Adam\n",
    "from keras.metrics import Accuracy"
   ]
  },
  {
   "cell_type": "code",
   "execution_count": 108,
   "id": "2a2d213c",
   "metadata": {},
   "outputs": [],
   "source": [
    "# delimo skup podataka \n",
    "X_train_and_validation, X_test, y_train_and_validation, y_test = \\\n",
    "    model_selection.train_test_split(X, y, test_size=0.2, stratify=y, random_state=7)"
   ]
  },
  {
   "cell_type": "code",
   "execution_count": 109,
   "id": "3333c04b",
   "metadata": {},
   "outputs": [],
   "source": [
    "# preprocesiranje\n",
    "scaler_neural_network = preprocessing.StandardScaler()\n",
    "scaler_neural_network.fit(X_train_and_validation[:, 0:4])\n",
    "X_train_and_validation[:, 0:4] = scaler_neural_network.transform(X_train_and_validation[:, 0:4])\n",
    "X_test[:, 0:4] = scaler_neural_network.transform(X_test[:, 0:4])"
   ]
  },
  {
   "cell_type": "code",
   "execution_count": 110,
   "id": "7395c869",
   "metadata": {},
   "outputs": [
    {
     "data": {
      "text/plain": [
       "(4422, 259)"
      ]
     },
     "execution_count": 110,
     "metadata": {},
     "output_type": "execute_result"
    }
   ],
   "source": [
    "X_train_and_validation.shape"
   ]
  },
  {
   "cell_type": "code",
   "execution_count": 111,
   "id": "07301eb9",
   "metadata": {},
   "outputs": [],
   "source": [
    "# dakle, ulazni sloj ce imati 259 neurona"
   ]
  },
  {
   "cell_type": "code",
   "execution_count": 112,
   "id": "0679f57e",
   "metadata": {},
   "outputs": [],
   "source": [
    "# model\n",
    "neural_network = Sequential([\n",
    "    InputLayer(input_shape=(259,)),\n",
    "    Dense(units=517, activation='relu'),\n",
    "    Dropout(rate=0.5),\n",
    "    Dense(units=259, activation='relu'),\n",
    "    Dropout(rate=0.4),\n",
    "    Dense(units=129, activation='relu'),\n",
    "    Dropout(rate=0.3),\n",
    "    Dense(units=64, activation='relu'),\n",
    "    Dropout(rate=0.2),\n",
    "    Dense(units=1, activation='sigmoid')\n",
    "])"
   ]
  },
  {
   "cell_type": "code",
   "execution_count": 113,
   "id": "fb99b130",
   "metadata": {},
   "outputs": [
    {
     "name": "stdout",
     "output_type": "stream",
     "text": [
      "Model: \"sequential\"\n",
      "_________________________________________________________________\n",
      " Layer (type)                Output Shape              Param #   \n",
      "=================================================================\n",
      " dense (Dense)               (None, 517)               134420    \n",
      "                                                                 \n",
      " dropout (Dropout)           (None, 517)               0         \n",
      "                                                                 \n",
      " dense_1 (Dense)             (None, 259)               134162    \n",
      "                                                                 \n",
      " dropout_1 (Dropout)         (None, 259)               0         \n",
      "                                                                 \n",
      " dense_2 (Dense)             (None, 129)               33540     \n",
      "                                                                 \n",
      " dropout_2 (Dropout)         (None, 129)               0         \n",
      "                                                                 \n",
      " dense_3 (Dense)             (None, 64)                8320      \n",
      "                                                                 \n",
      " dropout_3 (Dropout)         (None, 64)                0         \n",
      "                                                                 \n",
      " dense_4 (Dense)             (None, 1)                 65        \n",
      "                                                                 \n",
      "=================================================================\n",
      "Total params: 310,507\n",
      "Trainable params: 310,507\n",
      "Non-trainable params: 0\n",
      "_________________________________________________________________\n"
     ]
    }
   ],
   "source": [
    "neural_network.summary()"
   ]
  },
  {
   "cell_type": "code",
   "execution_count": 114,
   "id": "f99f1e94",
   "metadata": {},
   "outputs": [],
   "source": [
    "neural_network.compile(optimizer=Adam(learning_rate=0.0001), loss=BinaryCrossentropy(), metrics=['accuracy'])"
   ]
  },
  {
   "cell_type": "code",
   "execution_count": 115,
   "id": "3977cdea",
   "metadata": {},
   "outputs": [],
   "source": [
    "# treniranje mreze\n",
    "history = neural_network.fit(X_train_and_validation, y_train_and_validation, epochs=30, batch_size=32, validation_split=0.1, verbose=0)"
   ]
  },
  {
   "cell_type": "code",
   "execution_count": 116,
   "id": "dcc9296a",
   "metadata": {},
   "outputs": [
    {
     "data": {
      "image/png": "[encoded data removed]",
      "text/plain": [
       "<Figure size 720x288 with 2 Axes>"
      ]
     },
     "metadata": {
      "needs_background": "light"
     },
     "output_type": "display_data"
    }
   ],
   "source": [
    "plt.figure(figsize=(10, 4))\n",
    "plt.subplot(1, 2, 1)\n",
    "plt.title('Greska')\n",
    "plt.plot(history.epoch, history.history['loss'], label='trening')\n",
    "plt.plot(history.epoch, history.history['val_loss'], label='validacija')\n",
    "plt.legend(loc='best')\n",
    "plt.subplot(1, 2, 2)\n",
    "plt.title('Tacnost')\n",
    "plt.plot(history.epoch, history.history['accuracy'], label='trening')\n",
    "plt.plot(history.epoch, history.history['val_accuracy'], label='validacija')\n",
    "plt.legend(loc='best')\n",
    "plt.show()"
   ]
  },
  {
   "cell_type": "code",
   "execution_count": 117,
   "id": "becfde8f",
   "metadata": {},
   "outputs": [
    {
     "name": "stdout",
     "output_type": "stream",
     "text": [
      "35/35 [==============================] - 0s 4ms/step - loss: 0.4568 - accuracy: 0.7866\n"
     ]
    },
    {
     "data": {
      "text/plain": [
       "[0.4568316340446472, 0.7866184711456299]"
      ]
     },
     "execution_count": 117,
     "metadata": {},
     "output_type": "execute_result"
    }
   ],
   "source": [
    "# evaluacija\n",
    "scores = neural_network.evaluate(X_test, y_test)\n",
    "scores"
   ]
  },
  {
   "cell_type": "code",
   "execution_count": 118,
   "id": "00a8e1ee",
   "metadata": {},
   "outputs": [
    {
     "name": "stdout",
     "output_type": "stream",
     "text": [
      "Tacnost je: 0.787\n"
     ]
    }
   ],
   "source": [
    "neural_network_accuracy = scores[1]\n",
    "print('Tacnost je: %.3f' %neural_network_accuracy)"
   ]
  },
  {
   "cell_type": "code",
   "execution_count": 119,
   "id": "d1032331",
   "metadata": {},
   "outputs": [
    {
     "name": "stdout",
     "output_type": "stream",
     "text": [
      "35/35 [==============================] - 0s 3ms/step\n"
     ]
    }
   ],
   "source": [
    "y_predicted = neural_network.predict(X_test)\n",
    "y_predicted = (y_predicted > 0.5).astype(int)"
   ]
  },
  {
   "cell_type": "code",
   "execution_count": 120,
   "id": "de3d5003",
   "metadata": {},
   "outputs": [
    {
     "name": "stdout",
     "output_type": "stream",
     "text": [
      "F1 score je: 0.746\n"
     ]
    }
   ],
   "source": [
    "neural_network_f1 = metrics.f1_score(y_test, y_predicted)\n",
    "print('F1 score je: %.3f' %neural_network_f1)"
   ]
  },
  {
   "cell_type": "code",
   "execution_count": 121,
   "id": "6ed73b38",
   "metadata": {},
   "outputs": [
    {
     "name": "stdout",
     "output_type": "stream",
     "text": [
      "AUC je: 0.779\n"
     ]
    }
   ],
   "source": [
    "neural_network_auc = metrics.roc_auc_score(y_test, y_predicted)\n",
    "print('AUC je: %.3f' %neural_network_auc)"
   ]
  },
  {
   "cell_type": "code",
   "execution_count": 122,
   "id": "a423007f",
   "metadata": {},
   "outputs": [
    {
     "name": "stdout",
     "output_type": "stream",
     "text": [
      "[[524 101]\n",
      " [135 346]]\n"
     ]
    }
   ],
   "source": [
    "print(metrics.confusion_matrix(y_test, y_predicted))"
   ]
  },
  {
   "cell_type": "markdown",
   "id": "a4deb52c",
   "metadata": {},
   "source": [
    "Kada uporedimo sa logistickom regresijom sa l2 regularizacijom, vidimo da je ona ipak bolja."
   ]
  },
  {
   "cell_type": "code",
   "execution_count": 123,
   "id": "d3b64f34",
   "metadata": {},
   "outputs": [
    {
     "name": "stdout",
     "output_type": "stream",
     "text": [
      "Tacnost za logicticku regresiju sa l2 regularizacijom: 0.788\n",
      "Tacnost za neuronsku mrezu: 0.787\n"
     ]
    }
   ],
   "source": [
    "print('Tacnost za logicticku regresiju sa l2 regularizacijom: %.3f' %l2_accuracy)\n",
    "print('Tacnost za neuronsku mrezu: %.3f' %neural_network_accuracy)"
   ]
  },
  {
   "cell_type": "code",
   "execution_count": 124,
   "id": "84369314",
   "metadata": {},
   "outputs": [
    {
     "name": "stdout",
     "output_type": "stream",
     "text": [
      "F1 score za logicticku regresiju sa l2 regularizacijom: 0.754\n",
      "F1 score za neuronsku mrezu: 0.746\n"
     ]
    }
   ],
   "source": [
    "print('F1 score za logicticku regresiju sa l2 regularizacijom: %.3f' %l2_f1)\n",
    "print('F1 score za neuronsku mrezu: %.3f' %neural_network_f1)"
   ]
  },
  {
   "cell_type": "code",
   "execution_count": 125,
   "id": "21085d8a",
   "metadata": {},
   "outputs": [
    {
     "name": "stdout",
     "output_type": "stream",
     "text": [
      "AUC za logicticku regresiju sa l2 regularizacijom: 0.860\n",
      "AUC za neuronsku mrezu: 0.779\n"
     ]
    }
   ],
   "source": [
    "print('AUC za logicticku regresiju sa l2 regularizacijom: %.3f' %l2_auc)\n",
    "print('AUC za neuronsku mrezu: %.3f' %neural_network_auc)"
   ]
  },
  {
   "cell_type": "markdown",
   "id": "0552ed49",
   "metadata": {},
   "source": [
    "Dakle, na kraju nam je ipak najbolji model - logisticka regresija sa l2 regularizacijom."
   ]
  },
  {
   "cell_type": "code",
   "execution_count": null,
   "id": "663245fe",
   "metadata": {},
   "outputs": [],
   "source": []
  },
  {
   "cell_type": "markdown",
   "id": "8eefab96",
   "metadata": {},
   "source": [
    "# Cuvanje najboljeg modela "
   ]
  },
  {
   "cell_type": "code",
   "execution_count": 126,
   "id": "7f1b5975",
   "metadata": {},
   "outputs": [],
   "source": [
    "import pickle"
   ]
  },
  {
   "cell_type": "code",
   "execution_count": 127,
   "id": "11cb59a2",
   "metadata": {},
   "outputs": [],
   "source": [
    "with open ('required_dosage_of_warfarin_classification.model', 'wb') as pickle_file:\n",
    "    pickle.dump(logistic_regression_l2, pickle_file)"
   ]
  },
  {
   "cell_type": "code",
   "execution_count": 128,
   "id": "b04914e1",
   "metadata": {},
   "outputs": [],
   "source": [
    "with open ('required_dosage_of_warfarin_classification.scaler', 'wb') as pickle_file:\n",
    "    pickle.dump(scaler_l2, pickle_file)"
   ]
  },
  {
   "cell_type": "code",
   "execution_count": null,
   "id": "67ed6c7f",
   "metadata": {},
   "outputs": [],
   "source": []
  }
 ],
 "metadata": {
  "kernelspec": {
   "display_name": "Python 3 (ipykernel)",
   "language": "python",
   "name": "python3"
  },
  "language_info": {
   "codemirror_mode": {
    "name": "ipython",
    "version": 3
   },
   "file_extension": ".py",
   "mimetype": "text/x-python",
   "name": "python",
   "nbconvert_exporter": "python",
   "pygments_lexer": "ipython3",
   "version": "3.9.7"
  }
 },
 "nbformat": 4,
 "nbformat_minor": 5
}
