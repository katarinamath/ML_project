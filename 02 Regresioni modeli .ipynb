{
 "cells": [
  {
   "cell_type": "markdown",
   "id": "d3a3c6c3",
   "metadata": {},
   "source": [
    "# Regresioni modeli "
   ]
  },
  {
   "cell_type": "code",
   "execution_count": 1,
   "id": "9906fad8",
   "metadata": {},
   "outputs": [],
   "source": [
    "import numpy as np\n",
    "from matplotlib import pyplot as plt\n",
    "from sklearn import model_selection, linear_model, metrics, svm, preprocessing, pipeline"
   ]
  },
  {
   "cell_type": "code",
   "execution_count": 2,
   "id": "61ca5f3e",
   "metadata": {},
   "outputs": [],
   "source": [
    "# prvo da ucitamo podatke iz prethodne sveske"
   ]
  },
  {
   "cell_type": "code",
   "execution_count": 3,
   "id": "f9955c90",
   "metadata": {},
   "outputs": [],
   "source": [
    "%store -r X_final"
   ]
  },
  {
   "cell_type": "code",
   "execution_count": 4,
   "id": "c7b26e89",
   "metadata": {},
   "outputs": [],
   "source": [
    "%store -r y_regression"
   ]
  },
  {
   "cell_type": "code",
   "execution_count": 5,
   "id": "295c8d35",
   "metadata": {},
   "outputs": [],
   "source": [
    "# preimenujmo X_final u X i y_regression u y\n",
    "# to nam je sad skup podataka za modele regresije\n",
    "X = X_final\n",
    "y = y_regression"
   ]
  },
  {
   "cell_type": "markdown",
   "id": "bcdc81d4",
   "metadata": {},
   "source": [
    "# Podela skupa podataka "
   ]
  },
  {
   "cell_type": "code",
   "execution_count": 6,
   "id": "e2d56fcd",
   "metadata": {},
   "outputs": [],
   "source": [
    "# delimo podatke tako da imamo 80% podataka u skupu za trening i validaciju, a 20% u skupu za testiranje"
   ]
  },
  {
   "cell_type": "code",
   "execution_count": 7,
   "id": "ff56e1a5",
   "metadata": {},
   "outputs": [],
   "source": [
    "X_train_and_validation, X_test, y_train_and_validation, y_test = \\\n",
    "    model_selection.train_test_split(X, y, test_size=0.2, random_state=5)"
   ]
  },
  {
   "cell_type": "code",
   "execution_count": 8,
   "id": "ec9e33f9",
   "metadata": {},
   "outputs": [
    {
     "name": "stdout",
     "output_type": "stream",
     "text": [
      "U skupu za treniranje i validaciju imamo instanci:  4422\n",
      "U skupu za testiranje imamo instanci:  1106\n"
     ]
    }
   ],
   "source": [
    "print('U skupu za treniranje i validaciju imamo instanci: ', X_train_and_validation.shape[0])\n",
    "print('U skupu za testiranje imamo instanci: ', X_test.shape[0])"
   ]
  },
  {
   "cell_type": "markdown",
   "id": "ae777802",
   "metadata": {},
   "source": [
    "# Linearna regresija "
   ]
  },
  {
   "cell_type": "code",
   "execution_count": 9,
   "id": "291c8ee3",
   "metadata": {},
   "outputs": [],
   "source": [
    "# Ovaj model nema hiperparametre, pa cemo model obucavati na skupu za trening i validaciju, a evaluiracemo na test skupu."
   ]
  },
  {
   "cell_type": "code",
   "execution_count": 10,
   "id": "e801b4be",
   "metadata": {},
   "outputs": [],
   "source": [
    "# Prvo moramo skaliramo podatke. U prve 4 kolone u dataframe-u X su nam numericki atributi i njih standardizujemo. \n",
    "# Ostali atributi su enkodirani i njih nije potrebno standardizovati."
   ]
  },
  {
   "cell_type": "code",
   "execution_count": 11,
   "id": "899ba9d8",
   "metadata": {},
   "outputs": [],
   "source": [
    "# Napravicemo kopiju podataka, zato sto cemo ih transormisati pomocu scaler-a, a trebace nam originalni podaci za kasnije modele.\n",
    "# Ovde na scaler-u fitujemo uniju skupa za trening i validaciju, a kasnije cemo imati posebno skupove (za trening i za validaciju),\n",
    "# pa zato ostavljano originalne podatke."
   ]
  },
  {
   "cell_type": "code",
   "execution_count": 12,
   "id": "1b2a33b3",
   "metadata": {},
   "outputs": [],
   "source": [
    "X_train_and_validation_copy = X_train_and_validation.copy()\n",
    "X_test_copy = X_test.copy()"
   ]
  },
  {
   "cell_type": "code",
   "execution_count": 13,
   "id": "153a99da",
   "metadata": {},
   "outputs": [],
   "source": [
    "scaler = preprocessing.StandardScaler()\n",
    "scaler.fit(X_train_and_validation_copy[:, 0:4])\n",
    "X_train_and_validation_copy[:, 0:4] = scaler.transform(X_train_and_validation_copy[:, 0:4])\n",
    "X_test_copy[:, 0:4] = scaler.transform(X_test_copy[:, 0:4])"
   ]
  },
  {
   "cell_type": "code",
   "execution_count": 16,
   "id": "7af15c99",
   "metadata": {},
   "outputs": [],
   "source": [
    "# model\n",
    "linear_regression = linear_model.LinearRegression()"
   ]
  },
  {
   "cell_type": "code",
   "execution_count": 17,
   "id": "20776aa3",
   "metadata": {},
   "outputs": [
    {
     "data": {
      "text/plain": [
       "LinearRegression()"
      ]
     },
     "execution_count": 17,
     "metadata": {},
     "output_type": "execute_result"
    }
   ],
   "source": [
    "# treniranje modela\n",
    "linear_regression.fit(X_train_and_validation_copy, y_train_and_validation)"
   ]
  },
  {
   "cell_type": "code",
   "execution_count": 18,
   "id": "0c59d92c",
   "metadata": {},
   "outputs": [],
   "source": [
    "# evaluacija\n",
    "# score po defaultu izrecunava r2 score\n",
    "linear_regression_score = linear_regression.score(X_test_copy, y_test)"
   ]
  },
  {
   "cell_type": "code",
   "execution_count": 19,
   "id": "4f3a4e85",
   "metadata": {},
   "outputs": [],
   "source": [
    "linear_regression_mse = metrics.mean_squared_error(y_test, linear_regression.predict(X_test_copy))"
   ]
  },
  {
   "cell_type": "code",
   "execution_count": 20,
   "id": "27442109",
   "metadata": {},
   "outputs": [
    {
     "name": "stdout",
     "output_type": "stream",
     "text": [
      "R2 skor za obican model linearne regresije: -37511813023445680128.00\n",
      "MSE za obican model linearne regresije: 9707577518454722265088.00\n"
     ]
    }
   ],
   "source": [
    "print('R2 skor za obican model linearne regresije: %.2f' %linear_regression_score) \n",
    "print('MSE za obican model linearne regresije: %.2f' %linear_regression_mse) "
   ]
  },
  {
   "cell_type": "markdown",
   "id": "61a68350",
   "metadata": {},
   "source": [
    "# Linearna regresija sa l2 regularizacijom (ridge regression)"
   ]
  },
  {
   "cell_type": "code",
   "execution_count": 21,
   "id": "c8f9197d",
   "metadata": {},
   "outputs": [],
   "source": [
    "# imamo regularizacioni parametar alpha\n",
    "# za izbor najboljeg parametra cemo uraditi unakrsnu validaciju sa 10 slojeva"
   ]
  },
  {
   "cell_type": "code",
   "execution_count": 22,
   "id": "675de001",
   "metadata": {},
   "outputs": [],
   "source": [
    "alphas = np.array([0.0001, 0.001, 0.01, 0.1, 1.0, 10.0, 100.0, 1000.0, 10000.0, 100000.0])"
   ]
  },
  {
   "cell_type": "code",
   "execution_count": 23,
   "id": "1ba0aa83",
   "metadata": {},
   "outputs": [],
   "source": [
    "# i ovde cemo standardizovati numericke atribute, pa nam treba scaler\n",
    "scaler2 = preprocessing.StandardScaler()"
   ]
  },
  {
   "cell_type": "code",
   "execution_count": 24,
   "id": "084642f0",
   "metadata": {},
   "outputs": [],
   "source": [
    "# sada unakrsnom validacijom biramo optimalni parametar \n",
    "optimal_score = 0\n",
    "optimal_alpha = 0\n",
    "validation_scores = []\n",
    "\n",
    "for alpha in alphas:\n",
    "    model = linear_model.Ridge(alpha=alpha)\n",
    "    # da bismo podatke i skalirali u ovom procesu unakrsne validacije, pravimo pipeline koji sadrzi scaler i model, i njega \n",
    "    # saljemo kao prvi argument funkciji cross_val_score\n",
    "    l2_pipeline = pipeline.make_pipeline(scaler2, model)\n",
    "    scores = model_selection.cross_val_score(l2_pipeline, X_train_and_validation, y_train_and_validation, scoring='r2', cv=10)\n",
    "    score = scores.mean()\n",
    "    validation_scores.append(score)\n",
    "    \n",
    "    if score > optimal_score:\n",
    "        optimal_score = score\n",
    "        optimal_alpha = alpha"
   ]
  },
  {
   "cell_type": "code",
   "execution_count": 26,
   "id": "15d3aead",
   "metadata": {},
   "outputs": [
    {
     "data": {
      "image/png": "[encoded data removed]",
      "text/plain": [
       "<Figure size 432x288 with 1 Axes>"
      ]
     },
     "metadata": {
      "needs_background": "light"
     },
     "output_type": "display_data"
    }
   ],
   "source": [
    "# nacrtajmo r2 skor na validacionom skupu za razlicite vrednosti parametra alpha\n",
    "plt.plot(alphas, validation_scores)\n",
    "plt.title('Greske za razlicite izbore parametra dobijene unakrsnom validacijom')\n",
    "plt.xscale('log')\n",
    "plt.xlabel('alpha')\n",
    "plt.ylabel('r2 score')\n",
    "plt.show()"
   ]
  },
  {
   "cell_type": "code",
   "execution_count": 27,
   "id": "d4e1833f",
   "metadata": {},
   "outputs": [
    {
     "name": "stdout",
     "output_type": "stream",
     "text": [
      "R2 skor na skupu za validaciju: 0.45\n"
     ]
    }
   ],
   "source": [
    "print('R2 skor na skupu za validaciju: %.2f' %optimal_score) "
   ]
  },
  {
   "cell_type": "code",
   "execution_count": 28,
   "id": "1f5a0547",
   "metadata": {},
   "outputs": [
    {
     "name": "stdout",
     "output_type": "stream",
     "text": [
      "Optimalna vrednost parametra alpha:  1000.0\n"
     ]
    }
   ],
   "source": [
    "print('Optimalna vrednost parametra alpha: ', optimal_alpha)"
   ]
  },
  {
   "cell_type": "code",
   "execution_count": 105,
   "id": "58f9cbe8",
   "metadata": {},
   "outputs": [],
   "source": [
    "# sada sa ovim optimalnim alfa pravimo model:"
   ]
  },
  {
   "cell_type": "code",
   "execution_count": 29,
   "id": "b15a9ed3",
   "metadata": {},
   "outputs": [],
   "source": [
    "scaler2.fit(X_train_and_validation)\n",
    "X_train_and_validation_new = scaler2.transform(X_train_and_validation)\n",
    "X_test_new = scaler2.transform(X_test)"
   ]
  },
  {
   "cell_type": "code",
   "execution_count": 31,
   "id": "827b3e9e",
   "metadata": {},
   "outputs": [],
   "source": [
    "# model\n",
    "ridge_regression = linear_model.Ridge(alpha=optimal_alpha)"
   ]
  },
  {
   "cell_type": "code",
   "execution_count": 32,
   "id": "da417ca2",
   "metadata": {},
   "outputs": [
    {
     "data": {
      "text/plain": [
       "Ridge(alpha=1000.0)"
      ]
     },
     "execution_count": 32,
     "metadata": {},
     "output_type": "execute_result"
    }
   ],
   "source": [
    "# treniranje modela\n",
    "ridge_regression.fit(X_train_and_validation_new, y_train_and_validation)"
   ]
  },
  {
   "cell_type": "code",
   "execution_count": 33,
   "id": "c0f9ee11",
   "metadata": {},
   "outputs": [],
   "source": [
    "# evaluacija \n",
    "ridge_regression_score = ridge_regression.score(X_test_new, y_test)"
   ]
  },
  {
   "cell_type": "code",
   "execution_count": 34,
   "id": "17edaf15",
   "metadata": {},
   "outputs": [],
   "source": [
    "ridge_regression_mse = metrics.mean_squared_error(y_test, ridge_regression.predict(X_test_new))"
   ]
  },
  {
   "cell_type": "code",
   "execution_count": 35,
   "id": "c19b0cb0",
   "metadata": {},
   "outputs": [
    {
     "name": "stdout",
     "output_type": "stream",
     "text": [
      "R2 skor za model linearne regresije sa l2 regularizacijom: 0.36\n",
      "MSE za model linearne regresije sa l2 regularizacijom: 166.39\n"
     ]
    }
   ],
   "source": [
    "print('R2 skor za model linearne regresije sa l2 regularizacijom: %.2f' %ridge_regression_score) \n",
    "print('MSE za model linearne regresije sa l2 regularizacijom: %.2f' %ridge_regression_mse) "
   ]
  },
  {
   "cell_type": "markdown",
   "id": "4e7bd2ae",
   "metadata": {},
   "source": [
    "# Linearna regresija sa l1 regularizacijom (lasso regression)"
   ]
  },
  {
   "cell_type": "code",
   "execution_count": 111,
   "id": "b478d527",
   "metadata": {},
   "outputs": [],
   "source": [
    "# i ovde imamo regularizacioni parametar \n",
    "# uzecemo iste alfe kao i malopre"
   ]
  },
  {
   "cell_type": "code",
   "execution_count": 36,
   "id": "73f490af",
   "metadata": {},
   "outputs": [
    {
     "data": {
      "text/plain": [
       "array([1.e-04, 1.e-03, 1.e-02, 1.e-01, 1.e+00, 1.e+01, 1.e+02, 1.e+03,\n",
       "       1.e+04, 1.e+05])"
      ]
     },
     "execution_count": 36,
     "metadata": {},
     "output_type": "execute_result"
    }
   ],
   "source": [
    "alphas"
   ]
  },
  {
   "cell_type": "code",
   "execution_count": 37,
   "id": "e69a160e",
   "metadata": {},
   "outputs": [],
   "source": [
    "scaler3 = preprocessing.StandardScaler()"
   ]
  },
  {
   "cell_type": "code",
   "execution_count": 38,
   "id": "13ee1b2f",
   "metadata": {},
   "outputs": [
    {
     "name": "stderr",
     "output_type": "stream",
     "text": [
      "C:\\Users\\Lenovo\\anaconda3\\lib\\site-packages\\sklearn\\linear_model\\_coordinate_descent.py:530: ConvergenceWarning: Objective did not converge. You might want to increase the number of iterations. Duality gap: 282493.7570210807, tolerance: 115.57180597890677\n",
      "  model = cd_fast.enet_coordinate_descent(\n",
      "C:\\Users\\Lenovo\\anaconda3\\lib\\site-packages\\sklearn\\linear_model\\_coordinate_descent.py:530: ConvergenceWarning: Objective did not converge. You might want to increase the number of iterations. Duality gap: 275927.2673862362, tolerance: 115.3495415784136\n",
      "  model = cd_fast.enet_coordinate_descent(\n",
      "C:\\Users\\Lenovo\\anaconda3\\lib\\site-packages\\sklearn\\linear_model\\_coordinate_descent.py:530: ConvergenceWarning: Objective did not converge. You might want to increase the number of iterations. Duality gap: 289005.5155424545, tolerance: 116.12063051574545\n",
      "  model = cd_fast.enet_coordinate_descent(\n",
      "C:\\Users\\Lenovo\\anaconda3\\lib\\site-packages\\sklearn\\linear_model\\_coordinate_descent.py:530: ConvergenceWarning: Objective did not converge. You might want to increase the number of iterations. Duality gap: 289585.3633099998, tolerance: 118.20288608823938\n",
      "  model = cd_fast.enet_coordinate_descent(\n",
      "C:\\Users\\Lenovo\\anaconda3\\lib\\site-packages\\sklearn\\linear_model\\_coordinate_descent.py:530: ConvergenceWarning: Objective did not converge. You might want to increase the number of iterations. Duality gap: 246940.3893760061, tolerance: 107.25250269051143\n",
      "  model = cd_fast.enet_coordinate_descent(\n",
      "C:\\Users\\Lenovo\\anaconda3\\lib\\site-packages\\sklearn\\linear_model\\_coordinate_descent.py:530: ConvergenceWarning: Objective did not converge. You might want to increase the number of iterations. Duality gap: 277061.77553697524, tolerance: 114.28500828697338\n",
      "  model = cd_fast.enet_coordinate_descent(\n",
      "C:\\Users\\Lenovo\\anaconda3\\lib\\site-packages\\sklearn\\linear_model\\_coordinate_descent.py:530: ConvergenceWarning: Objective did not converge. You might want to increase the number of iterations. Duality gap: 283945.3928037355, tolerance: 115.46659957399055\n",
      "  model = cd_fast.enet_coordinate_descent(\n",
      "C:\\Users\\Lenovo\\anaconda3\\lib\\site-packages\\sklearn\\linear_model\\_coordinate_descent.py:530: ConvergenceWarning: Objective did not converge. You might want to increase the number of iterations. Duality gap: 283703.6008469174, tolerance: 115.00396396196578\n",
      "  model = cd_fast.enet_coordinate_descent(\n",
      "C:\\Users\\Lenovo\\anaconda3\\lib\\site-packages\\sklearn\\linear_model\\_coordinate_descent.py:530: ConvergenceWarning: Objective did not converge. You might want to increase the number of iterations. Duality gap: 283306.75970136584, tolerance: 113.19248400228643\n",
      "  model = cd_fast.enet_coordinate_descent(\n",
      "C:\\Users\\Lenovo\\anaconda3\\lib\\site-packages\\sklearn\\linear_model\\_coordinate_descent.py:530: ConvergenceWarning: Objective did not converge. You might want to increase the number of iterations. Duality gap: 286931.8582042117, tolerance: 115.61969587404216\n",
      "  model = cd_fast.enet_coordinate_descent(\n",
      "C:\\Users\\Lenovo\\anaconda3\\lib\\site-packages\\sklearn\\linear_model\\_coordinate_descent.py:530: ConvergenceWarning: Objective did not converge. You might want to increase the number of iterations. Duality gap: 213560.52165610547, tolerance: 115.57180597890677\n",
      "  model = cd_fast.enet_coordinate_descent(\n",
      "C:\\Users\\Lenovo\\anaconda3\\lib\\site-packages\\sklearn\\linear_model\\_coordinate_descent.py:530: ConvergenceWarning: Objective did not converge. You might want to increase the number of iterations. Duality gap: 179302.84409109238, tolerance: 115.3495415784136\n",
      "  model = cd_fast.enet_coordinate_descent(\n",
      "C:\\Users\\Lenovo\\anaconda3\\lib\\site-packages\\sklearn\\linear_model\\_coordinate_descent.py:530: ConvergenceWarning: Objective did not converge. You might want to increase the number of iterations. Duality gap: 213909.5480802317, tolerance: 116.12063051574545\n",
      "  model = cd_fast.enet_coordinate_descent(\n",
      "C:\\Users\\Lenovo\\anaconda3\\lib\\site-packages\\sklearn\\linear_model\\_coordinate_descent.py:530: ConvergenceWarning: Objective did not converge. You might want to increase the number of iterations. Duality gap: 227799.15396004054, tolerance: 118.20288608823938\n",
      "  model = cd_fast.enet_coordinate_descent(\n",
      "C:\\Users\\Lenovo\\anaconda3\\lib\\site-packages\\sklearn\\linear_model\\_coordinate_descent.py:530: ConvergenceWarning: Objective did not converge. You might want to increase the number of iterations. Duality gap: 162675.15140609146, tolerance: 107.25250269051143\n",
      "  model = cd_fast.enet_coordinate_descent(\n",
      "C:\\Users\\Lenovo\\anaconda3\\lib\\site-packages\\sklearn\\linear_model\\_coordinate_descent.py:530: ConvergenceWarning: Objective did not converge. You might want to increase the number of iterations. Duality gap: 167577.52368161868, tolerance: 114.28500828697338\n",
      "  model = cd_fast.enet_coordinate_descent(\n",
      "C:\\Users\\Lenovo\\anaconda3\\lib\\site-packages\\sklearn\\linear_model\\_coordinate_descent.py:530: ConvergenceWarning: Objective did not converge. You might want to increase the number of iterations. Duality gap: 211841.96567267523, tolerance: 115.46659957399055\n",
      "  model = cd_fast.enet_coordinate_descent(\n",
      "C:\\Users\\Lenovo\\anaconda3\\lib\\site-packages\\sklearn\\linear_model\\_coordinate_descent.py:530: ConvergenceWarning: Objective did not converge. You might want to increase the number of iterations. Duality gap: 219900.76145851816, tolerance: 115.00396396196578\n",
      "  model = cd_fast.enet_coordinate_descent(\n",
      "C:\\Users\\Lenovo\\anaconda3\\lib\\site-packages\\sklearn\\linear_model\\_coordinate_descent.py:530: ConvergenceWarning: Objective did not converge. You might want to increase the number of iterations. Duality gap: 221135.34265144076, tolerance: 113.19248400228643\n",
      "  model = cd_fast.enet_coordinate_descent(\n",
      "C:\\Users\\Lenovo\\anaconda3\\lib\\site-packages\\sklearn\\linear_model\\_coordinate_descent.py:530: ConvergenceWarning: Objective did not converge. You might want to increase the number of iterations. Duality gap: 223571.17096603924, tolerance: 115.61969587404216\n",
      "  model = cd_fast.enet_coordinate_descent(\n",
      "C:\\Users\\Lenovo\\anaconda3\\lib\\site-packages\\sklearn\\linear_model\\_coordinate_descent.py:530: ConvergenceWarning: Objective did not converge. You might want to increase the number of iterations. Duality gap: 270.71944478189107, tolerance: 115.57180597890677\n",
      "  model = cd_fast.enet_coordinate_descent(\n",
      "C:\\Users\\Lenovo\\anaconda3\\lib\\site-packages\\sklearn\\linear_model\\_coordinate_descent.py:530: ConvergenceWarning: Objective did not converge. You might want to increase the number of iterations. Duality gap: 267.7459715541918, tolerance: 116.12063051574545\n",
      "  model = cd_fast.enet_coordinate_descent(\n",
      "C:\\Users\\Lenovo\\anaconda3\\lib\\site-packages\\sklearn\\linear_model\\_coordinate_descent.py:530: ConvergenceWarning: Objective did not converge. You might want to increase the number of iterations. Duality gap: 381.1046103676781, tolerance: 107.25250269051143\n",
      "  model = cd_fast.enet_coordinate_descent(\n",
      "C:\\Users\\Lenovo\\anaconda3\\lib\\site-packages\\sklearn\\linear_model\\_coordinate_descent.py:530: ConvergenceWarning: Objective did not converge. You might want to increase the number of iterations. Duality gap: 149.17179806856439, tolerance: 114.28500828697338\n",
      "  model = cd_fast.enet_coordinate_descent(\n",
      "C:\\Users\\Lenovo\\anaconda3\\lib\\site-packages\\sklearn\\linear_model\\_coordinate_descent.py:530: ConvergenceWarning: Objective did not converge. You might want to increase the number of iterations. Duality gap: 328.9027352849953, tolerance: 115.00396396196578\n",
      "  model = cd_fast.enet_coordinate_descent(\n",
      "C:\\Users\\Lenovo\\anaconda3\\lib\\site-packages\\sklearn\\linear_model\\_coordinate_descent.py:530: ConvergenceWarning: Objective did not converge. You might want to increase the number of iterations. Duality gap: 271.54711814725306, tolerance: 113.19248400228643\n",
      "  model = cd_fast.enet_coordinate_descent(\n",
      "C:\\Users\\Lenovo\\anaconda3\\lib\\site-packages\\sklearn\\linear_model\\_coordinate_descent.py:530: ConvergenceWarning: Objective did not converge. You might want to increase the number of iterations. Duality gap: 145.34323324332945, tolerance: 115.61969587404216\n",
      "  model = cd_fast.enet_coordinate_descent(\n"
     ]
    }
   ],
   "source": [
    "# unakrsnom validacijom biramo optimalno alpha\n",
    "optimal_score = 0\n",
    "optimal_alpha = 0\n",
    "validation_scores = []\n",
    "\n",
    "for alpha in alphas:\n",
    "    model = linear_model.Lasso(alpha=alpha)\n",
    "    l1_pipeline = pipeline.make_pipeline(scaler3, model)\n",
    "    scores = model_selection.cross_val_score(l1_pipeline, X_train_and_validation, y_train_and_validation, scoring='r2', cv=10)\n",
    "    score = scores.mean()\n",
    "    validation_scores.append(score)\n",
    "    \n",
    "    if score > optimal_score:\n",
    "        optimal_score = score\n",
    "        optimal_alpha = alpha"
   ]
  },
  {
   "cell_type": "code",
   "execution_count": 40,
   "id": "6323e5fe",
   "metadata": {},
   "outputs": [
    {
     "data": {
      "image/png": "[encoded data removed]",
      "text/plain": [
       "<Figure size 432x288 with 1 Axes>"
      ]
     },
     "metadata": {
      "needs_background": "light"
     },
     "output_type": "display_data"
    }
   ],
   "source": [
    "# crtamo grafika r2 skora na validacionom skupu za razlicite alphe\n",
    "plt.plot(alphas, validation_scores)\n",
    "plt.title('Greske za razlicite izbore parametra dobijene unakrsnom validacijom')\n",
    "plt.xscale('log')\n",
    "plt.xlabel('alpha')\n",
    "plt.ylabel('r2 score')\n",
    "plt.show()"
   ]
  },
  {
   "cell_type": "code",
   "execution_count": 41,
   "id": "441fbc3e",
   "metadata": {},
   "outputs": [
    {
     "name": "stdout",
     "output_type": "stream",
     "text": [
      "R2 skor na skupu za validaciju: 0.46\n"
     ]
    }
   ],
   "source": [
    "print('R2 skor na skupu za validaciju: %.2f' %optimal_score) "
   ]
  },
  {
   "cell_type": "code",
   "execution_count": 42,
   "id": "b476bf54",
   "metadata": {},
   "outputs": [
    {
     "name": "stdout",
     "output_type": "stream",
     "text": [
      "Optimalna vrednost parametra alpha:  0.1\n"
     ]
    }
   ],
   "source": [
    "print('Optimalna vrednost parametra alpha: ', optimal_alpha)"
   ]
  },
  {
   "cell_type": "code",
   "execution_count": 118,
   "id": "c7f0705e",
   "metadata": {},
   "outputs": [],
   "source": [
    "# sada sa ovim alfa praavimo konacan model"
   ]
  },
  {
   "cell_type": "code",
   "execution_count": 49,
   "id": "b24f220f",
   "metadata": {},
   "outputs": [],
   "source": [
    "scaler3.fit(X_train_and_validation)\n",
    "X_train_and_validation_l1 = scaler2.transform(X_train_and_validation)\n",
    "X_test_l1 = scaler2.transform(X_test)"
   ]
  },
  {
   "cell_type": "code",
   "execution_count": 50,
   "id": "db162b56",
   "metadata": {},
   "outputs": [],
   "source": [
    "# model\n",
    "lasso_regression = linear_model.Lasso(alpha=optimal_alpha)"
   ]
  },
  {
   "cell_type": "code",
   "execution_count": 51,
   "id": "6e5cdfaa",
   "metadata": {},
   "outputs": [
    {
     "data": {
      "text/plain": [
       "Lasso(alpha=0.1)"
      ]
     },
     "execution_count": 51,
     "metadata": {},
     "output_type": "execute_result"
    }
   ],
   "source": [
    "# treniranje \n",
    "lasso_regression.fit(X_train_and_validation_l1, y_train_and_validation)"
   ]
  },
  {
   "cell_type": "code",
   "execution_count": 52,
   "id": "8a4a5334",
   "metadata": {},
   "outputs": [],
   "source": [
    "# evaluacija\n",
    "lasso_regression_score = lasso_regression.score(X_test_l1, y_test)"
   ]
  },
  {
   "cell_type": "code",
   "execution_count": 53,
   "id": "935d62b2",
   "metadata": {},
   "outputs": [],
   "source": [
    "lasso_regression_mse = metrics.mean_squared_error(y_test, lasso_regression.predict(X_test_l1))"
   ]
  },
  {
   "cell_type": "code",
   "execution_count": 54,
   "id": "d0e08b9f",
   "metadata": {},
   "outputs": [
    {
     "name": "stdout",
     "output_type": "stream",
     "text": [
      "R2 skor za model linearne regresije sa l1 regularizacijom: 0.36\n",
      "MSE za model linearne regresije sa l1 regularizacijom: 166.19\n"
     ]
    }
   ],
   "source": [
    "print('R2 skor za model linearne regresije sa l1 regularizacijom: %.2f' %lasso_regression_score) \n",
    "print('MSE za model linearne regresije sa l1 regularizacijom: %.2f' %lasso_regression_mse) "
   ]
  },
  {
   "cell_type": "code",
   "execution_count": 57,
   "id": "1e1e2d64",
   "metadata": {},
   "outputs": [
    {
     "data": {
      "text/plain": [
       "array([ 8.10188348e-01,  3.57370874e+00,  3.07345639e-01,  5.98722502e-01,\n",
       "       -3.24691653e+00, -7.35838874e-01,  1.28444533e-01, -0.00000000e+00,\n",
       "       -2.54892794e-01,  0.00000000e+00, -7.66242840e-01, -3.71858729e-01,\n",
       "        0.00000000e+00, -1.15703935e-01, -0.00000000e+00,  1.13044686e-01,\n",
       "        3.99126905e-01,  1.04499501e-01,  0.00000000e+00,  7.54537336e-01,\n",
       "        0.00000000e+00,  3.77302905e-02, -0.00000000e+00, -7.12740741e-02,\n",
       "        5.49403000e-02,  0.00000000e+00, -0.00000000e+00,  0.00000000e+00,\n",
       "        0.00000000e+00,  3.87053835e-01,  1.76737082e-02,  1.14065995e-01,\n",
       "       -0.00000000e+00, -5.40559621e-03, -6.82846439e-01,  0.00000000e+00,\n",
       "       -0.00000000e+00,  0.00000000e+00,  2.61936958e-02, -0.00000000e+00,\n",
       "       -0.00000000e+00, -1.60925765e-01,  2.91687965e-02,  8.36753619e-02,\n",
       "       -2.43762174e-01, -2.02476793e-01, -5.51391449e-02, -0.00000000e+00,\n",
       "       -4.33748889e-02, -2.68629747e-01,  1.38306010e-01, -0.00000000e+00,\n",
       "       -0.00000000e+00, -0.00000000e+00,  0.00000000e+00,  2.52649513e-01,\n",
       "       -4.80464285e-02,  6.42061822e-02,  2.44895833e-01, -1.64807636e-02,\n",
       "        0.00000000e+00, -1.35233792e-01, -3.24744305e-01,  2.49609773e-02,\n",
       "       -1.10570126e-01,  0.00000000e+00,  0.00000000e+00,  0.00000000e+00,\n",
       "       -0.00000000e+00, -0.00000000e+00,  3.00505867e-02,  0.00000000e+00,\n",
       "        7.10732004e-01, -0.00000000e+00, -0.00000000e+00,  0.00000000e+00,\n",
       "        4.48963787e-01, -1.53145127e-01,  0.00000000e+00, -1.16918744e-01,\n",
       "        0.00000000e+00,  2.85339853e-01, -0.00000000e+00, -0.00000000e+00,\n",
       "        4.21724103e-01, -0.00000000e+00, -0.00000000e+00,  0.00000000e+00,\n",
       "       -2.40531161e-01,  0.00000000e+00,  6.19070397e-01, -0.00000000e+00,\n",
       "       -0.00000000e+00,  0.00000000e+00, -0.00000000e+00, -0.00000000e+00,\n",
       "        0.00000000e+00, -1.05773897e-01, -0.00000000e+00,  0.00000000e+00,\n",
       "        0.00000000e+00, -0.00000000e+00,  0.00000000e+00, -3.20324722e-02,\n",
       "       -0.00000000e+00,  1.44815613e-02, -0.00000000e+00,  2.49742524e-02,\n",
       "       -1.07728064e+00, -0.00000000e+00,  0.00000000e+00,  9.61786382e-01,\n",
       "       -0.00000000e+00,  0.00000000e+00,  5.25964722e-01, -0.00000000e+00,\n",
       "        0.00000000e+00, -1.58028348e-01, -0.00000000e+00,  0.00000000e+00,\n",
       "       -0.00000000e+00, -0.00000000e+00,  0.00000000e+00, -0.00000000e+00,\n",
       "       -0.00000000e+00,  0.00000000e+00, -2.57403537e-01, -0.00000000e+00,\n",
       "       -0.00000000e+00, -2.50186477e-01,  3.93720392e-01, -3.84482491e-01,\n",
       "        3.72914424e-14,  0.00000000e+00,  8.07594486e-01, -7.47551302e-01,\n",
       "        0.00000000e+00, -0.00000000e+00, -1.14412944e-02, -3.45700189e-02,\n",
       "        0.00000000e+00, -8.44130007e-01, -7.65458899e-02,  1.97737038e-03,\n",
       "       -0.00000000e+00, -4.71109273e-01, -9.15723265e-01,  2.39637583e-01,\n",
       "        0.00000000e+00, -0.00000000e+00, -1.04359711e-02,  0.00000000e+00,\n",
       "        0.00000000e+00, -0.00000000e+00, -1.60392985e-01,  0.00000000e+00,\n",
       "        0.00000000e+00, -0.00000000e+00, -5.82452823e-02, -2.96744844e-06,\n",
       "        0.00000000e+00, -1.17815930e-03,  0.00000000e+00, -0.00000000e+00,\n",
       "       -7.15795158e-01,  4.02790879e-01,  4.53315567e-02, -0.00000000e+00,\n",
       "        0.00000000e+00, -0.00000000e+00,  0.00000000e+00, -2.86376094e-02,\n",
       "       -0.00000000e+00,  0.00000000e+00,  0.00000000e+00, -0.00000000e+00,\n",
       "       -0.00000000e+00,  0.00000000e+00,  0.00000000e+00,  1.41975779e+00,\n",
       "        4.04978278e-01, -0.00000000e+00, -0.00000000e+00, -0.00000000e+00,\n",
       "        0.00000000e+00, -0.00000000e+00,  0.00000000e+00, -0.00000000e+00,\n",
       "       -0.00000000e+00,  7.84151880e-01,  0.00000000e+00,  9.70357958e-01,\n",
       "        0.00000000e+00, -2.15621574e-01,  0.00000000e+00, -0.00000000e+00,\n",
       "       -0.00000000e+00,  1.50849825e-01, -0.00000000e+00,  0.00000000e+00,\n",
       "       -0.00000000e+00,  0.00000000e+00,  0.00000000e+00, -7.41209031e-01,\n",
       "       -4.75485708e-03,  0.00000000e+00,  2.10364572e-01, -0.00000000e+00,\n",
       "        0.00000000e+00, -5.31712782e-01,  0.00000000e+00,  0.00000000e+00,\n",
       "       -0.00000000e+00, -3.09359882e-01,  2.71678717e-01, -1.08723888e-01,\n",
       "       -0.00000000e+00,  0.00000000e+00,  0.00000000e+00,  2.50974548e+00,\n",
       "       -0.00000000e+00, -0.00000000e+00, -1.55071172e-02,  0.00000000e+00,\n",
       "       -1.58883966e-01, -9.94601675e-03,  1.36111652e-02, -4.86091541e-01,\n",
       "       -1.01874965e+00, -5.30630019e-03,  8.11053594e-02, -2.77931288e+00,\n",
       "       -0.00000000e+00,  1.14385639e+00,  0.00000000e+00, -2.50988986e-01,\n",
       "       -0.00000000e+00, -0.00000000e+00,  0.00000000e+00,  8.92212385e-01,\n",
       "        0.00000000e+00, -1.89208899e+00, -0.00000000e+00, -6.07977401e-01,\n",
       "       -0.00000000e+00,  1.55001701e+00,  0.00000000e+00, -0.00000000e+00,\n",
       "       -0.00000000e+00,  0.00000000e+00, -0.00000000e+00, -0.00000000e+00,\n",
       "       -9.20554343e-02, -0.00000000e+00,  5.29775788e-01,  0.00000000e+00,\n",
       "       -2.07308625e-02, -0.00000000e+00,  1.07693334e-01])"
      ]
     },
     "execution_count": 57,
     "metadata": {},
     "output_type": "execute_result"
    }
   ],
   "source": [
    "lasso_regression.coef_"
   ]
  },
  {
   "cell_type": "code",
   "execution_count": null,
   "id": "1689e85f",
   "metadata": {},
   "outputs": [],
   "source": []
  },
  {
   "cell_type": "markdown",
   "id": "4851546d",
   "metadata": {},
   "source": [
    "# Metoda potpornih vektora za regularizaciju (SVR)"
   ]
  },
  {
   "cell_type": "code",
   "execution_count": 38,
   "id": "a94d018b",
   "metadata": {},
   "outputs": [],
   "source": [
    "# koristicemo RBF kernel - on ima parametar gamma\n",
    "# takodje imamo i parametar regularizacije C"
   ]
  },
  {
   "cell_type": "code",
   "execution_count": 39,
   "id": "94e34aa9",
   "metadata": {},
   "outputs": [],
   "source": [
    "gammas = np.array([0.001, 0.01, 0.1, 1.0, 10.0, 100.0, 1000.0])\n",
    "Cs = np.array([0.001, 0.01, 0.1, 1.0, 10.0, 100.0, 1000.0])"
   ]
  },
  {
   "cell_type": "code",
   "execution_count": null,
   "id": "a890e149",
   "metadata": {},
   "outputs": [],
   "source": [
    "optimal_score = 0 \n",
    "optimal_gamma = 0\n",
    "optimal_C = 0\n",
    "validation_scores = []\n",
    "\n",
    "for gamma in gammas:\n",
    "    for C in Cs:\n",
    "        model = svm.SVR(kernel='rbf', gamma=gamma, C=C)\n",
    "        scores = model_selection.cross_val_score(model, X_train_and_validation, y_train_and_validation, scoring='r2', cv=10)\n",
    "        score = scores.mean()\n",
    "        validation_scores.append(score)\n",
    "        \n",
    "        if score > optimal_score: \n",
    "            optimal_score = score\n",
    "            optimal_gamma = gamma\n",
    "            optimal_C = C"
   ]
  },
  {
   "cell_type": "code",
   "execution_count": null,
   "id": "5e96e8d6",
   "metadata": {},
   "outputs": [],
   "source": [
    "print('R2 skor na skupu za validaciju: %.2f' %optimal_score) "
   ]
  },
  {
   "cell_type": "code",
   "execution_count": null,
   "id": "76214023",
   "metadata": {},
   "outputs": [],
   "source": [
    "print('Optimalna vrednost parametra gamma: ', optimal_gamma)\n",
    "print('Optimalna vrednost parametra C: ', optimal_C)"
   ]
  },
  {
   "cell_type": "code",
   "execution_count": null,
   "id": "49900223",
   "metadata": {},
   "outputs": [],
   "source": [
    "# sada sa ovim gamma praavimo konacan model\n",
    "svm_regression = svm.SVR(kernel='rbf', gamma=optimal_gamma, C=optimal_C)"
   ]
  },
  {
   "cell_type": "code",
   "execution_count": null,
   "id": "6dc5b6f3",
   "metadata": {},
   "outputs": [],
   "source": [
    "# treniranje modela\n",
    "svm_regression.fit(X_train_and_validation, y_train_and_validation)"
   ]
  },
  {
   "cell_type": "code",
   "execution_count": null,
   "id": "b4266a91",
   "metadata": {},
   "outputs": [],
   "source": [
    "# evaluacija\n",
    "svm_regression_score = svm_regression.score(X_test, y_test)"
   ]
  },
  {
   "cell_type": "code",
   "execution_count": null,
   "id": "f26c833f",
   "metadata": {},
   "outputs": [],
   "source": [
    "svm_regression_mse = metrics.mean_squared_error(y_test, svm_regression.predict(X_test))"
   ]
  },
  {
   "cell_type": "code",
   "execution_count": null,
   "id": "b7f6676d",
   "metadata": {},
   "outputs": [],
   "source": [
    "print('R2 skor za model potpornih vektora: %.2f' %svm_regression_score) \n",
    "print('MSE za model potpornih vektora: %.2f' %svm_regression_mse) "
   ]
  },
  {
   "cell_type": "code",
   "execution_count": null,
   "id": "90b12bc2",
   "metadata": {},
   "outputs": [],
   "source": []
  }
 ],
 "metadata": {
  "kernelspec": {
   "display_name": "Python 3 (ipykernel)",
   "language": "python",
   "name": "python3"
  },
  "language_info": {
   "codemirror_mode": {
    "name": "ipython",
    "version": 3
   },
   "file_extension": ".py",
   "mimetype": "text/x-python",
   "name": "python",
   "nbconvert_exporter": "python",
   "pygments_lexer": "ipython3",
   "version": "3.9.7"
  }
 },
 "nbformat": 4,
 "nbformat_minor": 5
}
