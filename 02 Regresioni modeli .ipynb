{
 "cells": [
  {
   "cell_type": "markdown",
   "id": "d3a3c6c3",
   "metadata": {},
   "source": [
    "# Regresioni modeli "
   ]
  },
  {
   "cell_type": "code",
   "execution_count": 1,
   "id": "9906fad8",
   "metadata": {},
   "outputs": [],
   "source": [
    "import numpy as np\n",
    "from matplotlib import pyplot as plt\n",
    "from sklearn import model_selection, linear_model, metrics, svm, preprocessing, pipeline"
   ]
  },
  {
   "cell_type": "code",
   "execution_count": 2,
   "id": "61ca5f3e",
   "metadata": {},
   "outputs": [],
   "source": [
    "# prvo da ucitamo podatke iz prethodne sveske"
   ]
  },
  {
   "cell_type": "code",
   "execution_count": 3,
   "id": "f9955c90",
   "metadata": {},
   "outputs": [],
   "source": [
    "%store -r X_final"
   ]
  },
  {
   "cell_type": "code",
   "execution_count": 4,
   "id": "c7b26e89",
   "metadata": {},
   "outputs": [],
   "source": [
    "%store -r y_regression"
   ]
  },
  {
   "cell_type": "code",
   "execution_count": 5,
   "id": "295c8d35",
   "metadata": {},
   "outputs": [],
   "source": [
    "# preimenujmo X_final u X, a y_regression koji je tip Series prebacimo u niz, zato sto je i X visedimenzioni niz, \n",
    "# pa da budu istog tipa\n",
    "# to nam je sad skup podataka za modele regresije\n",
    "X = X_final\n",
    "y = y_regression.to_numpy()"
   ]
  },
  {
   "cell_type": "code",
   "execution_count": null,
   "id": "750c6c3d",
   "metadata": {},
   "outputs": [],
   "source": []
  },
  {
   "cell_type": "markdown",
   "id": "bcdc81d4",
   "metadata": {},
   "source": [
    "# Podela skupa podataka "
   ]
  },
  {
   "cell_type": "code",
   "execution_count": 6,
   "id": "e2d56fcd",
   "metadata": {},
   "outputs": [],
   "source": [
    "# delimo podatke tako da imamo 80% podataka u skupu za trening i validaciju, a 20% u skupu za testiranje"
   ]
  },
  {
   "cell_type": "code",
   "execution_count": 7,
   "id": "ff56e1a5",
   "metadata": {},
   "outputs": [],
   "source": [
    "X_train_and_validation, X_test, y_train_and_validation, y_test = \\\n",
    "    model_selection.train_test_split(X, y, test_size=0.2, random_state=7)"
   ]
  },
  {
   "cell_type": "code",
   "execution_count": 8,
   "id": "ec9e33f9",
   "metadata": {},
   "outputs": [
    {
     "name": "stdout",
     "output_type": "stream",
     "text": [
      "U skupu za treniranje i validaciju imamo instanci:  4422\n",
      "U skupu za testiranje imamo instanci:  1106\n"
     ]
    }
   ],
   "source": [
    "print('U skupu za treniranje i validaciju imamo instanci: ', X_train_and_validation.shape[0])\n",
    "print('U skupu za testiranje imamo instanci: ', X_test.shape[0])"
   ]
  },
  {
   "cell_type": "markdown",
   "id": "ae777802",
   "metadata": {},
   "source": [
    "# Linearna regresija "
   ]
  },
  {
   "cell_type": "code",
   "execution_count": 9,
   "id": "291c8ee3",
   "metadata": {},
   "outputs": [],
   "source": [
    "# Ovaj model nema hiperparametre, pa cemo model obucavati na skupu za trening i validaciju, a evaluiracemo na test skupu."
   ]
  },
  {
   "cell_type": "code",
   "execution_count": 10,
   "id": "e801b4be",
   "metadata": {},
   "outputs": [],
   "source": [
    "# Prvo moramo skaliramo podatke. U prve 4 kolone u dataframe-u X su nam numericki atributi i njih standardizujemo. \n",
    "# Ostali atributi su enkodirani i njih nije potrebno standardizovati."
   ]
  },
  {
   "cell_type": "code",
   "execution_count": 11,
   "id": "153a99da",
   "metadata": {},
   "outputs": [],
   "source": [
    "scaler = preprocessing.StandardScaler()\n",
    "scaler.fit(X_train_and_validation[:, 0:4])\n",
    "X_train_and_validation[:, 0:4] = scaler.transform(X_train_and_validation[:, 0:4])\n",
    "X_test[:, 0:4] = scaler.transform(X_test[:, 0:4])"
   ]
  },
  {
   "cell_type": "code",
   "execution_count": 12,
   "id": "7af15c99",
   "metadata": {},
   "outputs": [],
   "source": [
    "# model\n",
    "linear_regression = linear_model.LinearRegression()"
   ]
  },
  {
   "cell_type": "code",
   "execution_count": 13,
   "id": "20776aa3",
   "metadata": {},
   "outputs": [
    {
     "data": {
      "text/plain": [
       "LinearRegression()"
      ]
     },
     "execution_count": 13,
     "metadata": {},
     "output_type": "execute_result"
    }
   ],
   "source": [
    "# treniranje modela\n",
    "linear_regression.fit(X_train_and_validation, y_train_and_validation)"
   ]
  },
  {
   "cell_type": "code",
   "execution_count": 14,
   "id": "0c59d92c",
   "metadata": {},
   "outputs": [],
   "source": [
    "# evaluacija\n",
    "# score po defaultu izrecunava r2 score\n",
    "linear_regression_score = linear_regression.score(X_test, y_test)"
   ]
  },
  {
   "cell_type": "code",
   "execution_count": 15,
   "id": "4f3a4e85",
   "metadata": {},
   "outputs": [],
   "source": [
    "linear_regression_mse = metrics.mean_squared_error(y_test, linear_regression.predict(X_test))\n",
    "linear_regression_absolute = metrics.mean_absolute_error(y_test, linear_regression.predict(X_test))"
   ]
  },
  {
   "cell_type": "code",
   "execution_count": 16,
   "id": "27442109",
   "metadata": {},
   "outputs": [
    {
     "name": "stdout",
     "output_type": "stream",
     "text": [
      "R2 skor za obican model linearne regresije: -2033557816097715712.00\n",
      "MSE za obican model linearne regresije: 500604991357024534528.00\n",
      "Srednja apsolutna greska za obican model linearne regresije: 777758216.66\n"
     ]
    }
   ],
   "source": [
    "print('R2 skor za obican model linearne regresije: %.2f' %linear_regression_score) \n",
    "print('MSE za obican model linearne regresije: %.2f' %linear_regression_mse) \n",
    "print('Srednja apsolutna greska za obican model linearne regresije: %.2f' %linear_regression_absolute) "
   ]
  },
  {
   "cell_type": "markdown",
   "id": "3b016c7e",
   "metadata": {},
   "source": [
    "# Funkcija za unakrsnu validaciju"
   ]
  },
  {
   "cell_type": "code",
   "execution_count": 17,
   "id": "5950201b",
   "metadata": {},
   "outputs": [],
   "source": [
    "# s obzirom da skaliranje ne radimo na celom X, nego na samo prve 4 kolone, ne mozemo koristiti ugradjenu funkciju \n",
    "# cross_val_score, zato sto tu kada prosledimo pipeline sa modelom i skalerom, skalirace celo X, a to ne zelimo\n",
    "#\n",
    "# funkcija radi unakrsnu validaciju sa 10 slojeva i racuna r2 scor kao gresku "
   ]
  },
  {
   "cell_type": "code",
   "execution_count": 18,
   "id": "b6b14042",
   "metadata": {},
   "outputs": [],
   "source": [
    "def cross_validation (model, X_trainval, y_trainval):\n",
    "    \n",
    "    scores = []\n",
    "    kf = model_selection.KFold(n_splits=10)\n",
    "    \n",
    "    for train_indexes, validation_indexes in kf.split(X_trainval, y_trainval):\n",
    "        # pravimo skup za trening i za validaciju\n",
    "        X_train = X_trainval[train_indexes]\n",
    "        y_train = y_trainval[train_indexes]\n",
    "        X_validation = X_trainval[validation_indexes]\n",
    "        y_validation = y_trainval[validation_indexes]\n",
    "        \n",
    "        # skaliramo \n",
    "        scaler = preprocessing.StandardScaler()\n",
    "        scaler.fit(X_train[:, 0:4])\n",
    "        X_train[:, 0:4] = scaler.transform(X_train[:, 0:4])\n",
    "        X_validation[:, 0:4] = scaler.transform(X_validation[:, 0:4])\n",
    "        \n",
    "        # obucavanje modela\n",
    "        model.fit(X_train, y_train)\n",
    "        \n",
    "        # evaluacija na skupu za validaciju\n",
    "        score = model.score(X_validation, y_validation)\n",
    "        \n",
    "        scores.append(score)\n",
    "        return scores\n",
    "    "
   ]
  },
  {
   "cell_type": "code",
   "execution_count": null,
   "id": "e11767ba",
   "metadata": {},
   "outputs": [],
   "source": []
  },
  {
   "cell_type": "markdown",
   "id": "61a68350",
   "metadata": {},
   "source": [
    "# Linearna regresija sa l2 regularizacijom (ridge regression)"
   ]
  },
  {
   "cell_type": "code",
   "execution_count": 19,
   "id": "f650faea",
   "metadata": {},
   "outputs": [],
   "source": [
    "X_train_and_validation, X_test, y_train_and_validation, y_test = \\\n",
    "    model_selection.train_test_split(X, y, test_size=0.2, random_state=7)"
   ]
  },
  {
   "cell_type": "code",
   "execution_count": 20,
   "id": "c8f9197d",
   "metadata": {},
   "outputs": [],
   "source": [
    "# imamo regularizacioni parametar alpha\n",
    "# za izbor najboljeg parametra cemo uraditi unakrsnu validaciju sa 10 slojeva"
   ]
  },
  {
   "cell_type": "code",
   "execution_count": 21,
   "id": "675de001",
   "metadata": {},
   "outputs": [],
   "source": [
    "alphas = np.array([0.0001, 0.001, 0.01, 0.1, 1.0, 10.0, 100.0, 1000.0, 10000.0, 100000.0])"
   ]
  },
  {
   "cell_type": "code",
   "execution_count": 22,
   "id": "084642f0",
   "metadata": {},
   "outputs": [],
   "source": [
    "# sada unakrsnom validacijom biramo optimalni parametar \n",
    "optimal_score = 0\n",
    "optimal_alpha = 0\n",
    "validation_scores = []\n",
    "\n",
    "for alpha in alphas:\n",
    "    model = linear_model.Ridge(alpha=alpha)\n",
    "    # unakrsnu validaciju radimo pomocu funkcije cross_validation koju smo malopre definisali\n",
    "    scores = cross_validation(model, X_train_and_validation, y_train_and_validation)\n",
    "    score = sum(scores)/len(scores)\n",
    "    validation_scores.append(score)\n",
    "    \n",
    "    if score > optimal_score:\n",
    "        optimal_score = score\n",
    "        optimal_alpha = alpha"
   ]
  },
  {
   "cell_type": "code",
   "execution_count": 23,
   "id": "15d3aead",
   "metadata": {},
   "outputs": [
    {
     "data": {
      "image/png": "[encoded data removed]",
      "text/plain": [
       "<Figure size 432x288 with 1 Axes>"
      ]
     },
     "metadata": {
      "needs_background": "light"
     },
     "output_type": "display_data"
    }
   ],
   "source": [
    "# nacrtajmo r2 skor na validacionom skupu za razlicite vrednosti parametra alpha\n",
    "plt.plot(alphas, validation_scores)\n",
    "plt.title('Greske za razlicite izbore parametra dobijene unakrsnom validacijom')\n",
    "plt.xscale('log')\n",
    "plt.xlabel('alpha')\n",
    "plt.ylabel('r2 score')\n",
    "plt.show()"
   ]
  },
  {
   "cell_type": "code",
   "execution_count": 24,
   "id": "d4e1833f",
   "metadata": {},
   "outputs": [
    {
     "name": "stdout",
     "output_type": "stream",
     "text": [
      "R2 skor na skupu za validaciju: 0.46\n"
     ]
    }
   ],
   "source": [
    "print('R2 skor na skupu za validaciju: %.2f' %optimal_score) "
   ]
  },
  {
   "cell_type": "code",
   "execution_count": 25,
   "id": "1f5a0547",
   "metadata": {},
   "outputs": [
    {
     "name": "stdout",
     "output_type": "stream",
     "text": [
      "Optimalna vrednost parametra alpha:  100.0\n"
     ]
    }
   ],
   "source": [
    "print('Optimalna vrednost parametra alpha: ', optimal_alpha)"
   ]
  },
  {
   "cell_type": "code",
   "execution_count": 26,
   "id": "58f9cbe8",
   "metadata": {},
   "outputs": [],
   "source": [
    "# sada sa ovim optimalnim alfa pravimo model:"
   ]
  },
  {
   "cell_type": "code",
   "execution_count": 27,
   "id": "b15a9ed3",
   "metadata": {},
   "outputs": [],
   "source": [
    "scaler.fit(X_train_and_validation[:, 0:4])\n",
    "X_train_and_validation[:, 0:4] = scaler.transform(X_train_and_validation[:, 0:4])\n",
    "X_test[:, 0:4] = scaler.transform(X_test[:, 0:4])"
   ]
  },
  {
   "cell_type": "code",
   "execution_count": 28,
   "id": "827b3e9e",
   "metadata": {},
   "outputs": [],
   "source": [
    "# model\n",
    "ridge_regression = linear_model.Ridge(alpha=optimal_alpha)"
   ]
  },
  {
   "cell_type": "code",
   "execution_count": 29,
   "id": "da417ca2",
   "metadata": {},
   "outputs": [
    {
     "data": {
      "text/plain": [
       "Ridge(alpha=100.0)"
      ]
     },
     "execution_count": 29,
     "metadata": {},
     "output_type": "execute_result"
    }
   ],
   "source": [
    "# treniranje modela\n",
    "ridge_regression.fit(X_train_and_validation, y_train_and_validation)"
   ]
  },
  {
   "cell_type": "code",
   "execution_count": 30,
   "id": "c0f9ee11",
   "metadata": {},
   "outputs": [],
   "source": [
    "# evaluacija \n",
    "ridge_regression_score = ridge_regression.score(X_test, y_test)"
   ]
  },
  {
   "cell_type": "code",
   "execution_count": 31,
   "id": "17edaf15",
   "metadata": {},
   "outputs": [],
   "source": [
    "ridge_regression_mse = metrics.mean_squared_error(y_test, ridge_regression.predict(X_test))\n",
    "ridge_regression_absolute = metrics.mean_absolute_error(y_test, ridge_regression.predict(X_test))"
   ]
  },
  {
   "cell_type": "code",
   "execution_count": 32,
   "id": "c19b0cb0",
   "metadata": {},
   "outputs": [
    {
     "name": "stdout",
     "output_type": "stream",
     "text": [
      "R2 skor za model linearne regresije sa l2 regularizacijom: 0.51\n",
      "MSE za model linearne regresije sa l2 regularizacijom: 121.35\n",
      "Srednja apsolutna greska za model linearne regresije sa l2 regularizacijom: 8.00\n"
     ]
    }
   ],
   "source": [
    "print('R2 skor za model linearne regresije sa l2 regularizacijom: %.2f' %ridge_regression_score) \n",
    "print('MSE za model linearne regresije sa l2 regularizacijom: %.2f' %ridge_regression_mse) \n",
    "print('Srednja apsolutna greska za model linearne regresije sa l2 regularizacijom: %.2f' %ridge_regression_absolute) "
   ]
  },
  {
   "cell_type": "code",
   "execution_count": 33,
   "id": "7ba7c2e5",
   "metadata": {},
   "outputs": [],
   "source": [
    "# vidimo da je mnogo bolja greska cim smo uradili regularizaciju"
   ]
  },
  {
   "cell_type": "markdown",
   "id": "4e7bd2ae",
   "metadata": {},
   "source": [
    "# Linearna regresija sa l1 regularizacijom (lasso regression)"
   ]
  },
  {
   "cell_type": "code",
   "execution_count": 34,
   "id": "fe261d4f",
   "metadata": {},
   "outputs": [],
   "source": [
    "X_train_and_validation, X_test, y_train_and_validation, y_test = \\\n",
    "    model_selection.train_test_split(X, y, test_size=0.2, random_state=7)"
   ]
  },
  {
   "cell_type": "code",
   "execution_count": 35,
   "id": "b478d527",
   "metadata": {},
   "outputs": [],
   "source": [
    "# i ovde imamo regularizacioni parametar \n",
    "# uzecemo iste alfe kao i malopre"
   ]
  },
  {
   "cell_type": "code",
   "execution_count": 36,
   "id": "73f490af",
   "metadata": {},
   "outputs": [
    {
     "data": {
      "text/plain": [
       "array([1.e-04, 1.e-03, 1.e-02, 1.e-01, 1.e+00, 1.e+01, 1.e+02, 1.e+03,\n",
       "       1.e+04, 1.e+05])"
      ]
     },
     "execution_count": 36,
     "metadata": {},
     "output_type": "execute_result"
    }
   ],
   "source": [
    "alphas"
   ]
  },
  {
   "cell_type": "code",
   "execution_count": 37,
   "id": "13ee1b2f",
   "metadata": {},
   "outputs": [
    {
     "name": "stderr",
     "output_type": "stream",
     "text": [
      "C:\\Users\\Lenovo\\anaconda3\\lib\\site-packages\\sklearn\\linear_model\\_coordinate_descent.py:530: ConvergenceWarning: Objective did not converge. You might want to increase the number of iterations. Duality gap: 293490.39839385625, tolerance: 118.40295278220891\n",
      "  model = cd_fast.enet_coordinate_descent(\n",
      "C:\\Users\\Lenovo\\anaconda3\\lib\\site-packages\\sklearn\\linear_model\\_coordinate_descent.py:530: ConvergenceWarning: Objective did not converge. You might want to increase the number of iterations. Duality gap: 151661.23535811098, tolerance: 118.40295278220891\n",
      "  model = cd_fast.enet_coordinate_descent(\n",
      "C:\\Users\\Lenovo\\anaconda3\\lib\\site-packages\\sklearn\\linear_model\\_coordinate_descent.py:530: ConvergenceWarning: Objective did not converge. You might want to increase the number of iterations. Duality gap: 363.81572860106826, tolerance: 118.40295278220891\n",
      "  model = cd_fast.enet_coordinate_descent(\n"
     ]
    }
   ],
   "source": [
    "# unakrsnom validacijom biramo optimalno alpha\n",
    "optimal_score = 0\n",
    "optimal_alpha = 0\n",
    "validation_scores = []\n",
    "\n",
    "for alpha in alphas:\n",
    "    model = linear_model.Lasso(alpha=alpha)\n",
    "    scores = cross_validation(model, X_train_and_validation, y_train_and_validation)\n",
    "    score = sum(scores)/len(scores)\n",
    "    validation_scores.append(score)\n",
    "    \n",
    "    if score > optimal_score:\n",
    "        optimal_score = score\n",
    "        optimal_alpha = alpha"
   ]
  },
  {
   "cell_type": "code",
   "execution_count": 38,
   "id": "6323e5fe",
   "metadata": {},
   "outputs": [
    {
     "data": {
      "image/png": "[encoded data removed]",
      "text/plain": [
       "<Figure size 432x288 with 1 Axes>"
      ]
     },
     "metadata": {
      "needs_background": "light"
     },
     "output_type": "display_data"
    }
   ],
   "source": [
    "# crtamo grafika r2 skora na validacionom skupu za razlicite alphe\n",
    "plt.plot(alphas, validation_scores)\n",
    "plt.title('Greske za razlicite izbore parametra dobijene unakrsnom validacijom')\n",
    "plt.xscale('log')\n",
    "plt.xlabel('alpha')\n",
    "plt.ylabel('r2 score')\n",
    "plt.show()"
   ]
  },
  {
   "cell_type": "code",
   "execution_count": 39,
   "id": "441fbc3e",
   "metadata": {},
   "outputs": [
    {
     "name": "stdout",
     "output_type": "stream",
     "text": [
      "R2 skor na skupu za validaciju: 0.45\n"
     ]
    }
   ],
   "source": [
    "print('R2 skor na skupu za validaciju: %.2f' %optimal_score) "
   ]
  },
  {
   "cell_type": "code",
   "execution_count": 40,
   "id": "b476bf54",
   "metadata": {},
   "outputs": [
    {
     "name": "stdout",
     "output_type": "stream",
     "text": [
      "Optimalna vrednost parametra alpha:  0.01\n"
     ]
    }
   ],
   "source": [
    "print('Optimalna vrednost parametra alpha: ', optimal_alpha)"
   ]
  },
  {
   "cell_type": "code",
   "execution_count": 41,
   "id": "c7f0705e",
   "metadata": {},
   "outputs": [],
   "source": [
    "# sada sa ovim alfa pravimo konacan model"
   ]
  },
  {
   "cell_type": "code",
   "execution_count": 42,
   "id": "b24f220f",
   "metadata": {},
   "outputs": [],
   "source": [
    "scaler.fit(X_train_and_validation[:, 0:4])\n",
    "X_train_and_validation[:, 0:4] = scaler.transform(X_train_and_validation[:, 0:4])\n",
    "X_test[:, 0:4] = scaler.transform(X_test[:, 0:4])"
   ]
  },
  {
   "cell_type": "code",
   "execution_count": 43,
   "id": "db162b56",
   "metadata": {},
   "outputs": [],
   "source": [
    "# model\n",
    "lasso_regression = linear_model.Lasso(alpha=optimal_alpha)"
   ]
  },
  {
   "cell_type": "code",
   "execution_count": 44,
   "id": "6e5cdfaa",
   "metadata": {},
   "outputs": [
    {
     "name": "stderr",
     "output_type": "stream",
     "text": [
      "C:\\Users\\Lenovo\\anaconda3\\lib\\site-packages\\sklearn\\linear_model\\_coordinate_descent.py:530: ConvergenceWarning: Objective did not converge. You might want to increase the number of iterations. Duality gap: 431.1643970130244, tolerance: 128.7780528342195\n",
      "  model = cd_fast.enet_coordinate_descent(\n"
     ]
    },
    {
     "data": {
      "text/plain": [
       "Lasso(alpha=0.01)"
      ]
     },
     "execution_count": 44,
     "metadata": {},
     "output_type": "execute_result"
    }
   ],
   "source": [
    "# treniranje \n",
    "lasso_regression.fit(X_train_and_validation, y_train_and_validation)"
   ]
  },
  {
   "cell_type": "code",
   "execution_count": 45,
   "id": "8a4a5334",
   "metadata": {},
   "outputs": [],
   "source": [
    "# evaluacija\n",
    "lasso_regression_score = lasso_regression.score(X_test, y_test)"
   ]
  },
  {
   "cell_type": "code",
   "execution_count": 46,
   "id": "935d62b2",
   "metadata": {},
   "outputs": [],
   "source": [
    "lasso_regression_mse = metrics.mean_squared_error(y_test, lasso_regression.predict(X_test))\n",
    "lasso_regression_absolute = metrics.mean_absolute_error(y_test, lasso_regression.predict(X_test))"
   ]
  },
  {
   "cell_type": "code",
   "execution_count": 47,
   "id": "d0e08b9f",
   "metadata": {},
   "outputs": [
    {
     "name": "stdout",
     "output_type": "stream",
     "text": [
      "R2 skor za model linearne regresije sa l1 regularizacijom: 0.51\n",
      "MSE za model linearne regresije sa l1 regularizacijom: 120.39\n",
      "Srednja apsolutna greska za model linearne regresije sa l1 regularizacijom: 7.96\n"
     ]
    }
   ],
   "source": [
    "print('R2 skor za model linearne regresije sa l1 regularizacijom: %.2f' %lasso_regression_score) \n",
    "print('MSE za model linearne regresije sa l1 regularizacijom: %.2f' %lasso_regression_mse) \n",
    "print('Srednja apsolutna greska za model linearne regresije sa l1 regularizacijom: %.2f' %lasso_regression_absolute) "
   ]
  },
  {
   "cell_type": "code",
   "execution_count": 48,
   "id": "1e1e2d64",
   "metadata": {},
   "outputs": [
    {
     "data": {
      "text/plain": [
       "array([ 7.54743512e-01,  3.43401942e+00,  4.05011162e-01,  8.50213352e-01,\n",
       "       -2.08976513e+00, -6.44386447e-01,  2.23738683e-01, -0.00000000e+00,\n",
       "       -0.00000000e+00,  5.92231460e-01, -2.42074218e+00, -1.01926511e+00,\n",
       "        1.74153348e+00, -1.20686158e+00, -0.00000000e+00,  6.90571607e-01,\n",
       "        1.91326525e+00,  4.49193746e-01,  0.00000000e+00,  3.12304913e+00,\n",
       "       -0.00000000e+00,  0.00000000e+00, -0.00000000e+00,  0.00000000e+00,\n",
       "        0.00000000e+00,  0.00000000e+00,  0.00000000e+00,  0.00000000e+00,\n",
       "       -0.00000000e+00,  2.11407384e+00,  0.00000000e+00,  0.00000000e+00,\n",
       "       -0.00000000e+00, -0.00000000e+00, -1.70367078e+00,  0.00000000e+00,\n",
       "       -2.12783275e-01,  0.00000000e+00,  0.00000000e+00, -0.00000000e+00,\n",
       "       -0.00000000e+00, -0.00000000e+00,  0.00000000e+00,  1.60847599e+00,\n",
       "       -3.33411795e+00,  0.00000000e+00, -0.00000000e+00,  0.00000000e+00,\n",
       "       -0.00000000e+00, -9.99608508e-01,  0.00000000e+00, -0.00000000e+00,\n",
       "        0.00000000e+00,  3.27854987e-01, -0.00000000e+00,  0.00000000e+00,\n",
       "       -0.00000000e+00,  4.87036334e-01,  0.00000000e+00, -7.52294027e-01,\n",
       "       -0.00000000e+00, -0.00000000e+00, -9.86607262e-01,  0.00000000e+00,\n",
       "       -4.37999589e-01,  8.97384975e-01,  0.00000000e+00,  2.32379542e-01,\n",
       "       -6.76710839e-01,  0.00000000e+00,  3.37137850e-01, -4.71216653e-01,\n",
       "        7.07574317e-01, -1.20304205e+00,  0.00000000e+00,  0.00000000e+00,\n",
       "        1.30369163e+00, -1.83490505e+00, -0.00000000e+00,  0.00000000e+00,\n",
       "        0.00000000e+00,  8.03143120e-01, -9.69116296e-02, -0.00000000e+00,\n",
       "        1.22991149e+00, -0.00000000e+00, -0.00000000e+00,  0.00000000e+00,\n",
       "       -8.50450461e-01,  2.01421626e+00,  1.73721923e+00,  0.00000000e+00,\n",
       "       -4.05195247e+00,  0.00000000e+00, -0.00000000e+00, -0.00000000e+00,\n",
       "        4.75812369e+00, -0.00000000e+00, -0.00000000e+00,  0.00000000e+00,\n",
       "       -0.00000000e+00,  0.00000000e+00,  0.00000000e+00,  0.00000000e+00,\n",
       "       -0.00000000e+00,  1.67663397e+00, -4.70818927e-14,  4.88436300e-01,\n",
       "       -6.05947904e+00,  0.00000000e+00, -1.10935553e+01,  2.43923562e+00,\n",
       "        0.00000000e+00, -0.00000000e+00,  6.56947788e+00, -0.00000000e+00,\n",
       "       -0.00000000e+00,  2.60254480e+01, -0.00000000e+00,  0.00000000e+00,\n",
       "       -0.00000000e+00, -0.00000000e+00,  1.02168610e+00, -0.00000000e+00,\n",
       "       -0.00000000e+00, -1.95575332e+00,  0.00000000e+00,  0.00000000e+00,\n",
       "        0.00000000e+00, -2.19292494e-01,  4.97824980e-01, -2.44193433e+00,\n",
       "        1.96709141e-15, -0.00000000e+00,  3.21435867e+00, -2.07913861e+00,\n",
       "        0.00000000e+00, -0.00000000e+00, -0.00000000e+00, -0.00000000e+00,\n",
       "        0.00000000e+00, -0.00000000e+00, -0.00000000e+00,  0.00000000e+00,\n",
       "       -0.00000000e+00, -2.88068060e+00, -1.17611367e+01,  3.62233524e+00,\n",
       "        0.00000000e+00, -0.00000000e+00, -0.00000000e+00,  0.00000000e+00,\n",
       "        0.00000000e+00,  0.00000000e+00, -0.00000000e+00,  0.00000000e+00,\n",
       "        0.00000000e+00, -0.00000000e+00,  0.00000000e+00, -0.00000000e+00,\n",
       "       -0.00000000e+00, -0.00000000e+00,  0.00000000e+00, -7.07562883e-01,\n",
       "       -1.33468425e+00,  8.83139710e-03,  2.40336077e+00, -0.00000000e+00,\n",
       "        0.00000000e+00,  0.00000000e+00,  0.00000000e+00, -6.03063814e-01,\n",
       "       -0.00000000e+00,  7.47761127e-01,  0.00000000e+00,  0.00000000e+00,\n",
       "       -0.00000000e+00, -0.00000000e+00,  0.00000000e+00,  2.40440517e+00,\n",
       "        0.00000000e+00, -0.00000000e+00, -1.69766437e+00,  0.00000000e+00,\n",
       "        0.00000000e+00, -0.00000000e+00,  0.00000000e+00, -1.78830156e+00,\n",
       "       -8.28590668e-01,  1.63656634e+00,  4.59403937e-01,  7.69055581e+00,\n",
       "       -0.00000000e+00, -2.44679581e+00,  0.00000000e+00,  0.00000000e+00,\n",
       "       -0.00000000e+00,  0.00000000e+00, -1.09727960e+00, -4.82166175e-01,\n",
       "        0.00000000e+00,  0.00000000e+00,  0.00000000e+00, -4.80092720e+00,\n",
       "       -0.00000000e+00,  0.00000000e+00,  0.00000000e+00, -0.00000000e+00,\n",
       "        3.96445922e+00, -3.62344386e+00,  0.00000000e+00, -0.00000000e+00,\n",
       "        0.00000000e+00, -5.76040730e-01,  6.46231023e-01, -0.00000000e+00,\n",
       "       -0.00000000e+00,  3.36652290e-01,  0.00000000e+00,  9.25076073e+00,\n",
       "       -0.00000000e+00, -0.00000000e+00, -0.00000000e+00,  3.36276673e+00,\n",
       "       -0.00000000e+00, -0.00000000e+00,  0.00000000e+00, -2.66966973e+00,\n",
       "       -6.46128397e+00, -1.00545898e-01,  2.76039636e+00, -5.99854115e+00,\n",
       "        6.86539300e-03,  4.30526551e+00, -8.29075021e-01, -1.67129838e+00,\n",
       "        4.33804424e-01, -0.00000000e+00,  0.00000000e+00,  2.91969717e+00,\n",
       "       -2.09932409e-02, -5.98563985e+00,  1.78712835e-01, -1.51374838e+00,\n",
       "       -0.00000000e+00,  3.11009770e+00,  0.00000000e+00,  0.00000000e+00,\n",
       "       -0.00000000e+00,  3.12627825e-01, -0.00000000e+00, -0.00000000e+00,\n",
       "       -3.89194146e+00,  0.00000000e+00,  0.00000000e+00, -0.00000000e+00,\n",
       "       -0.00000000e+00, -0.00000000e+00,  2.06926335e+00])"
      ]
     },
     "execution_count": 48,
     "metadata": {},
     "output_type": "execute_result"
    }
   ],
   "source": [
    "lasso_regression.coef_"
   ]
  },
  {
   "cell_type": "markdown",
   "id": "af60435c",
   "metadata": {},
   "source": [
    "Prva 4 koeficijenta su uz numericke atribute, i oni nisu 0. Peti i sesti koeficijent su uz atribute koje smo ordinalno enkodirali, i oni takodje nisu 0. Vidimo da imamo nule samo uz neke od atributa koji su enkodirani pomocu OneHotEncoder-a. To su kategoricki atributi."
   ]
  },
  {
   "cell_type": "markdown",
   "id": "d5cdb144",
   "metadata": {},
   "source": [
    "# Poredjenje rezultata linearne regresije sa i bez regularizacije"
   ]
  },
  {
   "cell_type": "code",
   "execution_count": 49,
   "id": "52c4d5dd",
   "metadata": {},
   "outputs": [
    {
     "name": "stdout",
     "output_type": "stream",
     "text": [
      "Srednja kvadratna greska:\n",
      "Linearna regresija: 500604991357024534528.00\n",
      "Linearna regresija sa l2 regularizacijom: 121.35\n",
      "Linearna regresija sa l1 regularizacijom: 120.39\n"
     ]
    }
   ],
   "source": [
    "print('Srednja kvadratna greska:')\n",
    "print('Linearna regresija: %.2f' %linear_regression_mse)\n",
    "print('Linearna regresija sa l2 regularizacijom: %.2f' %ridge_regression_mse)\n",
    "print('Linearna regresija sa l1 regularizacijom: %.2f' %lasso_regression_mse)"
   ]
  },
  {
   "cell_type": "code",
   "execution_count": 50,
   "id": "c53a8225",
   "metadata": {},
   "outputs": [
    {
     "name": "stdout",
     "output_type": "stream",
     "text": [
      "Srednja apsolutna greska:\n",
      "Linearna regresija: 777758216.66\n",
      "Linearna regresija sa l2 regularizacijom: 8.00\n",
      "Linearna regresija sa l1 regularizacijom: 7.96\n"
     ]
    }
   ],
   "source": [
    "print('Srednja apsolutna greska:')\n",
    "print('Linearna regresija: %.2f' %linear_regression_absolute)\n",
    "print('Linearna regresija sa l2 regularizacijom: %.2f' %ridge_regression_absolute)\n",
    "print('Linearna regresija sa l1 regularizacijom: %.2f' %lasso_regression_absolute)"
   ]
  },
  {
   "cell_type": "code",
   "execution_count": 51,
   "id": "907167af",
   "metadata": {},
   "outputs": [
    {
     "name": "stdout",
     "output_type": "stream",
     "text": [
      "R2 score:\n",
      "Linearna regresija: -2033557816097715712.00\n",
      "Linearna regresija sa l2 regularizacijom: 0.51\n",
      "Linearna regresija sa l1 regularizacijom: 0.51\n"
     ]
    }
   ],
   "source": [
    "print('R2 score:')\n",
    "print('Linearna regresija: %.2f' %linear_regression_score)\n",
    "print('Linearna regresija sa l2 regularizacijom: %.2f' %ridge_regression_score)\n",
    "print('Linearna regresija sa l1 regularizacijom: %.2f' %lasso_regression_score)"
   ]
  },
  {
   "cell_type": "markdown",
   "id": "9df94fa5",
   "metadata": {},
   "source": [
    "Za model linearne regresije sa l1 regularizacijom imamo najbolje rezultate:\n",
    "MSE = 120.39,\n",
    "MAE = 7.96,\n",
    "R2 = 0.51."
   ]
  },
  {
   "cell_type": "code",
   "execution_count": null,
   "id": "4158a6a3",
   "metadata": {},
   "outputs": [],
   "source": []
  },
  {
   "cell_type": "markdown",
   "id": "4851546d",
   "metadata": {},
   "source": [
    "# Metoda potpornih vektora za regularizaciju (SVR)"
   ]
  },
  {
   "cell_type": "code",
   "execution_count": 52,
   "id": "0c363dc4",
   "metadata": {},
   "outputs": [],
   "source": [
    "X_train_and_validation, X_test, y_train_and_validation, y_test = \\\n",
    "    model_selection.train_test_split(X, y, test_size=0.2, random_state=7)"
   ]
  },
  {
   "cell_type": "code",
   "execution_count": 53,
   "id": "a94d018b",
   "metadata": {},
   "outputs": [],
   "source": [
    "# koristicemo RBF kernel - on ima parametar gamma\n",
    "# takodje imamo i parametar regularizacije C"
   ]
  },
  {
   "cell_type": "code",
   "execution_count": 54,
   "id": "94e34aa9",
   "metadata": {},
   "outputs": [],
   "source": [
    "gammas = np.array([0.001, 0.01, 0.1, 1.0, 10.0, 100.0, 1000.0])\n",
    "Cs = np.array([0.001, 0.01, 0.1, 1.0, 10.0, 100.0, 1000.0])"
   ]
  },
  {
   "cell_type": "code",
   "execution_count": 55,
   "id": "a890e149",
   "metadata": {},
   "outputs": [],
   "source": [
    "optimal_score = 0 \n",
    "optimal_gamma = 0\n",
    "optimal_C = 0\n",
    "validation_scores = []\n",
    "\n",
    "for gamma in gammas:\n",
    "    for C in Cs:\n",
    "        model = svm.SVR(kernel='rbf', gamma=gamma, C=C)\n",
    "        scores = cross_validation(model, X_train_and_validation, y_train_and_validation)\n",
    "        score = sum(scores)/len(scores)\n",
    "        validation_scores.append(score)\n",
    "        \n",
    "        if score > optimal_score: \n",
    "            optimal_score = score\n",
    "            optimal_gamma = gamma\n",
    "            optimal_C = C"
   ]
  },
  {
   "cell_type": "code",
   "execution_count": 56,
   "id": "5e96e8d6",
   "metadata": {},
   "outputs": [
    {
     "name": "stdout",
     "output_type": "stream",
     "text": [
      "R2 skor na skupu za validaciju: 0.48\n"
     ]
    }
   ],
   "source": [
    "print('R2 skor na skupu za validaciju: %.2f' %optimal_score) "
   ]
  },
  {
   "cell_type": "code",
   "execution_count": 57,
   "id": "76214023",
   "metadata": {},
   "outputs": [
    {
     "name": "stdout",
     "output_type": "stream",
     "text": [
      "Optimalna vrednost parametra gamma:  0.001\n",
      "Optimalna vrednost parametra C:  1000.0\n"
     ]
    }
   ],
   "source": [
    "print('Optimalna vrednost parametra gamma: ', optimal_gamma)\n",
    "print('Optimalna vrednost parametra C: ', optimal_C)"
   ]
  },
  {
   "cell_type": "code",
   "execution_count": 58,
   "id": "60378bc1",
   "metadata": {},
   "outputs": [],
   "source": [
    "# sada sa ovim gamma praavimo konacan model"
   ]
  },
  {
   "cell_type": "code",
   "execution_count": 59,
   "id": "db18b577",
   "metadata": {},
   "outputs": [],
   "source": [
    "scaler.fit(X_train_and_validation[:, 0:4])\n",
    "X_train_and_validation[:, 0:4] = scaler.transform(X_train_and_validation[:, 0:4])\n",
    "X_test[:, 0:4] = scaler.transform(X_test[:, 0:4])"
   ]
  },
  {
   "cell_type": "code",
   "execution_count": 60,
   "id": "49900223",
   "metadata": {},
   "outputs": [],
   "source": [
    "svm_regression = svm.SVR(kernel='rbf', gamma=optimal_gamma, C=optimal_C)"
   ]
  },
  {
   "cell_type": "code",
   "execution_count": 61,
   "id": "6dc5b6f3",
   "metadata": {},
   "outputs": [
    {
     "data": {
      "text/plain": [
       "SVR(C=1000.0, gamma=0.001)"
      ]
     },
     "execution_count": 61,
     "metadata": {},
     "output_type": "execute_result"
    }
   ],
   "source": [
    "# treniranje modela\n",
    "svm_regression.fit(X_train_and_validation, y_train_and_validation)"
   ]
  },
  {
   "cell_type": "code",
   "execution_count": 62,
   "id": "b4266a91",
   "metadata": {},
   "outputs": [],
   "source": [
    "# evaluacija\n",
    "svm_regression_score = svm_regression.score(X_test, y_test)"
   ]
  },
  {
   "cell_type": "code",
   "execution_count": 63,
   "id": "f26c833f",
   "metadata": {},
   "outputs": [],
   "source": [
    "svm_regression_mse = metrics.mean_squared_error(y_test, svm_regression.predict(X_test))\n",
    "svm_regression_absolute = metrics.mean_absolute_error(y_test, svm_regression.predict(X_test))"
   ]
  },
  {
   "cell_type": "code",
   "execution_count": 64,
   "id": "b7f6676d",
   "metadata": {},
   "outputs": [
    {
     "name": "stdout",
     "output_type": "stream",
     "text": [
      "R2 skor za model potpornih vektora: 0.53\n",
      "MSE za model potpornih vektora: 115.96\n",
      "Srednja apsolutna greska za model potpornih vektora: 7.69\n"
     ]
    }
   ],
   "source": [
    "print('R2 skor za model potpornih vektora: %.2f' %svm_regression_score) \n",
    "print('MSE za model potpornih vektora: %.2f' %svm_regression_mse) \n",
    "print('Srednja apsolutna greska za model potpornih vektora: %.2f' %svm_regression_absolute) "
   ]
  },
  {
   "cell_type": "markdown",
   "id": "1db57350",
   "metadata": {},
   "source": [
    "# Poredjenje rezultata"
   ]
  },
  {
   "cell_type": "code",
   "execution_count": 65,
   "id": "ca61a42f",
   "metadata": {},
   "outputs": [],
   "source": [
    "# ne mozemo crtati rezultate za obicnu linearnu regresiju zato sto su ogromni brojevi u odnosu na ostale modele"
   ]
  },
  {
   "cell_type": "code",
   "execution_count": 66,
   "id": "6eaf9aa0",
   "metadata": {},
   "outputs": [
    {
     "data": {
      "image/png": "[encoded data removed]",
      "text/plain": [
       "<Figure size 432x288 with 1 Axes>"
      ]
     },
     "metadata": {
      "needs_background": "light"
     },
     "output_type": "display_data"
    }
   ],
   "source": [
    "plt.barh([0, 1, 2], [ridge_regression_mse, lasso_regression_mse, svm_regression_mse], color='purple')\n",
    "plt.title('Poredjenje srednje kvadratne greske')\n",
    "plt.yticks([0, 1, 2], ['ridge', 'lasso', 'SVR'])\n",
    "plt.xlabel('MSE')\n",
    "plt.xlim([100, 135])\n",
    "plt.show()"
   ]
  },
  {
   "cell_type": "code",
   "execution_count": 67,
   "id": "94bd91f3",
   "metadata": {},
   "outputs": [
    {
     "data": {
      "image/png": "[encoded data removed]",
      "text/plain": [
       "<Figure size 432x288 with 1 Axes>"
      ]
     },
     "metadata": {
      "needs_background": "light"
     },
     "output_type": "display_data"
    }
   ],
   "source": [
    "plt.barh([0, 1, 2], [ridge_regression_absolute, lasso_regression_absolute, svm_regression_absolute], color='green')\n",
    "plt.title('Poredjenje srednje apsolutne greske')\n",
    "plt.yticks([0, 1, 2], ['ridge', 'lasso', 'SVR'])\n",
    "plt.xlabel('MAE')\n",
    "plt.xlim([6, 9])\n",
    "plt.show()"
   ]
  },
  {
   "cell_type": "code",
   "execution_count": 68,
   "id": "f95553bf",
   "metadata": {},
   "outputs": [
    {
     "data": {
      "image/png": "[encoded data removed]",
      "text/plain": [
       "<Figure size 432x288 with 1 Axes>"
      ]
     },
     "metadata": {
      "needs_background": "light"
     },
     "output_type": "display_data"
    }
   ],
   "source": [
    "plt.barh([0, 1, 2], [ridge_regression_score, lasso_regression_score, svm_regression_score], color='orange')\n",
    "plt.title('Poredjenje R2 skora')\n",
    "plt.yticks([0, 1, 2], ['ridge', 'lasso', 'SVR'])\n",
    "plt.xlabel('R2')\n",
    "plt.xlim([0.3, 0.55])\n",
    "plt.show()"
   ]
  },
  {
   "cell_type": "markdown",
   "id": "5871f9f4",
   "metadata": {},
   "source": [
    "Konacno, zakljucujemo da je najbolji model regresije model potpornih vektora sa parametrima gama = 0.001, C = 1000."
   ]
  },
  {
   "cell_type": "markdown",
   "id": "2212fb46",
   "metadata": {},
   "source": [
    "Za ovaj model dobili smo: MSE = 115.96, MAE = 7.69, R2 = 0.53."
   ]
  },
  {
   "cell_type": "code",
   "execution_count": null,
   "id": "476c8338",
   "metadata": {},
   "outputs": [],
   "source": []
  }
 ],
 "metadata": {
  "kernelspec": {
   "display_name": "Python 3 (ipykernel)",
   "language": "python",
   "name": "python3"
  },
  "language_info": {
   "codemirror_mode": {
    "name": "ipython",
    "version": 3
   },
   "file_extension": ".py",
   "mimetype": "text/x-python",
   "name": "python",
   "nbconvert_exporter": "python",
   "pygments_lexer": "ipython3",
   "version": "3.9.7"
  }
 },
 "nbformat": 4,
 "nbformat_minor": 5
}
