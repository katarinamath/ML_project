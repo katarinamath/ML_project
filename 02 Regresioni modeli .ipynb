{
 "cells": [
  {
   "cell_type": "markdown",
   "id": "d3a3c6c3",
   "metadata": {},
   "source": [
    "# Regresioni modeli "
   ]
  },
  {
   "cell_type": "code",
   "execution_count": 70,
   "id": "9906fad8",
   "metadata": {},
   "outputs": [],
   "source": [
    "import numpy as np\n",
    "from matplotlib import pyplot as plt\n",
    "from sklearn import model_selection, linear_model, metrics, svm, preprocessing, pipeline"
   ]
  },
  {
   "cell_type": "code",
   "execution_count": 71,
   "id": "61ca5f3e",
   "metadata": {},
   "outputs": [],
   "source": [
    "# prvo da ucitamo podatke iz prethodne sveske"
   ]
  },
  {
   "cell_type": "code",
   "execution_count": 72,
   "id": "f9955c90",
   "metadata": {},
   "outputs": [],
   "source": [
    "%store -r X_final"
   ]
  },
  {
   "cell_type": "code",
   "execution_count": 73,
   "id": "c7b26e89",
   "metadata": {},
   "outputs": [],
   "source": [
    "%store -r y_regression"
   ]
  },
  {
   "cell_type": "code",
   "execution_count": 74,
   "id": "295c8d35",
   "metadata": {},
   "outputs": [],
   "source": [
    "# preimenujmo X_final u X, a y_regression koji je tip Series prebacimo u niz, zato sto je i X visedimenzioni niz, \n",
    "# pa da budu istog tipa\n",
    "# to nam je sad skup podataka za modele regresije\n",
    "X = X_final\n",
    "y = y_regression.to_numpy()"
   ]
  },
  {
   "cell_type": "code",
   "execution_count": 75,
   "id": "750c6c3d",
   "metadata": {},
   "outputs": [],
   "source": [
    "np.random.seed(7)"
   ]
  },
  {
   "cell_type": "markdown",
   "id": "bcdc81d4",
   "metadata": {},
   "source": [
    "# Podela skupa podataka "
   ]
  },
  {
   "cell_type": "code",
   "execution_count": 76,
   "id": "e2d56fcd",
   "metadata": {},
   "outputs": [],
   "source": [
    "# delimo podatke tako da imamo 80% podataka u skupu za trening i validaciju, a 20% u skupu za testiranje"
   ]
  },
  {
   "cell_type": "code",
   "execution_count": 77,
   "id": "ff56e1a5",
   "metadata": {},
   "outputs": [],
   "source": [
    "X_train_and_validation, X_test, y_train_and_validation, y_test = \\\n",
    "    model_selection.train_test_split(X, y, test_size=0.2, random_state=7)"
   ]
  },
  {
   "cell_type": "code",
   "execution_count": 78,
   "id": "ec9e33f9",
   "metadata": {},
   "outputs": [
    {
     "name": "stdout",
     "output_type": "stream",
     "text": [
      "U skupu za treniranje i validaciju imamo instanci:  4422\n",
      "U skupu za testiranje imamo instanci:  1106\n"
     ]
    }
   ],
   "source": [
    "print('U skupu za treniranje i validaciju imamo instanci: ', X_train_and_validation.shape[0])\n",
    "print('U skupu za testiranje imamo instanci: ', X_test.shape[0])"
   ]
  },
  {
   "cell_type": "markdown",
   "id": "ae777802",
   "metadata": {},
   "source": [
    "# Linearna regresija "
   ]
  },
  {
   "cell_type": "code",
   "execution_count": 79,
   "id": "291c8ee3",
   "metadata": {},
   "outputs": [],
   "source": [
    "# Ovaj model nema hiperparametre, pa cemo model obucavati na skupu za trening i validaciju, a evaluiracemo na test skupu."
   ]
  },
  {
   "cell_type": "code",
   "execution_count": 80,
   "id": "e801b4be",
   "metadata": {},
   "outputs": [],
   "source": [
    "# Prvo moramo skaliramo podatke. U prve 4 kolone u dataframe-u X su nam numericki atributi i njih standardizujemo. \n",
    "# Ostali atributi su enkodirani i njih nije potrebno standardizovati."
   ]
  },
  {
   "cell_type": "code",
   "execution_count": 81,
   "id": "153a99da",
   "metadata": {},
   "outputs": [],
   "source": [
    "scaler = preprocessing.StandardScaler()\n",
    "scaler.fit(X_train_and_validation[:, 0:4])\n",
    "X_train_and_validation[:, 0:4] = scaler.transform(X_train_and_validation[:, 0:4])\n",
    "X_test[:, 0:4] = scaler.transform(X_test[:, 0:4])"
   ]
  },
  {
   "cell_type": "code",
   "execution_count": 82,
   "id": "7af15c99",
   "metadata": {},
   "outputs": [],
   "source": [
    "# model\n",
    "linear_regression = linear_model.LinearRegression()"
   ]
  },
  {
   "cell_type": "code",
   "execution_count": 83,
   "id": "20776aa3",
   "metadata": {},
   "outputs": [
    {
     "data": {
      "text/plain": [
       "LinearRegression()"
      ]
     },
     "execution_count": 83,
     "metadata": {},
     "output_type": "execute_result"
    }
   ],
   "source": [
    "# treniranje modela\n",
    "linear_regression.fit(X_train_and_validation, y_train_and_validation)"
   ]
  },
  {
   "cell_type": "code",
   "execution_count": 84,
   "id": "0c59d92c",
   "metadata": {},
   "outputs": [],
   "source": [
    "# evaluacija\n",
    "# score po defaultu izrecunava r2 score\n",
    "linear_regression_score = linear_regression.score(X_test, y_test)"
   ]
  },
  {
   "cell_type": "code",
   "execution_count": 85,
   "id": "4f3a4e85",
   "metadata": {},
   "outputs": [],
   "source": [
    "linear_regression_mse = metrics.mean_squared_error(y_test, linear_regression.predict(X_test))\n",
    "linear_regression_absolute = metrics.mean_absolute_error(y_test, linear_regression.predict(X_test))"
   ]
  },
  {
   "cell_type": "code",
   "execution_count": 86,
   "id": "27442109",
   "metadata": {},
   "outputs": [
    {
     "name": "stdout",
     "output_type": "stream",
     "text": [
      "R2 skor za obican model linearne regresije: -2033557816097715712.000\n",
      "MSE za obican model linearne regresije: 500604991357024534528.000\n",
      "Srednja apsolutna greska za obican model linearne regresije: 777758216.665\n"
     ]
    }
   ],
   "source": [
    "print('R2 skor za obican model linearne regresije: %.3f' %linear_regression_score) \n",
    "print('MSE za obican model linearne regresije: %.3f' %linear_regression_mse) \n",
    "print('Srednja apsolutna greska za obican model linearne regresije: %.3f' %linear_regression_absolute) "
   ]
  },
  {
   "cell_type": "markdown",
   "id": "3b016c7e",
   "metadata": {},
   "source": [
    "# Funkcija za unakrsnu validaciju"
   ]
  },
  {
   "cell_type": "code",
   "execution_count": 87,
   "id": "5950201b",
   "metadata": {},
   "outputs": [],
   "source": [
    "# s obzirom da skaliranje ne radimo na celom X, nego na samo prve 4 kolone, ne mozemo koristiti ugradjenu funkciju \n",
    "# cross_val_score, zato sto tu kada prosledimo pipeline sa modelom i skalerom, skalirace celo X, a to ne zelimo\n",
    "#\n",
    "# funkcija radi unakrsnu validaciju sa 10 slojeva i racuna r2 scor kao gresku "
   ]
  },
  {
   "cell_type": "code",
   "execution_count": 88,
   "id": "b6b14042",
   "metadata": {},
   "outputs": [],
   "source": [
    "def cross_validation (model, X_trainval, y_trainval):\n",
    "    \n",
    "    scores = []\n",
    "    kf = model_selection.KFold(n_splits=10)\n",
    "    \n",
    "    for train_indexes, validation_indexes in kf.split(X_trainval, y_trainval):\n",
    "        # pravimo skup za trening i za validaciju\n",
    "        X_train = X_trainval[train_indexes]\n",
    "        y_train = y_trainval[train_indexes]\n",
    "        X_validation = X_trainval[validation_indexes]\n",
    "        y_validation = y_trainval[validation_indexes]\n",
    "        \n",
    "        # skaliramo \n",
    "        scaler = preprocessing.StandardScaler()\n",
    "        scaler.fit(X_train[:, 0:4])\n",
    "        X_train[:, 0:4] = scaler.transform(X_train[:, 0:4])\n",
    "        X_validation[:, 0:4] = scaler.transform(X_validation[:, 0:4])\n",
    "        \n",
    "        # obucavanje modela\n",
    "        model.fit(X_train, y_train)\n",
    "        \n",
    "        # evaluacija na skupu za validaciju\n",
    "        score = model.score(X_validation, y_validation)\n",
    "        \n",
    "        scores.append(score)\n",
    "        return scores\n",
    "    "
   ]
  },
  {
   "cell_type": "code",
   "execution_count": null,
   "id": "e11767ba",
   "metadata": {},
   "outputs": [],
   "source": []
  },
  {
   "cell_type": "markdown",
   "id": "61a68350",
   "metadata": {},
   "source": [
    "# Linearna regresija sa l2 regularizacijom (ridge regression)"
   ]
  },
  {
   "cell_type": "code",
   "execution_count": 89,
   "id": "f650faea",
   "metadata": {},
   "outputs": [],
   "source": [
    "X_train_and_validation, X_test, y_train_and_validation, y_test = \\\n",
    "    model_selection.train_test_split(X, y, test_size=0.2, random_state=7)"
   ]
  },
  {
   "cell_type": "code",
   "execution_count": 90,
   "id": "c8f9197d",
   "metadata": {},
   "outputs": [],
   "source": [
    "# imamo regularizacioni parametar alpha\n",
    "# za izbor najboljeg parametra cemo uraditi unakrsnu validaciju sa 10 slojeva"
   ]
  },
  {
   "cell_type": "code",
   "execution_count": 91,
   "id": "675de001",
   "metadata": {},
   "outputs": [],
   "source": [
    "alphas = np.array([0.0001, 0.001, 0.01, 0.1, 1.0, 10.0, 100.0, 1000.0, 10000.0, 100000.0])"
   ]
  },
  {
   "cell_type": "code",
   "execution_count": 92,
   "id": "084642f0",
   "metadata": {},
   "outputs": [],
   "source": [
    "# sada unakrsnom validacijom biramo optimalni parametar \n",
    "optimal_score = 0\n",
    "optimal_alpha = 0\n",
    "validation_scores = []\n",
    "\n",
    "for alpha in alphas:\n",
    "    model = linear_model.Ridge(alpha=alpha, max_iter=500)\n",
    "    # unakrsnu validaciju radimo pomocu funkcije cross_validation koju smo malopre definisali\n",
    "    scores = cross_validation(model, X_train_and_validation, y_train_and_validation)\n",
    "    score = sum(scores)/len(scores)\n",
    "    validation_scores.append(score)\n",
    "    \n",
    "    if score > optimal_score:\n",
    "        optimal_score = score\n",
    "        optimal_alpha = alpha"
   ]
  },
  {
   "cell_type": "code",
   "execution_count": 93,
   "id": "15d3aead",
   "metadata": {},
   "outputs": [
    {
     "data": {
      "image/png": "[encoded data removed]",
      "text/plain": [
       "<Figure size 432x288 with 1 Axes>"
      ]
     },
     "metadata": {
      "needs_background": "light"
     },
     "output_type": "display_data"
    }
   ],
   "source": [
    "# nacrtajmo r2 skor na validacionom skupu za razlicite vrednosti parametra alpha\n",
    "plt.plot(alphas, validation_scores)\n",
    "plt.title('Greske za razlicite izbore parametra dobijene unakrsnom validacijom')\n",
    "plt.xscale('log')\n",
    "plt.xlabel('alpha')\n",
    "plt.ylabel('r2 score')\n",
    "plt.show()"
   ]
  },
  {
   "cell_type": "code",
   "execution_count": 94,
   "id": "d4e1833f",
   "metadata": {},
   "outputs": [
    {
     "name": "stdout",
     "output_type": "stream",
     "text": [
      "R2 skor na skupu za validaciju: 0.460\n"
     ]
    }
   ],
   "source": [
    "print('R2 skor na skupu za validaciju: %.3f' %optimal_score) "
   ]
  },
  {
   "cell_type": "code",
   "execution_count": 95,
   "id": "1f5a0547",
   "metadata": {},
   "outputs": [
    {
     "name": "stdout",
     "output_type": "stream",
     "text": [
      "Optimalna vrednost parametra alpha:  100.0\n"
     ]
    }
   ],
   "source": [
    "print('Optimalna vrednost parametra alpha: ', optimal_alpha)"
   ]
  },
  {
   "cell_type": "code",
   "execution_count": 96,
   "id": "58f9cbe8",
   "metadata": {},
   "outputs": [],
   "source": [
    "# sada sa ovim optimalnim alfa pravimo model:"
   ]
  },
  {
   "cell_type": "code",
   "execution_count": 97,
   "id": "b15a9ed3",
   "metadata": {},
   "outputs": [],
   "source": [
    "scaler_l2 = preprocessing.StandardScaler()\n",
    "scaler_l2.fit(X_train_and_validation[:, 0:4])\n",
    "X_train_and_validation[:, 0:4] = scaler_l2.transform(X_train_and_validation[:, 0:4])\n",
    "X_test[:, 0:4] = scaler_l2.transform(X_test[:, 0:4])"
   ]
  },
  {
   "cell_type": "code",
   "execution_count": 98,
   "id": "827b3e9e",
   "metadata": {},
   "outputs": [],
   "source": [
    "# model\n",
    "ridge_regression = linear_model.Ridge(alpha=optimal_alpha, max_iter=500)"
   ]
  },
  {
   "cell_type": "code",
   "execution_count": 99,
   "id": "da417ca2",
   "metadata": {},
   "outputs": [
    {
     "data": {
      "text/plain": [
       "Ridge(alpha=100.0, max_iter=500)"
      ]
     },
     "execution_count": 99,
     "metadata": {},
     "output_type": "execute_result"
    }
   ],
   "source": [
    "# treniranje modela\n",
    "ridge_regression.fit(X_train_and_validation, y_train_and_validation)"
   ]
  },
  {
   "cell_type": "code",
   "execution_count": 100,
   "id": "c0f9ee11",
   "metadata": {},
   "outputs": [],
   "source": [
    "# evaluacija \n",
    "ridge_regression_score = ridge_regression.score(X_test, y_test)"
   ]
  },
  {
   "cell_type": "code",
   "execution_count": 101,
   "id": "17edaf15",
   "metadata": {},
   "outputs": [],
   "source": [
    "ridge_regression_mse = metrics.mean_squared_error(y_test, ridge_regression.predict(X_test))\n",
    "ridge_regression_absolute = metrics.mean_absolute_error(y_test, ridge_regression.predict(X_test))"
   ]
  },
  {
   "cell_type": "code",
   "execution_count": 102,
   "id": "c19b0cb0",
   "metadata": {},
   "outputs": [
    {
     "name": "stdout",
     "output_type": "stream",
     "text": [
      "R2 skor za model linearne regresije sa l2 regularizacijom: 0.507\n",
      "MSE za model linearne regresije sa l2 regularizacijom: 121.352\n",
      "Srednja apsolutna greska za model linearne regresije sa l2 regularizacijom: 8.005\n"
     ]
    }
   ],
   "source": [
    "print('R2 skor za model linearne regresije sa l2 regularizacijom: %.3f' %ridge_regression_score) \n",
    "print('MSE za model linearne regresije sa l2 regularizacijom: %.3f' %ridge_regression_mse) \n",
    "print('Srednja apsolutna greska za model linearne regresije sa l2 regularizacijom: %.3f' %ridge_regression_absolute) "
   ]
  },
  {
   "cell_type": "code",
   "execution_count": 103,
   "id": "7ba7c2e5",
   "metadata": {},
   "outputs": [],
   "source": [
    "# vidimo da je mnogo bolja greska cim smo uradili regularizaciju"
   ]
  },
  {
   "cell_type": "markdown",
   "id": "4e7bd2ae",
   "metadata": {},
   "source": [
    "# Linearna regresija sa l1 regularizacijom (lasso regression)"
   ]
  },
  {
   "cell_type": "code",
   "execution_count": 104,
   "id": "fe261d4f",
   "metadata": {},
   "outputs": [],
   "source": [
    "X_train_and_validation, X_test, y_train_and_validation, y_test = \\\n",
    "    model_selection.train_test_split(X, y, test_size=0.2, random_state=7)"
   ]
  },
  {
   "cell_type": "code",
   "execution_count": 105,
   "id": "b478d527",
   "metadata": {},
   "outputs": [],
   "source": [
    "# i ovde imamo regularizacioni parametar \n",
    "# uzecemo iste alfe kao i malopre"
   ]
  },
  {
   "cell_type": "code",
   "execution_count": 106,
   "id": "73f490af",
   "metadata": {},
   "outputs": [
    {
     "data": {
      "text/plain": [
       "array([1.e-04, 1.e-03, 1.e-02, 1.e-01, 1.e+00, 1.e+01, 1.e+02, 1.e+03,\n",
       "       1.e+04, 1.e+05])"
      ]
     },
     "execution_count": 106,
     "metadata": {},
     "output_type": "execute_result"
    }
   ],
   "source": [
    "alphas"
   ]
  },
  {
   "cell_type": "code",
   "execution_count": 107,
   "id": "13ee1b2f",
   "metadata": {},
   "outputs": [],
   "source": [
    "# unakrsnom validacijom biramo optimalno alpha\n",
    "# staviljeno je max_iter 10000 zato sto nije iskonvergirali ni za 500, ni za 1000, ni za 2000\n",
    "optimal_score = 0\n",
    "optimal_alpha = 0\n",
    "validation_scores = []\n",
    "\n",
    "for alpha in alphas:\n",
    "    model = linear_model.Lasso(alpha=alpha, max_iter=10000)\n",
    "    scores = cross_validation(model, X_train_and_validation, y_train_and_validation)\n",
    "    score = sum(scores)/len(scores)\n",
    "    validation_scores.append(score)\n",
    "    \n",
    "    if score > optimal_score:\n",
    "        optimal_score = score\n",
    "        optimal_alpha = alpha"
   ]
  },
  {
   "cell_type": "code",
   "execution_count": 108,
   "id": "6323e5fe",
   "metadata": {},
   "outputs": [
    {
     "data": {
      "image/png": "[encoded data removed]",
      "text/plain": [
       "<Figure size 432x288 with 1 Axes>"
      ]
     },
     "metadata": {
      "needs_background": "light"
     },
     "output_type": "display_data"
    }
   ],
   "source": [
    "# crtamo grafika r2 skora na validacionom skupu za razlicite alphe\n",
    "plt.plot(alphas, validation_scores)\n",
    "plt.title('Greske za razlicite izbore parametra dobijene unakrsnom validacijom')\n",
    "plt.xscale('log')\n",
    "plt.xlabel('alpha')\n",
    "plt.ylabel('r2 score')\n",
    "plt.show()"
   ]
  },
  {
   "cell_type": "code",
   "execution_count": 109,
   "id": "441fbc3e",
   "metadata": {},
   "outputs": [
    {
     "name": "stdout",
     "output_type": "stream",
     "text": [
      "R2 skor na skupu za validaciju: 0.454\n"
     ]
    }
   ],
   "source": [
    "print('R2 skor na skupu za validaciju: %.3f' %optimal_score) "
   ]
  },
  {
   "cell_type": "code",
   "execution_count": 110,
   "id": "b476bf54",
   "metadata": {},
   "outputs": [
    {
     "name": "stdout",
     "output_type": "stream",
     "text": [
      "Optimalna vrednost parametra alpha:  0.01\n"
     ]
    }
   ],
   "source": [
    "print('Optimalna vrednost parametra alpha: ', optimal_alpha)"
   ]
  },
  {
   "cell_type": "code",
   "execution_count": 42,
   "id": "c7f0705e",
   "metadata": {},
   "outputs": [],
   "source": [
    "# sada sa ovim alfa pravimo konacan model"
   ]
  },
  {
   "cell_type": "code",
   "execution_count": 111,
   "id": "b24f220f",
   "metadata": {},
   "outputs": [],
   "source": [
    "scaler_l1 = preprocessing.StandardScaler()\n",
    "scaler_l1.fit(X_train_and_validation[:, 0:4])\n",
    "X_train_and_validation[:, 0:4] = scaler_l1.transform(X_train_and_validation[:, 0:4])\n",
    "X_test[:, 0:4] = scaler_l1.transform(X_test[:, 0:4])"
   ]
  },
  {
   "cell_type": "code",
   "execution_count": 112,
   "id": "db162b56",
   "metadata": {},
   "outputs": [],
   "source": [
    "# model\n",
    "lasso_regression = linear_model.Lasso(alpha=optimal_alpha, max_iter=10000)"
   ]
  },
  {
   "cell_type": "code",
   "execution_count": 113,
   "id": "6e5cdfaa",
   "metadata": {},
   "outputs": [
    {
     "data": {
      "text/plain": [
       "Lasso(alpha=0.01, max_iter=10000)"
      ]
     },
     "execution_count": 113,
     "metadata": {},
     "output_type": "execute_result"
    }
   ],
   "source": [
    "# treniranje \n",
    "lasso_regression.fit(X_train_and_validation, y_train_and_validation)"
   ]
  },
  {
   "cell_type": "code",
   "execution_count": 114,
   "id": "8a4a5334",
   "metadata": {},
   "outputs": [],
   "source": [
    "# evaluacija\n",
    "lasso_regression_score = lasso_regression.score(X_test, y_test)"
   ]
  },
  {
   "cell_type": "code",
   "execution_count": 115,
   "id": "935d62b2",
   "metadata": {},
   "outputs": [],
   "source": [
    "lasso_regression_mse = metrics.mean_squared_error(y_test, lasso_regression.predict(X_test))\n",
    "lasso_regression_absolute = metrics.mean_absolute_error(y_test, lasso_regression.predict(X_test))"
   ]
  },
  {
   "cell_type": "code",
   "execution_count": 116,
   "id": "d0e08b9f",
   "metadata": {},
   "outputs": [
    {
     "name": "stdout",
     "output_type": "stream",
     "text": [
      "R2 skor za model linearne regresije sa l1 regularizacijom: 0.511\n",
      "MSE za model linearne regresije sa l1 regularizacijom: 120.399\n",
      "Srednja apsolutna greska za model linearne regresije sa l1 regularizacijom: 7.956\n"
     ]
    }
   ],
   "source": [
    "print('R2 skor za model linearne regresije sa l1 regularizacijom: %.3f' %lasso_regression_score) \n",
    "print('MSE za model linearne regresije sa l1 regularizacijom: %.3f' %lasso_regression_mse) \n",
    "print('Srednja apsolutna greska za model linearne regresije sa l1 regularizacijom: %.3f' %lasso_regression_absolute) "
   ]
  },
  {
   "cell_type": "code",
   "execution_count": 117,
   "id": "1e1e2d64",
   "metadata": {},
   "outputs": [
    {
     "data": {
      "text/plain": [
       "array([ 7.54697625e-01,  3.43402243e+00,  4.05033890e-01,  8.50269734e-01,\n",
       "       -2.08975449e+00, -6.45107679e-01,  2.23716255e-01, -0.00000000e+00,\n",
       "       -0.00000000e+00,  5.90153464e-01, -2.42116657e+00, -1.01772487e+00,\n",
       "        1.74137402e+00, -1.20649517e+00, -0.00000000e+00,  6.92212665e-01,\n",
       "        1.91410550e+00,  4.48765554e-01,  0.00000000e+00,  3.12230332e+00,\n",
       "       -0.00000000e+00,  0.00000000e+00, -0.00000000e+00,  0.00000000e+00,\n",
       "        0.00000000e+00,  0.00000000e+00,  0.00000000e+00,  0.00000000e+00,\n",
       "       -0.00000000e+00,  2.11355957e+00,  0.00000000e+00,  0.00000000e+00,\n",
       "       -0.00000000e+00, -0.00000000e+00, -1.70398992e+00,  0.00000000e+00,\n",
       "       -2.11999513e-01,  0.00000000e+00,  0.00000000e+00, -0.00000000e+00,\n",
       "       -0.00000000e+00, -0.00000000e+00,  0.00000000e+00,  1.60893357e+00,\n",
       "       -3.33348865e+00,  0.00000000e+00, -0.00000000e+00,  0.00000000e+00,\n",
       "       -0.00000000e+00, -9.97730720e-01,  0.00000000e+00, -0.00000000e+00,\n",
       "        0.00000000e+00,  3.28725421e-01, -0.00000000e+00,  0.00000000e+00,\n",
       "       -0.00000000e+00,  4.87814571e-01,  0.00000000e+00, -7.52734895e-01,\n",
       "       -0.00000000e+00, -0.00000000e+00, -9.86638780e-01,  0.00000000e+00,\n",
       "       -4.37449713e-01,  8.97070845e-01,  0.00000000e+00,  2.32901758e-01,\n",
       "       -6.76728089e-01,  0.00000000e+00,  3.37685804e-01, -4.76172634e-01,\n",
       "        7.06919276e-01, -1.20377777e+00, -0.00000000e+00, -0.00000000e+00,\n",
       "        1.30360658e+00, -1.83346224e+00, -0.00000000e+00,  0.00000000e+00,\n",
       "        0.00000000e+00,  8.03833407e-01, -9.68074644e-02,  0.00000000e+00,\n",
       "        1.22939873e+00, -0.00000000e+00, -0.00000000e+00,  0.00000000e+00,\n",
       "       -8.50657307e-01,  2.01190039e+00,  1.74066788e+00,  0.00000000e+00,\n",
       "       -4.06960783e+00,  0.00000000e+00, -0.00000000e+00, -0.00000000e+00,\n",
       "        4.77261284e+00, -0.00000000e+00, -0.00000000e+00,  0.00000000e+00,\n",
       "       -0.00000000e+00,  0.00000000e+00,  0.00000000e+00,  0.00000000e+00,\n",
       "       -0.00000000e+00,  1.68045322e+00, -4.66086399e-14,  4.85228145e-01,\n",
       "       -6.06300140e+00,  0.00000000e+00, -1.11944146e+01,  2.36385777e+00,\n",
       "        0.00000000e+00, -0.00000000e+00,  6.57285723e+00, -0.00000000e+00,\n",
       "       -0.00000000e+00,  2.60340261e+01, -0.00000000e+00,  0.00000000e+00,\n",
       "       -0.00000000e+00, -0.00000000e+00,  1.04630843e+00, -0.00000000e+00,\n",
       "       -0.00000000e+00, -1.92209280e+00,  0.00000000e+00,  0.00000000e+00,\n",
       "        0.00000000e+00, -2.18945744e-01,  4.96929781e-01, -2.44175157e+00,\n",
       "        4.53944172e-16, -0.00000000e+00,  3.21432307e+00, -2.07865104e+00,\n",
       "        0.00000000e+00, -0.00000000e+00, -0.00000000e+00, -0.00000000e+00,\n",
       "        0.00000000e+00, -0.00000000e+00, -0.00000000e+00,  0.00000000e+00,\n",
       "       -0.00000000e+00, -2.88311854e+00, -1.17604969e+01,  3.62068554e+00,\n",
       "        0.00000000e+00, -0.00000000e+00, -0.00000000e+00,  0.00000000e+00,\n",
       "        0.00000000e+00,  0.00000000e+00, -0.00000000e+00,  0.00000000e+00,\n",
       "        0.00000000e+00, -0.00000000e+00,  0.00000000e+00, -0.00000000e+00,\n",
       "       -0.00000000e+00, -0.00000000e+00,  0.00000000e+00, -7.09068617e-01,\n",
       "       -1.33477639e+00,  7.81845622e-03,  2.40388121e+00, -0.00000000e+00,\n",
       "        0.00000000e+00,  0.00000000e+00,  0.00000000e+00, -6.02798434e-01,\n",
       "       -0.00000000e+00,  7.47261760e-01,  0.00000000e+00,  0.00000000e+00,\n",
       "       -0.00000000e+00, -0.00000000e+00,  0.00000000e+00,  2.40598384e+00,\n",
       "        0.00000000e+00, -0.00000000e+00, -1.69843249e+00,  0.00000000e+00,\n",
       "        0.00000000e+00, -0.00000000e+00,  0.00000000e+00, -1.78923622e+00,\n",
       "       -8.29233515e-01,  1.63677919e+00,  4.59471122e-01,  7.69085473e+00,\n",
       "       -0.00000000e+00, -2.44480399e+00,  0.00000000e+00,  0.00000000e+00,\n",
       "       -0.00000000e+00,  0.00000000e+00, -1.09754752e+00, -4.84790283e-01,\n",
       "        0.00000000e+00,  0.00000000e+00,  0.00000000e+00, -4.80143026e+00,\n",
       "       -0.00000000e+00,  0.00000000e+00,  0.00000000e+00, -0.00000000e+00,\n",
       "        3.96346691e+00, -3.62578630e+00,  0.00000000e+00, -0.00000000e+00,\n",
       "        0.00000000e+00, -5.76732317e-01,  6.46587439e-01, -0.00000000e+00,\n",
       "       -0.00000000e+00,  3.37498088e-01,  0.00000000e+00,  9.25048311e+00,\n",
       "       -0.00000000e+00, -0.00000000e+00, -0.00000000e+00,  3.36236644e+00,\n",
       "       -0.00000000e+00, -0.00000000e+00,  0.00000000e+00, -2.67000709e+00,\n",
       "       -6.45872298e+00, -1.01289613e-01,  2.76210946e+00, -5.99763913e+00,\n",
       "        6.27611257e-03,  4.30593452e+00, -8.29250137e-01, -1.67235628e+00,\n",
       "        4.33554682e-01, -0.00000000e+00,  0.00000000e+00,  2.91898547e+00,\n",
       "       -2.01766713e-02, -5.98542572e+00,  1.78506057e-01, -1.51275366e+00,\n",
       "       -0.00000000e+00,  3.10903997e+00,  0.00000000e+00,  0.00000000e+00,\n",
       "       -0.00000000e+00,  3.12256516e-01, -0.00000000e+00, -0.00000000e+00,\n",
       "       -3.89222130e+00,  0.00000000e+00,  0.00000000e+00, -0.00000000e+00,\n",
       "       -0.00000000e+00, -0.00000000e+00,  2.06900790e+00])"
      ]
     },
     "execution_count": 117,
     "metadata": {},
     "output_type": "execute_result"
    }
   ],
   "source": [
    "lasso_regression.coef_"
   ]
  },
  {
   "cell_type": "markdown",
   "id": "af60435c",
   "metadata": {},
   "source": [
    "Prva 4 koeficijenta su uz numericke atribute, i oni nisu 0. Peti i sesti koeficijent su uz atribute koje smo ordinalno enkodirali, i oni takodje nisu 0. Vidimo da imamo nule samo uz neke od atributa koji su enkodirani pomocu OneHotEncoder-a. To su kategoricki atributi."
   ]
  },
  {
   "cell_type": "markdown",
   "id": "d5cdb144",
   "metadata": {},
   "source": [
    "# Poredjenje rezultata linearne regresije sa i bez regularizacije"
   ]
  },
  {
   "cell_type": "code",
   "execution_count": 118,
   "id": "52c4d5dd",
   "metadata": {},
   "outputs": [
    {
     "name": "stdout",
     "output_type": "stream",
     "text": [
      "Srednja kvadratna greska:\n",
      "Linearna regresija: 500604991357024534528.000\n",
      "Linearna regresija sa l2 regularizacijom: 121.352\n",
      "Linearna regresija sa l1 regularizacijom: 120.399\n"
     ]
    }
   ],
   "source": [
    "print('Srednja kvadratna greska:')\n",
    "print('Linearna regresija: %.3f' %linear_regression_mse)\n",
    "print('Linearna regresija sa l2 regularizacijom: %.3f' %ridge_regression_mse)\n",
    "print('Linearna regresija sa l1 regularizacijom: %.3f' %lasso_regression_mse)"
   ]
  },
  {
   "cell_type": "code",
   "execution_count": 119,
   "id": "c53a8225",
   "metadata": {},
   "outputs": [
    {
     "name": "stdout",
     "output_type": "stream",
     "text": [
      "Srednja apsolutna greska:\n",
      "Linearna regresija: 777758216.665\n",
      "Linearna regresija sa l2 regularizacijom: 8.005\n",
      "Linearna regresija sa l1 regularizacijom: 7.956\n"
     ]
    }
   ],
   "source": [
    "print('Srednja apsolutna greska:')\n",
    "print('Linearna regresija: %.3f' %linear_regression_absolute)\n",
    "print('Linearna regresija sa l2 regularizacijom: %.3f' %ridge_regression_absolute)\n",
    "print('Linearna regresija sa l1 regularizacijom: %.3f' %lasso_regression_absolute)"
   ]
  },
  {
   "cell_type": "code",
   "execution_count": 120,
   "id": "907167af",
   "metadata": {},
   "outputs": [
    {
     "name": "stdout",
     "output_type": "stream",
     "text": [
      "R2 score:\n",
      "Linearna regresija: -2033557816097715712.000\n",
      "Linearna regresija sa l2 regularizacijom: 0.507\n",
      "Linearna regresija sa l1 regularizacijom: 0.511\n"
     ]
    }
   ],
   "source": [
    "print('R2 score:')\n",
    "print('Linearna regresija: %.3f' %linear_regression_score)\n",
    "print('Linearna regresija sa l2 regularizacijom: %.3f' %ridge_regression_score)\n",
    "print('Linearna regresija sa l1 regularizacijom: %.3f' %lasso_regression_score)"
   ]
  },
  {
   "cell_type": "markdown",
   "id": "9df94fa5",
   "metadata": {},
   "source": [
    "Za model linearne regresije sa l1 regularizacijom imamo najbolje rezultate:\n",
    "MSE = 120.399,\n",
    "MAE = 7.956,\n",
    "R2 = 0.511."
   ]
  },
  {
   "cell_type": "code",
   "execution_count": null,
   "id": "4158a6a3",
   "metadata": {},
   "outputs": [],
   "source": []
  },
  {
   "cell_type": "markdown",
   "id": "4851546d",
   "metadata": {},
   "source": [
    "# Metoda potpornih vektora za regularizaciju (SVR)"
   ]
  },
  {
   "cell_type": "code",
   "execution_count": 121,
   "id": "0c363dc4",
   "metadata": {},
   "outputs": [],
   "source": [
    "X_train_and_validation, X_test, y_train_and_validation, y_test = \\\n",
    "    model_selection.train_test_split(X, y, test_size=0.2, random_state=7)"
   ]
  },
  {
   "cell_type": "code",
   "execution_count": 122,
   "id": "a94d018b",
   "metadata": {},
   "outputs": [],
   "source": [
    "# koristicemo RBF kernel - on ima parametar gamma\n",
    "# takodje imamo i parametar regularizacije C"
   ]
  },
  {
   "cell_type": "code",
   "execution_count": 123,
   "id": "94e34aa9",
   "metadata": {},
   "outputs": [],
   "source": [
    "gammas = np.array([0.001, 0.01, 0.1, 1.0, 10.0, 100.0, 1000.0])\n",
    "Cs = np.array([0.001, 0.01, 0.1, 1.0, 10.0, 100.0, 1000.0])"
   ]
  },
  {
   "cell_type": "code",
   "execution_count": 124,
   "id": "a890e149",
   "metadata": {},
   "outputs": [],
   "source": [
    "optimal_score = 0 \n",
    "optimal_gamma = 0\n",
    "optimal_C = 0\n",
    "validation_scores = []\n",
    "\n",
    "for gamma in gammas:\n",
    "    for C in Cs:\n",
    "        model = svm.SVR(kernel='rbf', gamma=gamma, C=C)\n",
    "        scores = cross_validation(model, X_train_and_validation, y_train_and_validation)\n",
    "        score = sum(scores)/len(scores)\n",
    "        validation_scores.append(score)\n",
    "        \n",
    "        if score > optimal_score: \n",
    "            optimal_score = score\n",
    "            optimal_gamma = gamma\n",
    "            optimal_C = C"
   ]
  },
  {
   "cell_type": "code",
   "execution_count": 125,
   "id": "5e96e8d6",
   "metadata": {},
   "outputs": [
    {
     "name": "stdout",
     "output_type": "stream",
     "text": [
      "R2 skor na skupu za validaciju: 0.481\n"
     ]
    }
   ],
   "source": [
    "print('R2 skor na skupu za validaciju: %.3f' %optimal_score) "
   ]
  },
  {
   "cell_type": "code",
   "execution_count": 126,
   "id": "76214023",
   "metadata": {},
   "outputs": [
    {
     "name": "stdout",
     "output_type": "stream",
     "text": [
      "Optimalna vrednost parametra gamma:  0.001\n",
      "Optimalna vrednost parametra C:  1000.0\n"
     ]
    }
   ],
   "source": [
    "print('Optimalna vrednost parametra gamma: ', optimal_gamma)\n",
    "print('Optimalna vrednost parametra C: ', optimal_C)"
   ]
  },
  {
   "cell_type": "code",
   "execution_count": 127,
   "id": "60378bc1",
   "metadata": {},
   "outputs": [],
   "source": [
    "# sada sa ovim gamma praavimo konacan model"
   ]
  },
  {
   "cell_type": "code",
   "execution_count": 128,
   "id": "db18b577",
   "metadata": {},
   "outputs": [],
   "source": [
    "scaler_svr = preprocessing.StandardScaler()\n",
    "scaler_svr.fit(X_train_and_validation[:, 0:4])\n",
    "X_train_and_validation[:, 0:4] = scaler_svr.transform(X_train_and_validation[:, 0:4])\n",
    "X_test[:, 0:4] = scaler_svr.transform(X_test[:, 0:4])"
   ]
  },
  {
   "cell_type": "code",
   "execution_count": 129,
   "id": "49900223",
   "metadata": {},
   "outputs": [],
   "source": [
    "svm_regression = svm.SVR(kernel='rbf', gamma=optimal_gamma, C=optimal_C)"
   ]
  },
  {
   "cell_type": "code",
   "execution_count": 130,
   "id": "6dc5b6f3",
   "metadata": {},
   "outputs": [
    {
     "data": {
      "text/plain": [
       "SVR(C=1000.0, gamma=0.001)"
      ]
     },
     "execution_count": 130,
     "metadata": {},
     "output_type": "execute_result"
    }
   ],
   "source": [
    "# treniranje modela\n",
    "svm_regression.fit(X_train_and_validation, y_train_and_validation)"
   ]
  },
  {
   "cell_type": "code",
   "execution_count": 131,
   "id": "b4266a91",
   "metadata": {},
   "outputs": [],
   "source": [
    "# evaluacija\n",
    "svm_regression_score = svm_regression.score(X_test, y_test)"
   ]
  },
  {
   "cell_type": "code",
   "execution_count": 132,
   "id": "f26c833f",
   "metadata": {},
   "outputs": [],
   "source": [
    "svm_regression_mse = metrics.mean_squared_error(y_test, svm_regression.predict(X_test))\n",
    "svm_regression_absolute = metrics.mean_absolute_error(y_test, svm_regression.predict(X_test))"
   ]
  },
  {
   "cell_type": "code",
   "execution_count": 133,
   "id": "b7f6676d",
   "metadata": {},
   "outputs": [
    {
     "name": "stdout",
     "output_type": "stream",
     "text": [
      "R2 skor za model potpornih vektora: 0.529\n",
      "MSE za model potpornih vektora: 115.960\n",
      "Srednja apsolutna greska za model potpornih vektora: 7.693\n"
     ]
    }
   ],
   "source": [
    "print('R2 skor za model potpornih vektora: %.3f' %svm_regression_score) \n",
    "print('MSE za model potpornih vektora: %.3f' %svm_regression_mse) \n",
    "print('Srednja apsolutna greska za model potpornih vektora: %.3f' %svm_regression_absolute) "
   ]
  },
  {
   "cell_type": "markdown",
   "id": "1db57350",
   "metadata": {},
   "source": [
    "# Poredjenje rezultata"
   ]
  },
  {
   "cell_type": "code",
   "execution_count": 134,
   "id": "ca61a42f",
   "metadata": {},
   "outputs": [],
   "source": [
    "# ne mozemo crtati rezultate za obicnu linearnu regresiju zato sto su ogromni brojevi u odnosu na ostale modele"
   ]
  },
  {
   "cell_type": "code",
   "execution_count": 135,
   "id": "6eaf9aa0",
   "metadata": {},
   "outputs": [
    {
     "data": {
      "image/png": "[encoded data removed]",
      "text/plain": [
       "<Figure size 432x288 with 1 Axes>"
      ]
     },
     "metadata": {
      "needs_background": "light"
     },
     "output_type": "display_data"
    }
   ],
   "source": [
    "plt.barh([0, 1, 2], [ridge_regression_mse, lasso_regression_mse, svm_regression_mse], color='purple')\n",
    "plt.title('Poredjenje srednje kvadratne greske')\n",
    "plt.yticks([0, 1, 2], ['ridge', 'lasso', 'SVR'])\n",
    "plt.xlabel('MSE')\n",
    "plt.xlim([100, 135])\n",
    "plt.show()"
   ]
  },
  {
   "cell_type": "code",
   "execution_count": 136,
   "id": "94bd91f3",
   "metadata": {},
   "outputs": [
    {
     "data": {
      "image/png": "[encoded data removed]",
      "text/plain": [
       "<Figure size 432x288 with 1 Axes>"
      ]
     },
     "metadata": {
      "needs_background": "light"
     },
     "output_type": "display_data"
    }
   ],
   "source": [
    "plt.barh([0, 1, 2], [ridge_regression_absolute, lasso_regression_absolute, svm_regression_absolute], color='green')\n",
    "plt.title('Poredjenje srednje apsolutne greske')\n",
    "plt.yticks([0, 1, 2], ['ridge', 'lasso', 'SVR'])\n",
    "plt.xlabel('MAE')\n",
    "plt.xlim([6, 9])\n",
    "plt.show()"
   ]
  },
  {
   "cell_type": "code",
   "execution_count": 137,
   "id": "f95553bf",
   "metadata": {},
   "outputs": [
    {
     "data": {
      "image/png": "[encoded data removed]",
      "text/plain": [
       "<Figure size 432x288 with 1 Axes>"
      ]
     },
     "metadata": {
      "needs_background": "light"
     },
     "output_type": "display_data"
    }
   ],
   "source": [
    "plt.barh([0, 1, 2], [ridge_regression_score, lasso_regression_score, svm_regression_score], color='orange')\n",
    "plt.title('Poredjenje R2 skora')\n",
    "plt.yticks([0, 1, 2], ['ridge', 'lasso', 'SVR'])\n",
    "plt.xlabel('R2')\n",
    "plt.xlim([0.3, 0.55])\n",
    "plt.show()"
   ]
  },
  {
   "cell_type": "markdown",
   "id": "5871f9f4",
   "metadata": {},
   "source": [
    "Konacno, zakljucujemo da je najbolji model regresije model potpornih vektora sa parametrima gama = 0.001, C = 1000."
   ]
  },
  {
   "cell_type": "markdown",
   "id": "2212fb46",
   "metadata": {},
   "source": [
    "Za ovaj model dobili smo: MSE = 115.960, MAE = 7.693, R2 = 0.529."
   ]
  },
  {
   "cell_type": "code",
   "execution_count": null,
   "id": "476c8338",
   "metadata": {},
   "outputs": [],
   "source": []
  },
  {
   "cell_type": "markdown",
   "id": "71346cce",
   "metadata": {},
   "source": [
    "# Cuvanje najboljeg modela (SVR)"
   ]
  },
  {
   "cell_type": "code",
   "execution_count": 138,
   "id": "ba9e4a04",
   "metadata": {},
   "outputs": [],
   "source": [
    "import pickle "
   ]
  },
  {
   "cell_type": "code",
   "execution_count": 139,
   "id": "f633e3f6",
   "metadata": {},
   "outputs": [],
   "source": [
    "with open('required_dosage_of_warfarin.model', 'wb') as pickle_file:\n",
    "    pickle.dump(svm_regression, pickle_file)"
   ]
  },
  {
   "cell_type": "code",
   "execution_count": 140,
   "id": "064e3aca",
   "metadata": {},
   "outputs": [],
   "source": [
    "with open('required_dosage_of_warfarin.scaler', 'wb') as pickle_file:\n",
    "    pickle.dump(scaler_svr, pickle_file)"
   ]
  },
  {
   "cell_type": "code",
   "execution_count": null,
   "id": "690b20fe",
   "metadata": {},
   "outputs": [],
   "source": []
  }
 ],
 "metadata": {
  "kernelspec": {
   "display_name": "Python 3 (ipykernel)",
   "language": "python",
   "name": "python3"
  },
  "language_info": {
   "codemirror_mode": {
    "name": "ipython",
    "version": 3
   },
   "file_extension": ".py",
   "mimetype": "text/x-python",
   "name": "python",
   "nbconvert_exporter": "python",
   "pygments_lexer": "ipython3",
   "version": "3.9.7"
  }
 },
 "nbformat": 4,
 "nbformat_minor": 5
}
